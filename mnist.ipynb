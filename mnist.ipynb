{
  "nbformat": 4,
  "nbformat_minor": 0,
  "metadata": {
    "colab": {
      "name": "mnist.ipynb",
      "version": "0.3.2",
      "views": {},
      "default_view": {},
      "provenance": [],
      "collapsed_sections": [
        "lIASMWTblLMi",
        "__u14Rxdmr1g",
        "akBe4DcsqPYj"
      ]
    },
    "kernelspec": {
      "name": "python3",
      "display_name": "Python 3"
    },
    "accelerator": "GPU"
  },
  "cells": [
    {
      "metadata": {
        "id": "lIASMWTblLMi",
        "colab_type": "text"
      },
      "cell_type": "markdown",
      "source": [
        "## Setup"
      ]
    },
    {
      "metadata": {
        "id": "JkBsvD9dlNFj",
        "colab_type": "code",
        "colab": {
          "autoexec": {
            "startup": false,
            "wait_interval": 0
          },
          "base_uri": "https://localhost:8080/",
          "height": 445
        },
        "outputId": "5e19bf26-1bdb-4419-c6e7-044e9f7118b6",
        "executionInfo": {
          "status": "ok",
          "timestamp": 1524917300457,
          "user_tz": -60,
          "elapsed": 30222,
          "user": {
            "displayName": "Samanyou Garg",
            "photoUrl": "//lh5.googleusercontent.com/-yYTNXw2_dU4/AAAAAAAAAAI/AAAAAAAAVzA/HBeUyWJabjw/s50-c-k-no/photo.jpg",
            "userId": "100740094775367556925"
          }
        }
      },
      "cell_type": "code",
      "source": [
        "!pip install http://download.pytorch.org/whl/cu75/torch-0.3.0.post4-cp36-cp36m-linux_x86_64.whl  && pip install torchvision"
      ],
      "execution_count": 1,
      "outputs": [
        {
          "output_type": "stream",
          "text": [
            "Looking in indexes: https://pypi.org/simple, https://legacy.pypi.org/simple\r\n",
            "Collecting torch==0.3.0.post4 from http://download.pytorch.org/whl/cu75/torch-0.3.0.post4-cp36-cp36m-linux_x86_64.whl\n",
            "\u001b[?25l  Downloading http://download.pytorch.org/whl/cu75/torch-0.3.0.post4-cp36-cp36m-linux_x86_64.whl (397.4MB)\n",
            "\u001b[K    100% |████████████████████████████████| 397.4MB 44.8MB/s \n",
            "\u001b[?25hRequirement already satisfied: numpy in /usr/local/lib/python3.6/dist-packages (from torch==0.3.0.post4) (1.14.2)\n",
            "Requirement already satisfied: pyyaml in /usr/local/lib/python3.6/dist-packages (from torch==0.3.0.post4) (3.12)\n",
            "Installing collected packages: torch\n",
            "Successfully installed torch-0.3.0.post4\n",
            "Looking in indexes: https://pypi.org/simple, https://legacy.pypi.org/simple\n",
            "Collecting torchvision\n",
            "\u001b[?25l  Downloading https://files.pythonhosted.org/packages/ca/0d/f00b2885711e08bd71242ebe7b96561e6f6d01fdb4b9dcf4d37e2e13c5e1/torchvision-0.2.1-py2.py3-none-any.whl (54kB)\n",
            "\u001b[K    100% |████████████████████████████████| 61kB 3.8MB/s \n",
            "\u001b[?25hRequirement already satisfied: torch in /usr/local/lib/python3.6/dist-packages (from torchvision) (0.3.0.post4)\n",
            "Requirement already satisfied: numpy in /usr/local/lib/python3.6/dist-packages (from torchvision) (1.14.2)\n",
            "Requirement already satisfied: six in /usr/local/lib/python3.6/dist-packages (from torchvision) (1.11.0)\n",
            "Collecting pillow>=4.1.1 (from torchvision)\n",
            "\u001b[?25l  Downloading https://files.pythonhosted.org/packages/5f/4b/8b54ab9d37b93998c81b364557dff9f61972c0f650efa0ceaf470b392740/Pillow-5.1.0-cp36-cp36m-manylinux1_x86_64.whl (2.0MB)\n",
            "\u001b[K    100% |████████████████████████████████| 2.0MB 7.7MB/s \n",
            "\u001b[?25hRequirement already satisfied: pyyaml in /usr/local/lib/python3.6/dist-packages (from torch->torchvision) (3.12)\n",
            "Installing collected packages: pillow, torchvision\n",
            "  Found existing installation: Pillow 4.0.0\n",
            "    Uninstalling Pillow-4.0.0:\n",
            "      Successfully uninstalled Pillow-4.0.0\n",
            "Successfully installed pillow-5.1.0 torchvision-0.2.1\n"
          ],
          "name": "stdout"
        }
      ]
    },
    {
      "metadata": {
        "id": "XHbYme-ylVnL",
        "colab_type": "code",
        "colab": {
          "autoexec": {
            "startup": false,
            "wait_interval": 0
          },
          "base_uri": "https://localhost:8080/",
          "height": 496
        },
        "outputId": "6c9774a5-467c-45f3-f6ef-355067879d48",
        "executionInfo": {
          "status": "ok",
          "timestamp": 1524917313487,
          "user_tz": -60,
          "elapsed": 12914,
          "user": {
            "displayName": "Samanyou Garg",
            "photoUrl": "//lh5.googleusercontent.com/-yYTNXw2_dU4/AAAAAAAAAAI/AAAAAAAAVzA/HBeUyWJabjw/s50-c-k-no/photo.jpg",
            "userId": "100740094775367556925"
          }
        }
      },
      "cell_type": "code",
      "source": [
        "!pip install Pillow==4.0.0\n",
        "!pip install PIL\n",
        "!pip install image"
      ],
      "execution_count": 2,
      "outputs": [
        {
          "output_type": "stream",
          "text": [
            "Looking in indexes: https://pypi.org/simple, https://legacy.pypi.org/simple\r\n",
            "Collecting Pillow==4.0.0\n",
            "\u001b[?25l  Downloading https://files.pythonhosted.org/packages/37/e8/b3fbf87b0188d22246678f8cd61e23e31caa1769ebc06f1664e2e5fe8a17/Pillow-4.0.0-cp36-cp36m-manylinux1_x86_64.whl (5.6MB)\n",
            "\u001b[K    100% |████████████████████████████████| 5.6MB 8.0MB/s \n",
            "\u001b[?25hRequirement already satisfied: olefile in /usr/local/lib/python3.6/dist-packages (from Pillow==4.0.0) (0.45.1)\n",
            "\u001b[31mtorchvision 0.2.1 has requirement pillow>=4.1.1, but you'll have pillow 4.0.0 which is incompatible.\u001b[0m\n",
            "Installing collected packages: Pillow\n",
            "  Found existing installation: Pillow 5.1.0\n",
            "    Uninstalling Pillow-5.1.0:\n",
            "      Successfully uninstalled Pillow-5.1.0\n",
            "Successfully installed Pillow-4.0.0\n",
            "Looking in indexes: https://pypi.org/simple, https://legacy.pypi.org/simple\n",
            "Collecting PIL\n",
            "\u001b[31m  Could not find a version that satisfies the requirement PIL (from versions: )\u001b[0m\n",
            "\u001b[31mNo matching distribution found for PIL\u001b[0m\n",
            "Looking in indexes: https://pypi.org/simple, https://legacy.pypi.org/simple\n",
            "Collecting image\n",
            "  Downloading https://files.pythonhosted.org/packages/38/b6/ddc5025c0c2884cd0182820b42bdfa99d73b41bd8c4c306afac8dbfc151b/image-1.5.20-py2.py3-none-any.whl\n",
            "Requirement already satisfied: pillow in /usr/local/lib/python3.6/dist-packages (from image) (4.0.0)\n",
            "Collecting django (from image)\n",
            "\u001b[?25l  Downloading https://files.pythonhosted.org/packages/89/f9/94c20658f0cdecc2b6607811e2c0bb042408a51f589e5ad0cb0eac3236a1/Django-2.0.4-py3-none-any.whl (7.1MB)\n",
            "\u001b[K    100% |████████████████████████████████| 7.1MB 4.3MB/s \n",
            "\u001b[?25hRequirement already satisfied: olefile in /usr/local/lib/python3.6/dist-packages (from pillow->image) (0.45.1)\n",
            "Requirement already satisfied: pytz in /usr/local/lib/python3.6/dist-packages (from django->image) (2018.4)\n",
            "\u001b[31mtorchvision 0.2.1 has requirement pillow>=4.1.1, but you'll have pillow 4.0.0 which is incompatible.\u001b[0m\n",
            "Installing collected packages: django, image\n",
            "Successfully installed django-2.0.4 image-1.5.20\n"
          ],
          "name": "stdout"
        }
      ]
    },
    {
      "metadata": {
        "id": "ZLiFrUtflYSp",
        "colab_type": "code",
        "colab": {
          "autoexec": {
            "startup": false,
            "wait_interval": 0
          },
          "base_uri": "https://localhost:8080/",
          "height": 3437
        },
        "outputId": "3ffc4b62-a200-4e26-aa87-be55dc1bf036",
        "executionInfo": {
          "status": "ok",
          "timestamp": 1524917407190,
          "user_tz": -60,
          "elapsed": 93517,
          "user": {
            "displayName": "Samanyou Garg",
            "photoUrl": "//lh5.googleusercontent.com/-yYTNXw2_dU4/AAAAAAAAAAI/AAAAAAAAVzA/HBeUyWJabjw/s50-c-k-no/photo.jpg",
            "userId": "100740094775367556925"
          }
        }
      },
      "cell_type": "code",
      "source": [
        "!pip install fastai"
      ],
      "execution_count": 3,
      "outputs": [
        {
          "output_type": "stream",
          "text": [
            "Looking in indexes: https://pypi.org/simple, https://legacy.pypi.org/simple\r\n",
            "Collecting fastai\n",
            "\u001b[?25l  Downloading https://files.pythonhosted.org/packages/fb/7e/047b29a6d769b343d00b52c120757a5f71e0ef353b08d8b857a2a8735ad0/fastai-0.6.tar.gz (429kB)\n",
            "\u001b[K    100% |████████████████████████████████| 430kB 6.1MB/s \n",
            "\u001b[?25hCollecting awscli (from fastai)\n",
            "\u001b[?25l  Downloading https://files.pythonhosted.org/packages/26/a5/981fcedb0cba5cd167382878c92956229d14f0ac6846c71f2cd87906d474/awscli-1.15.10-py2.py3-none-any.whl (1.3MB)\n",
            "\u001b[K    100% |████████████████████████████████| 1.3MB 10.5MB/s \n",
            "\u001b[?25hCollecting bcolz (from fastai)\n",
            "\u001b[?25l  Downloading https://files.pythonhosted.org/packages/5c/4e/23942de9d5c0fb16f10335fa83e52b431bcb8c0d4a8419c9ac206268c279/bcolz-1.2.1.tar.gz (1.5MB)\n",
            "\u001b[K    100% |████████████████████████████████| 1.5MB 14.0MB/s \n",
            "\u001b[?25hRequirement already satisfied: bleach in /usr/local/lib/python3.6/dist-packages (from fastai) (1.5.0)\n",
            "Requirement already satisfied: certifi in /usr/local/lib/python3.6/dist-packages (from fastai) (2018.4.16)\n",
            "Requirement already satisfied: cycler in /usr/local/lib/python3.6/dist-packages (from fastai) (0.10.0)\n",
            "Requirement already satisfied: decorator in /usr/local/lib/python3.6/dist-packages (from fastai) (4.3.0)\n",
            "Requirement already satisfied: entrypoints in /usr/local/lib/python3.6/dist-packages (from fastai) (0.2.3)\n",
            "Collecting feather-format (from fastai)\n",
            "  Downloading https://files.pythonhosted.org/packages/08/55/940b97cc6f19a19f5dab9efef2f68a0ce43a7632f858b272391f0b851a7e/feather-format-0.4.0.tar.gz\n",
            "Collecting graphviz (from fastai)\n",
            "  Downloading https://files.pythonhosted.org/packages/05/e4/8fcc76823534d47f079c0ff1b3d8b57784e8fba63ceb1ded32c9f4dd993c/graphviz-0.8.2-py2.py3-none-any.whl\n",
            "Requirement already satisfied: html5lib in /usr/local/lib/python3.6/dist-packages (from fastai) (0.9999999)\n",
            "Requirement already satisfied: ipykernel in /usr/local/lib/python3.6/dist-packages (from fastai) (4.6.1)\n",
            "Requirement already satisfied: ipython in /usr/local/lib/python3.6/dist-packages (from fastai) (5.5.0)\n",
            "Requirement already satisfied: ipython-genutils in /usr/local/lib/python3.6/dist-packages (from fastai) (0.2.0)\n",
            "Collecting ipywidgets (from fastai)\n",
            "\u001b[?25l  Downloading https://files.pythonhosted.org/packages/7d/24/fabc09ad81c6071159a4d12d5bfbddcbea69bd9e3b16c3250ef300c0285f/ipywidgets-7.2.1-py2.py3-none-any.whl (106kB)\n",
            "\u001b[K    100% |████████████████████████████████| 112kB 19.4MB/s \n",
            "\u001b[?25hCollecting isoweek (from fastai)\n",
            "  Downloading https://files.pythonhosted.org/packages/c2/d4/fe7e2637975c476734fcbf53776e650a29680194eb0dd21dbdc020ca92de/isoweek-1.3.3-py2.py3-none-any.whl\n",
            "Collecting jedi (from fastai)\n",
            "\u001b[?25l  Downloading https://files.pythonhosted.org/packages/e7/42/074192a165622e645ed4aeade63e76e56b3496a044569b3c6cae3a918352/jedi-0.12.0-py2.py3-none-any.whl (172kB)\n",
            "\u001b[K    100% |████████████████████████████████| 174kB 10.9MB/s \n",
            "\u001b[?25hRequirement already satisfied: Jinja2 in /usr/local/lib/python3.6/dist-packages (from fastai) (2.10)\n",
            "Requirement already satisfied: jsonschema in /usr/local/lib/python3.6/dist-packages (from fastai) (2.6.0)\n",
            "Collecting jupyter (from fastai)\n",
            "  Downloading https://files.pythonhosted.org/packages/83/df/0f5dd132200728a86190397e1ea87cd76244e42d39ec5e88efd25b2abd7e/jupyter-1.0.0-py2.py3-none-any.whl\n",
            "Requirement already satisfied: jupyter-client in /usr/local/lib/python3.6/dist-packages (from fastai) (5.2.3)\n",
            "Collecting jupyter-console (from fastai)\n",
            "  Downloading https://files.pythonhosted.org/packages/77/82/6469cd7fccf7958cbe5dce2e623f1e3c5e27f1bb1ad36d90519bc2d5d370/jupyter_console-5.2.0-py2.py3-none-any.whl\n",
            "Collecting jupyter_contrib_nbextensions (from fastai)\n",
            "\u001b[?25l  Downloading https://files.pythonhosted.org/packages/d2/f1/57cd4d05d7f070e662844a925d6f6d726ecaf93d8cc2d7b56a66c765fb42/jupyter_contrib_nbextensions-0.5.0-py2.py3-none-any.whl (20.9MB)\n",
            "\u001b[K"
          ],
          "name": "stdout"
        },
        {
          "output_type": "stream",
          "text": [
            "\u001b[K    100% |████████████████████████████████| 20.9MB 2.0MB/s \n",
            "\u001b[?25hRequirement already satisfied: jupyter-core in /usr/local/lib/python3.6/dist-packages (from fastai) (4.4.0)\n",
            "Collecting kaggle-cli (from fastai)\n",
            "  Downloading https://files.pythonhosted.org/packages/67/61/710d02460bc4367ffd1f5e71cd9c031fb278f78aa0e8e32ca9dd99a2add8/kaggle-cli-0.12.13.tar.gz\n",
            "Requirement already satisfied: MarkupSafe in /usr/local/lib/python3.6/dist-packages (from fastai) (1.0)\n",
            "Requirement already satisfied: matplotlib in /usr/local/lib/python3.6/dist-packages (from fastai) (2.1.2)\n",
            "Requirement already satisfied: mistune in /usr/local/lib/python3.6/dist-packages (from fastai) (0.8.3)\n",
            "Requirement already satisfied: nbconvert in /usr/local/lib/python3.6/dist-packages (from fastai) (5.3.1)\n",
            "Requirement already satisfied: nbformat in /usr/local/lib/python3.6/dist-packages (from fastai) (4.4.0)\n",
            "Requirement already satisfied: notebook in /usr/local/lib/python3.6/dist-packages (from fastai) (5.2.2)\n",
            "Requirement already satisfied: numpy in /usr/local/lib/python3.6/dist-packages (from fastai) (1.14.2)\n",
            "Requirement already satisfied: olefile in /usr/local/lib/python3.6/dist-packages (from fastai) (0.45.1)\n",
            "Requirement already satisfied: opencv-python in /usr/local/lib/python3.6/dist-packages (from fastai) (3.4.0.12)\n",
            "Requirement already satisfied: pandas in /usr/local/lib/python3.6/dist-packages (from fastai) (0.22.0)\n",
            "Collecting pandas_summary (from fastai)\n",
            "  Downloading https://files.pythonhosted.org/packages/3d/a7/0364272be0c6561c45d67edec8a7bf0532d56b830438168f9078f7720f63/pandas-summary-0.0.41.tar.gz\n",
            "Requirement already satisfied: pandocfilters in /usr/local/lib/python3.6/dist-packages (from fastai) (1.4.2)\n",
            "Requirement already satisfied: pexpect in /usr/local/lib/python3.6/dist-packages (from fastai) (4.5.0)\n",
            "Requirement already satisfied: pickleshare in /usr/local/lib/python3.6/dist-packages (from fastai) (0.7.4)\n",
            "Requirement already satisfied: Pillow in /usr/local/lib/python3.6/dist-packages (from fastai) (4.0.0)\n",
            "Collecting plotnine (from fastai)\n",
            "\u001b[?25l  Downloading https://files.pythonhosted.org/packages/3a/68/cf39dfde4e9fd886703621e3393cd8103cb48d5ecc95b8f048ec148e53a6/plotnine-0.3.0-py2.py3-none-any.whl (3.4MB)\n",
            "\u001b[K    100% |████████████████████████████████| 3.4MB 12.3MB/s \n",
            "\u001b[?25hRequirement already satisfied: prompt-toolkit in /usr/local/lib/python3.6/dist-packages (from fastai) (1.0.15)\n",
            "Requirement already satisfied: ptyprocess in /usr/local/lib/python3.6/dist-packages (from fastai) (0.5.2)\n",
            "Requirement already satisfied: Pygments in /usr/local/lib/python3.6/dist-packages (from fastai) (2.1.3)\n",
            "Requirement already satisfied: pyparsing in /usr/local/lib/python3.6/dist-packages (from fastai) (2.2.0)\n",
            "Requirement already satisfied: python-dateutil in /usr/local/lib/python3.6/dist-packages (from fastai) (2.5.3)\n",
            "Requirement already satisfied: pytz in /usr/local/lib/python3.6/dist-packages (from fastai) (2018.4)\n",
            "Requirement already satisfied: PyYAML in /usr/local/lib/python3.6/dist-packages (from fastai) (3.12)\n",
            "Requirement already satisfied: pyzmq in /usr/local/lib/python3.6/dist-packages (from fastai) (16.0.4)\n",
            "Collecting qtconsole (from fastai)\n",
            "\u001b[?25l  Downloading https://files.pythonhosted.org/packages/90/ff/047e0dca2627b162866920e7aa93f04523c0ae81e5c67060eec85701992d/qtconsole-4.3.1-py2.py3-none-any.whl (108kB)\n",
            "\u001b[K    100% |████████████████████████████████| 112kB 24.6MB/s \n",
            "\u001b[?25hRequirement already satisfied: scipy in /usr/local/lib/python3.6/dist-packages (from fastai) (0.19.1)\n",
            "Requirement already satisfied: seaborn in /usr/local/lib/python3.6/dist-packages (from fastai) (0.7.1)\n",
            "Requirement already satisfied: simplegeneric in /usr/local/lib/python3.6/dist-packages (from fastai) (0.8.1)\n",
            "Requirement already satisfied: six in /usr/local/lib/python3.6/dist-packages (from fastai) (1.11.0)\n",
            "Collecting sklearn_pandas (from fastai)\n",
            "  Downloading https://files.pythonhosted.org/packages/c5/9e/42d7bcddb09a3ff52d0c60c810ba5d0fded28abbe320c85bbf7368192956/sklearn_pandas-1.6.0-py2.py3-none-any.whl\n",
            "Requirement already satisfied: terminado in /usr/local/lib/python3.6/dist-packages (from fastai) (0.8.1)\n",
            "Requirement already satisfied: testpath in /usr/local/lib/python3.6/dist-packages (from fastai) (0.3.1)\n",
            "Collecting torchtext (from fastai)\n",
            "\u001b[?25l  Downloading https://files.pythonhosted.org/packages/78/90/474d5944d43001a6e72b9aaed5c3e4f77516fbef2317002da2096fd8b5ea/torchtext-0.2.3.tar.gz (42kB)\n",
            "\u001b[K    100% |████████████████████████████████| 51kB 21.6MB/s \n",
            "\u001b[?25hRequirement already satisfied: tornado in /usr/local/lib/python3.6/dist-packages (from fastai) (4.5.3)\n",
            "Collecting tqdm (from fastai)\n",
            "\u001b[?25l  Downloading https://files.pythonhosted.org/packages/c2/d4/bf1d99216672eef50392c009a8d0f282c4b643e4f764c962ff7b611ebce4/tqdm-4.23.1-py2.py3-none-any.whl (42kB)\n",
            "\u001b[K    100% |████████████████████████████████| 51kB 17.8MB/s \n",
            "\u001b[?25hRequirement already satisfied: traitlets in /usr/local/lib/python3.6/dist-packages (from fastai) (4.3.2)\n",
            "Requirement already satisfied: wcwidth in /usr/local/lib/python3.6/dist-packages (from fastai) (0.1.7)\n",
            "Requirement already satisfied: webencodings in /usr/local/lib/python3.6/dist-packages (from fastai) (0.5.1)\n",
            "Collecting widgetsnbextension (from fastai)\n",
            "\u001b[?25l  Downloading https://files.pythonhosted.org/packages/ff/fa/64acc09fc845a6b2dc0724d6f3f81e829b778ed5e9a7559567b4f19a3f4b/widgetsnbextension-3.2.1-py2.py3-none-any.whl (2.2MB)\n",
            "\u001b[K    100% |████████████████████████████████| 2.2MB 10.5MB/s \n",
            "\u001b[?25hRequirement already satisfied: rsa<=3.5.0,>=3.1.2 in /usr/local/lib/python3.6/dist-packages (from awscli->fastai) (3.4.2)\n"
          ],
          "name": "stdout"
        },
        {
          "output_type": "stream",
          "text": [
            "Collecting botocore==1.10.10 (from awscli->fastai)\n",
            "\u001b[?25l  Downloading https://files.pythonhosted.org/packages/77/c9/a40ebce24bbab4c7986fccdac9dade097385ad2feae73dcc47d31a1b4dc8/botocore-1.10.10-py2.py3-none-any.whl (4.2MB)\n",
            "\u001b[K    100% |████████████████████████████████| 4.2MB 8.1MB/s \n",
            "\u001b[?25hCollecting s3transfer<0.2.0,>=0.1.12 (from awscli->fastai)\n",
            "\u001b[?25l  Downloading https://files.pythonhosted.org/packages/d7/14/2a0004d487464d120c9fb85313a75cd3d71a7506955be458eebfe19a6b1d/s3transfer-0.1.13-py2.py3-none-any.whl (59kB)\n",
            "\u001b[K    100% |████████████████████████████████| 61kB 17.6MB/s \n",
            "\u001b[?25hCollecting colorama<=0.3.7,>=0.2.5 (from awscli->fastai)\n",
            "  Downloading https://files.pythonhosted.org/packages/b7/8e/ddb32ddaabd431813e180ca224e844bab8ad42fbb47ee07553f0ec44cd86/colorama-0.3.7-py2.py3-none-any.whl\n",
            "Collecting docutils>=0.10 (from awscli->fastai)\n",
            "\u001b[?25l  Downloading https://files.pythonhosted.org/packages/36/fa/08e9e6e0e3cbd1d362c3bbee8d01d0aedb2155c4ac112b19ef3cae8eed8d/docutils-0.14-py3-none-any.whl (543kB)\n",
            "\u001b[K    100% |████████████████████████████████| 552kB 21.6MB/s \n",
            "\u001b[?25hCollecting pyarrow>=0.4.0 (from feather-format->fastai)\n",
            "\u001b[?25l  Downloading https://files.pythonhosted.org/packages/fe/27/576e6c979bfa5f63070f809c930aa85d6198b91d17a64866234597ba861f/pyarrow-0.9.0-cp36-cp36m-manylinux1_x86_64.whl (13.7MB)\n",
            "\u001b[K    100% |████████████████████████████████| 13.7MB 3.3MB/s \n",
            "\u001b[?25hRequirement already satisfied: setuptools>=18.5 in /usr/local/lib/python3.6/dist-packages (from ipython->fastai) (39.0.1)\n",
            "Collecting parso>=0.2.0 (from jedi->fastai)\n",
            "\u001b[?25l  Downloading https://files.pythonhosted.org/packages/63/69/0c383765d192006330bfaae27a2c5d0933fb4760c5aacd933b8b19391693/parso-0.2.0-py2.py3-none-any.whl (90kB)\n",
            "\u001b[K    100% |████████████████████████████████| 92kB 21.9MB/s \n",
            "\u001b[?25hCollecting jupyter-contrib-core>=0.3.3 (from jupyter_contrib_nbextensions->fastai)\n",
            "  Downloading https://files.pythonhosted.org/packages/e6/8f/04a752a8b66a66e7092c035e5d87d2502ac7ec07f9fb6059059b6c0dc272/jupyter_contrib_core-0.3.3-py2.py3-none-any.whl\n",
            "Collecting lxml (from jupyter_contrib_nbextensions->fastai)\n",
            "\u001b[?25l  Downloading https://files.pythonhosted.org/packages/a7/b9/ccf46cea0f698b40bca2a9c1a44039c336fe1988b82de4f7353be7a8396a/lxml-4.2.1-cp36-cp36m-manylinux1_x86_64.whl (5.6MB)\n",
            "\u001b[K    100% |████████████████████████████████| 5.7MB 10.8MB/s \n",
            "\u001b[?25hCollecting jupyter-nbextensions-configurator>=0.4.0 (from jupyter_contrib_nbextensions->fastai)\n",
            "\u001b[?25l  Downloading https://files.pythonhosted.org/packages/d1/d8/6bf103e0eafd17caef39c37ff70b8d61bfb21cc8cd91c81ba51755421a34/jupyter_nbextensions_configurator-0.4.0-py2.py3-none-any.whl (466kB)\n",
            "\u001b[K    100% |████████████████████████████████| 471kB 12.2MB/s \n",
            "\u001b[?25hCollecting jupyter-latex-envs>=1.3.8 (from jupyter_contrib_nbextensions->fastai)\n",
            "\u001b[?25l  Downloading https://files.pythonhosted.org/packages/98/db/ef83fb7a8dd71a1c38d8cc5484bb5226dcd8dd996483d6ad3d944670c57b/jupyter_latex_envs-1.4.4.tar.gz (855kB)\n",
            "\u001b[K    100% |████████████████████████████████| 860kB 21.9MB/s \n",
            "\u001b[?25hCollecting jupyter-highlight-selected-word>=0.1.1 (from jupyter_contrib_nbextensions->fastai)\n",
            "  Downloading https://files.pythonhosted.org/packages/50/d7/19ab7cfd60bf268d2abbacc52d4295a40f52d74dfc0d938e4761ee5e598b/jupyter_highlight_selected_word-0.2.0-py2.py3-none-any.whl\n",
            "Collecting cliff<2.9,>=2.8.0 (from kaggle-cli->fastai)\n",
            "\u001b[?25l  Downloading https://files.pythonhosted.org/packages/ee/e8/140ad9b5826920a8b85c187095e7725b87b913fc40243aa66dd04e9d82d6/cliff-2.8.1.tar.gz (73kB)\n",
            "\u001b[K    100% |████████████████████████████████| 81kB 20.0MB/s \n",
            "\u001b[?25hCollecting MechanicalSoup<0.9,>=0.7.0 (from kaggle-cli->fastai)\n",
            "  Downloading https://files.pythonhosted.org/packages/5c/2e/f63ed26b51e36efa4cc22cad18187fcb0a253f756d548c96bb931f13de98/MechanicalSoup-0.8.0-py2.py3-none-any.whl\n",
            "Collecting cssselect<1.1,>=1.0.1 (from kaggle-cli->fastai)\n",
            "  Downloading https://files.pythonhosted.org/packages/7b/44/25b7283e50585f0b4156960691d951b05d061abf4a714078393e51929b30/cssselect-1.0.3-py2.py3-none-any.whl\n",
            "Collecting configparser (from kaggle-cli->fastai)\n",
            "  Downloading https://files.pythonhosted.org/packages/7c/69/c2ce7e91c89dc073eb1aa74c0621c3eefbffe8216b3f9af9d3885265c01c/configparser-3.5.0.tar.gz\n",
            "Collecting progressbar2<3.35,>=3.34.3 (from kaggle-cli->fastai)\n"
          ],
          "name": "stdout"
        },
        {
          "output_type": "stream",
          "text": [
            "  Downloading https://files.pythonhosted.org/packages/87/31/b984e17bcc7491c1baeda3906fe3abc14cb5cd5dbd046ab46d9fc7a2edfd/progressbar2-3.34.3-py2.py3-none-any.whl\n",
            "Requirement already satisfied: beautifulsoup4<4.7,>=4.6.0 in /usr/local/lib/python3.6/dist-packages (from kaggle-cli->fastai) (4.6.0)\n",
            "Collecting mizani>=0.4.1 (from plotnine->fastai)\n",
            "\u001b[?25l  Downloading https://files.pythonhosted.org/packages/52/01/8a3b4c6e45749674a1e5241174b4b63cd6435125e124bec275f3e02c96ac/mizani-0.4.6-py2.py3-none-any.whl (65kB)\n",
            "\u001b[K    100% |████████████████████████████████| 71kB 16.1MB/s \n",
            "\u001b[?25hRequirement already satisfied: statsmodels>=0.8.0 in /usr/local/lib/python3.6/dist-packages (from plotnine->fastai) (0.8.0)\n",
            "Requirement already satisfied: patsy>=0.4.1 in /usr/local/lib/python3.6/dist-packages (from plotnine->fastai) (0.5.0)\n",
            "Requirement already satisfied: scikit-learn>=0.15.0 in /usr/local/lib/python3.6/dist-packages (from sklearn_pandas->fastai) (0.19.1)\n",
            "Requirement already satisfied: requests in /usr/local/lib/python3.6/dist-packages (from torchtext->fastai) (2.18.4)\n",
            "Requirement already satisfied: pyasn1>=0.1.3 in /usr/local/lib/python3.6/dist-packages (from rsa<=3.5.0,>=3.1.2->awscli->fastai) (0.4.2)\n",
            "Collecting jmespath<1.0.0,>=0.7.1 (from botocore==1.10.10->awscli->fastai)\n",
            "  Downloading https://files.pythonhosted.org/packages/b7/31/05c8d001f7f87f0f07289a5fc0fc3832e9a57f2dbd4d3b0fee70e0d51365/jmespath-0.9.3-py2.py3-none-any.whl\n",
            "Collecting pbr!=2.1.0,>=2.0.0 (from cliff<2.9,>=2.8.0->kaggle-cli->fastai)\n",
            "\u001b[33m  Cache entry deserialization failed, entry ignored\u001b[0m\n",
            "\u001b[33m  Cache entry deserialization failed, entry ignored\u001b[0m\n",
            "\u001b[?25l  Downloading https://files.pythonhosted.org/packages/e1/ba/f95e3ec83f93919b1437028e989cf3fa5ff4f5cae4a1f62255f71deddb5b/pbr-4.0.2-py2.py3-none-any.whl (98kB)\n",
            "\u001b[K    100% |████████████████████████████████| 102kB 15.5MB/s \n",
            "\u001b[?25hCollecting cmd2>=0.6.7 (from cliff<2.9,>=2.8.0->kaggle-cli->fastai)\n",
            "\u001b[?25l  Downloading https://files.pythonhosted.org/packages/ee/02/faa35704449a68f18db39ee9a047e32c8b569e672daadfef3501259fe6bb/cmd2-0.8.5-py2.py3-none-any.whl (51kB)\n",
            "\u001b[K    100% |████████████████████████████████| 61kB 19.5MB/s \n",
            "\u001b[?25hCollecting PrettyTable<0.8,>=0.7.1 (from cliff<2.9,>=2.8.0->kaggle-cli->fastai)\n",
            "  Downloading https://files.pythonhosted.org/packages/ef/30/4b0746848746ed5941f052479e7c23d2b56d174b82f4fd34a25e389831f5/prettytable-0.7.2.tar.bz2\n",
            "Collecting stevedore>=1.20.0 (from cliff<2.9,>=2.8.0->kaggle-cli->fastai)\n",
            "  Downloading https://files.pythonhosted.org/packages/17/6b/3b7d6d08b2ab3e5ef09e01c9f7b3b590ee135f289bb94553419e40922c25/stevedore-1.28.0-py2.py3-none-any.whl\n",
            "Collecting python-utils>=2.1.0 (from progressbar2<3.35,>=3.34.3->kaggle-cli->fastai)\n",
            "  Downloading https://files.pythonhosted.org/packages/eb/a0/19119d8b7c05be49baf6c593f11c432d571b70d805f2fe94c0585e55e4c8/python_utils-2.3.0-py2.py3-none-any.whl\n",
            "Collecting palettable (from mizani>=0.4.1->plotnine->fastai)\n",
            "\u001b[?25l  Downloading https://files.pythonhosted.org/packages/ba/cc/54b3ebfc5d3369e242c600ed49dcdcd3f53a9ac46b082da274386859c821/palettable-3.1.0-py2.py3-none-any.whl (78kB)\n",
            "\u001b[K    100% |████████████████████████████████| 81kB 18.8MB/s \n",
            "\u001b[?25hRequirement already satisfied: idna<2.7,>=2.5 in /usr/local/lib/python3.6/dist-packages (from requests->torchtext->fastai) (2.6)\n",
            "Requirement already satisfied: urllib3<1.23,>=1.21.1 in /usr/local/lib/python3.6/dist-packages (from requests->torchtext->fastai) (1.22)\n",
            "Requirement already satisfied: chardet<3.1.0,>=3.0.2 in /usr/local/lib/python3.6/dist-packages (from requests->torchtext->fastai) (3.0.4)\n",
            "Collecting pyperclip (from cmd2>=0.6.7->cliff<2.9,>=2.8.0->kaggle-cli->fastai)\n",
            "  Downloading https://files.pythonhosted.org/packages/5b/06/86e3c6a55cacef0e4ec7c25379ff7fcd1a88fd939ecefd442b535c792fa4/pyperclip-1.6.0.tar.gz\n",
            "Building wheels for collected packages: fastai, bcolz, feather-format, kaggle-cli, pandas-summary, torchtext, jupyter-latex-envs, cliff, configparser, PrettyTable, pyperclip\n",
            "  Running setup.py bdist_wheel for fastai ... \u001b[?25l-\b \b\\\b \bdone\n",
            "\u001b[?25h  Stored in directory: /content/.cache/pip/wheels/98/2b/88/fe4cfe5bfa9cfea91cdfd2fe205f88746bf103f7b2994dffba\n",
            "  Running setup.py bdist_wheel for bcolz ... \u001b[?25l-\b \b\\\b \b|\b \b/\b \b-\b \b\\\b \b|\b \b/"
          ],
          "name": "stdout"
        },
        {
          "output_type": "stream",
          "text": [
            "\b \b-\b \b\\\b \b|\b \b/\b \b-\b \b\\\b \b|\b \b/\b \b-\b \b\\\b \b|\b \b/\b \b-\b \b\\\b \b|\b \b/\b \b-\b \b\\\b \b|\b \b/\b \b-\b \b\\\b \b|\b \b/\b \b-\b \b\\\b \b|\b \b/\b \b-\b \b\\\b \b|\b \b/\b \b-\b \b\\\b \b|\b \b/\b \b-\b \b\\\b \b|\b \b/\b \b-\b \b\\\b \b|\b \b/\b \b-\b \b\\\b \b|\b \b/\b \b-\b \b\\\b \b|\b \b/\b \b-\b \b\\\b \bdone\n",
            "\u001b[?25h  Stored in directory: /content/.cache/pip/wheels/9f/78/26/fb8c0acb91a100dc8914bf236c4eaa4b207cb876893c40b745\n",
            "  Running setup.py bdist_wheel for feather-format ... \u001b[?25l-\b \bdone\n",
            "\u001b[?25h  Stored in directory: /content/.cache/pip/wheels/85/7d/12/2dfa5c0195f921ac935f5e8f27deada74972edc0ae9988a9c1\n",
            "  Running setup.py bdist_wheel for kaggle-cli ... \u001b[?25l-\b \bdone\n",
            "\u001b[?25h  Stored in directory: /content/.cache/pip/wheels/d5/bb/10/c1dd1b08c7433c943cb55c46367ae3f891415e8a37300ff8a7\n",
            "  Running setup.py bdist_wheel for pandas-summary ... \u001b[?25l-\b \bdone\n",
            "\u001b[?25h  Stored in directory: /content/.cache/pip/wheels/86/a9/6b/36b727a9ec687dac08bd3d0501cddd7b1a223943513eb04a03\n",
            "  Running setup.py bdist_wheel for torchtext ... \u001b[?25l-\b \b\\\b \bdone\n",
            "\u001b[?25h  Stored in directory: /content/.cache/pip/wheels/42/a6/f4/b267328bde6bb680094a0c173e8e5627ccc99543abded97204\n",
            "  Running setup.py bdist_wheel for jupyter-latex-envs ... \u001b[?25l-\b \b\\\b \bdone\n",
            "\u001b[?25h  Stored in directory: /content/.cache/pip/wheels/65/c1/0f/b90b6d7032c79ee40181fdadb72b2ef9a186f02269d6c52f02\n",
            "  Running setup.py bdist_wheel for cliff ... \u001b[?25l-\b \b\\\b \bdone\n",
            "\u001b[?25h  Stored in directory: /content/.cache/pip/wheels/50/00/6d/d4aeb5ccdd47dd76800592b26f943e4959bc705b2d4e6e54e1\n",
            "  Running setup.py bdist_wheel for configparser ... \u001b[?25l-\b \bdone\n",
            "\u001b[?25h  Stored in directory: /content/.cache/pip/wheels/a3/61/79/424ef897a2f3b14684a7de5d89e8600b460b89663e6ce9d17c\n",
            "  Running setup.py bdist_wheel for PrettyTable ... \u001b[?25l-\b \bdone\n",
            "\u001b[?25h  Stored in directory: /content/.cache/pip/wheels/80/34/1c/3967380d9676d162cb59513bd9dc862d0584e045a162095606\n",
            "  Running setup.py bdist_wheel for pyperclip ... \u001b[?25l-\b \bdone\n",
            "\u001b[?25h  Stored in directory: /content/.cache/pip/wheels/a7/68/ef/ab1ef01625334f10a979e9fe5ef79e1c4fd4cdf4b710a0067b\n",
            "Successfully built fastai bcolz feather-format kaggle-cli pandas-summary torchtext jupyter-latex-envs cliff configparser PrettyTable pyperclip\n",
            "\u001b[31mtorchvision 0.2.1 has requirement pillow>=4.1.1, but you'll have pillow 4.0.0 which is incompatible.\u001b[0m\n",
            "\u001b[31mkaggle-cli 0.12.13 has requirement lxml<4.1,>=4.0.0, but you'll have lxml 4.2.1 which is incompatible.\u001b[0m\n",
            "\u001b[31mplotnine 0.3.0 has requirement scipy>=1.0.0, but you'll have scipy 0.19.1 which is incompatible.\u001b[0m\n",
            "Installing collected packages: jmespath, docutils, botocore, s3transfer, colorama, awscli, bcolz, pyarrow, feather-format, graphviz, widgetsnbextension, ipywidgets, isoweek, parso, jedi, jupyter-console, qtconsole, jupyter, jupyter-contrib-core, lxml, jupyter-nbextensions-configurator, jupyter-latex-envs, jupyter-highlight-selected-word, jupyter-contrib-nbextensions, pbr, pyperclip, cmd2, PrettyTable, stevedore, cliff, MechanicalSoup, cssselect, configparser, python-utils, progressbar2, kaggle-cli, pandas-summary, palettable, mizani, plotnine, sklearn-pandas, tqdm, torchtext, fastai\n",
            "Successfully installed MechanicalSoup-0.8.0 PrettyTable-0.7.2 awscli-1.15.10 bcolz-1.2.1 botocore-1.10.10 cliff-2.8.1 cmd2-0.8.5 colorama-0.3.7 configparser-3.5.0 cssselect-1.0.3 docutils-0.14 fastai-0.6 feather-format-0.4.0 graphviz-0.8.2 ipywidgets-7.2.1 isoweek-1.3.3 jedi-0.12.0 jmespath-0.9.3 jupyter-1.0.0 jupyter-console-5.2.0 jupyter-contrib-core-0.3.3 jupyter-contrib-nbextensions-0.5.0 jupyter-highlight-selected-word-0.2.0 jupyter-latex-envs-1.4.4 jupyter-nbextensions-configurator-0.4.0 kaggle-cli-0.12.13 lxml-4.2.1 mizani-0.4.6 palettable-3.1.0 pandas-summary-0.0.41 parso-0.2.0 pbr-4.0.2 plotnine-0.3.0 progressbar2-3.34.3 pyarrow-0.9.0 pyperclip-1.6.0 python-utils-2.3.0 qtconsole-4.3.1 s3transfer-0.1.13 sklearn-pandas-1.6.0 stevedore-1.28.0 torchtext-0.2.3 tqdm-4.23.1 widgetsnbextension-3.2.1\n"
          ],
          "name": "stdout"
        }
      ]
    },
    {
      "metadata": {
        "id": "bmbBVVPOlaVL",
        "colab_type": "code",
        "colab": {
          "autoexec": {
            "startup": false,
            "wait_interval": 0
          },
          "base_uri": "https://localhost:8080/",
          "height": 374
        },
        "outputId": "38d2a3cf-3c71-43c8-9391-f50eb791ea14",
        "executionInfo": {
          "status": "ok",
          "timestamp": 1524917412696,
          "user_tz": -60,
          "elapsed": 5462,
          "user": {
            "displayName": "Samanyou Garg",
            "photoUrl": "//lh5.googleusercontent.com/-yYTNXw2_dU4/AAAAAAAAAAI/AAAAAAAAVzA/HBeUyWJabjw/s50-c-k-no/photo.jpg",
            "userId": "100740094775367556925"
          }
        }
      },
      "cell_type": "code",
      "source": [
        "!apt update && apt install -y libsm6 libxext6"
      ],
      "execution_count": 4,
      "outputs": [
        {
          "output_type": "stream",
          "text": [
            "Get:1 http://security.ubuntu.com/ubuntu artful-security InRelease [83.2 kB]\n",
            "Hit:2 http://archive.ubuntu.com/ubuntu artful InRelease\n",
            "Get:3 http://archive.ubuntu.com/ubuntu artful-updates InRelease [88.7 kB]\n",
            "Get:4 http://security.ubuntu.com/ubuntu artful-security/main amd64 Packages [198 kB]\n",
            "Get:5 http://archive.ubuntu.com/ubuntu artful-backports InRelease [74.6 kB]\n",
            "Get:6 http://security.ubuntu.com/ubuntu artful-security/universe amd64 Packages [74.3 kB]\n",
            "Get:7 http://archive.ubuntu.com/ubuntu artful-updates/main amd64 Packages [323 kB]\n",
            "Get:8 http://archive.ubuntu.com/ubuntu artful-updates/universe amd64 Packages [136 kB]\n",
            "Get:9 http://archive.ubuntu.com/ubuntu artful-backports/universe amd64 Packages [4,359 B]\n",
            "Get:10 http://archive.ubuntu.com/ubuntu artful-backports/main amd64 Packages [1,462 B]\n",
            "Fetched 983 kB in 1s (599 kB/s)\n",
            "Reading package lists... Done\n",
            "Building dependency tree       \n",
            "Reading state information... Done\n",
            "4 packages can be upgraded. Run 'apt list --upgradable' to see them.\n",
            "Reading package lists... Done\n",
            "Building dependency tree       \n",
            "Reading state information... Done\n",
            "libsm6 is already the newest version (2:1.2.2-1).\n",
            "libxext6 is already the newest version (2:1.3.3-1).\n",
            "0 upgraded, 0 newly installed, 0 to remove and 4 not upgraded.\n"
          ],
          "name": "stdout"
        }
      ]
    },
    {
      "metadata": {
        "id": "UvEVbjVFqS9k",
        "colab_type": "code",
        "colab": {
          "autoexec": {
            "startup": false,
            "wait_interval": 0
          },
          "base_uri": "https://localhost:8080/",
          "height": 598
        },
        "outputId": "e3bd751e-59d6-40e3-9e31-224a8f4995bc",
        "executionInfo": {
          "status": "ok",
          "timestamp": 1524917417305,
          "user_tz": -60,
          "elapsed": 4537,
          "user": {
            "displayName": "Samanyou Garg",
            "photoUrl": "//lh5.googleusercontent.com/-yYTNXw2_dU4/AAAAAAAAAAI/AAAAAAAAVzA/HBeUyWJabjw/s50-c-k-no/photo.jpg",
            "userId": "100740094775367556925"
          }
        }
      },
      "cell_type": "code",
      "source": [
        "!pip install kaggle-cli"
      ],
      "execution_count": 5,
      "outputs": [
        {
          "output_type": "stream",
          "text": [
            "Looking in indexes: https://pypi.org/simple, https://legacy.pypi.org/simple\r\n",
            "Requirement already satisfied: kaggle-cli in /usr/local/lib/python3.6/dist-packages (0.12.13)\n",
            "Requirement already satisfied: cssselect<1.1,>=1.0.1 in /usr/local/lib/python3.6/dist-packages (from kaggle-cli) (1.0.3)\n",
            "Collecting lxml<4.1,>=4.0.0 (from kaggle-cli)\n",
            "\u001b[?25l  Downloading https://files.pythonhosted.org/packages/a0/b5/4c6995f8f259f0858f79460e6d277888f8498ce1c1a466dfbb24f06ba83f/lxml-4.0.0-cp36-cp36m-manylinux1_x86_64.whl (5.3MB)\n",
            "\u001b[K    100% |████████████████████████████████| 5.3MB 6.0MB/s \n",
            "\u001b[?25hRequirement already satisfied: configparser in /usr/local/lib/python3.6/dist-packages (from kaggle-cli) (3.5.0)\n",
            "Requirement already satisfied: MechanicalSoup<0.9,>=0.7.0 in /usr/local/lib/python3.6/dist-packages (from kaggle-cli) (0.8.0)\n",
            "Requirement already satisfied: cliff<2.9,>=2.8.0 in /usr/local/lib/python3.6/dist-packages (from kaggle-cli) (2.8.1)\n",
            "Requirement already satisfied: beautifulsoup4<4.7,>=4.6.0 in /usr/local/lib/python3.6/dist-packages (from kaggle-cli) (4.6.0)\n",
            "Requirement already satisfied: progressbar2<3.35,>=3.34.3 in /usr/local/lib/python3.6/dist-packages (from kaggle-cli) (3.34.3)\n",
            "Requirement already satisfied: requests>=2.0 in /usr/local/lib/python3.6/dist-packages (from MechanicalSoup<0.9,>=0.7.0->kaggle-cli) (2.18.4)\n",
            "Requirement already satisfied: six>=1.4 in /usr/local/lib/python3.6/dist-packages (from MechanicalSoup<0.9,>=0.7.0->kaggle-cli) (1.11.0)\n",
            "Requirement already satisfied: pyparsing>=2.1.0 in /usr/local/lib/python3.6/dist-packages (from cliff<2.9,>=2.8.0->kaggle-cli) (2.2.0)\n",
            "Requirement already satisfied: pbr!=2.1.0,>=2.0.0 in /usr/local/lib/python3.6/dist-packages (from cliff<2.9,>=2.8.0->kaggle-cli) (4.0.2)\n",
            "Requirement already satisfied: stevedore>=1.20.0 in /usr/local/lib/python3.6/dist-packages (from cliff<2.9,>=2.8.0->kaggle-cli) (1.28.0)\n",
            "Requirement already satisfied: PrettyTable<0.8,>=0.7.1 in /usr/local/lib/python3.6/dist-packages (from cliff<2.9,>=2.8.0->kaggle-cli) (0.7.2)\n",
            "Requirement already satisfied: PyYAML>=3.10.0 in /usr/local/lib/python3.6/dist-packages (from cliff<2.9,>=2.8.0->kaggle-cli) (3.12)\n",
            "Requirement already satisfied: cmd2>=0.6.7 in /usr/local/lib/python3.6/dist-packages (from cliff<2.9,>=2.8.0->kaggle-cli) (0.8.5)\n",
            "Requirement already satisfied: python-utils>=2.1.0 in /usr/local/lib/python3.6/dist-packages (from progressbar2<3.35,>=3.34.3->kaggle-cli) (2.3.0)\n",
            "Requirement already satisfied: urllib3<1.23,>=1.21.1 in /usr/local/lib/python3.6/dist-packages (from requests>=2.0->MechanicalSoup<0.9,>=0.7.0->kaggle-cli) (1.22)\n",
            "Requirement already satisfied: certifi>=2017.4.17 in /usr/local/lib/python3.6/dist-packages (from requests>=2.0->MechanicalSoup<0.9,>=0.7.0->kaggle-cli) (2018.4.16)\n",
            "Requirement already satisfied: idna<2.7,>=2.5 in /usr/local/lib/python3.6/dist-packages (from requests>=2.0->MechanicalSoup<0.9,>=0.7.0->kaggle-cli) (2.6)\n",
            "Requirement already satisfied: chardet<3.1.0,>=3.0.2 in /usr/local/lib/python3.6/dist-packages (from requests>=2.0->MechanicalSoup<0.9,>=0.7.0->kaggle-cli) (3.0.4)\n",
            "Requirement already satisfied: wcwidth; sys_platform != \"win32\" in /usr/local/lib/python3.6/dist-packages (from cmd2>=0.6.7->cliff<2.9,>=2.8.0->kaggle-cli) (0.1.7)\n",
            "Requirement already satisfied: pyperclip in /usr/local/lib/python3.6/dist-packages (from cmd2>=0.6.7->cliff<2.9,>=2.8.0->kaggle-cli) (1.6.0)\n",
            "\u001b[31mtorchvision 0.2.1 has requirement pillow>=4.1.1, but you'll have pillow 4.0.0 which is incompatible.\u001b[0m\n",
            "\u001b[31mplotnine 0.3.0 has requirement scipy>=1.0.0, but you'll have scipy 0.19.1 which is incompatible.\u001b[0m\n",
            "Installing collected packages: lxml\n",
            "  Found existing installation: lxml 4.2.1\n",
            "    Uninstalling lxml-4.2.1:\n",
            "      Successfully uninstalled lxml-4.2.1\n",
            "Successfully installed lxml-4.0.0\n"
          ],
          "name": "stdout"
        }
      ]
    },
    {
      "metadata": {
        "id": "dkbLNr6Vllea",
        "colab_type": "text"
      },
      "cell_type": "markdown",
      "source": [
        "### Download the dataset"
      ]
    },
    {
      "metadata": {
        "id": "fwNm70zGld2a",
        "colab_type": "code",
        "colab": {
          "autoexec": {
            "startup": false,
            "wait_interval": 0
          },
          "base_uri": "https://localhost:8080/",
          "height": 221
        },
        "outputId": "46334026-1e5f-4ee9-f8e4-e64d54d44207",
        "executionInfo": {
          "status": "ok",
          "timestamp": 1524917427406,
          "user_tz": -60,
          "elapsed": 10059,
          "user": {
            "displayName": "Samanyou Garg",
            "photoUrl": "//lh5.googleusercontent.com/-yYTNXw2_dU4/AAAAAAAAAAI/AAAAAAAAVzA/HBeUyWJabjw/s50-c-k-no/photo.jpg",
            "userId": "100740094775367556925"
          }
        }
      },
      "cell_type": "code",
      "source": [
        "!mkdir data && cd data && kg download -u samanyougarg -p RadhaKrishna100 -c digit-recognizer"
      ],
      "execution_count": 6,
      "outputs": [
        {
          "output_type": "stream",
          "text": [
            "downloading https://www.kaggle.com/c/digit-recognizer/download/train.csv\r\n",
            "\n",
            "train.csv 100% |####################################| Time: 0:00:02  24.9 MiB/s\n",
            "\n",
            "downloading https://www.kaggle.com/c/digit-recognizer/download/test.csv\n",
            "\n",
            "test.csv 100% |#####################################| Time: 0:00:01  27.1 MiB/s\n",
            "\n",
            "downloading https://www.kaggle.com/c/digit-recognizer/download/sample_submission.csv\n",
            "\n",
            "sample_submission.csv 100% |#######################| Time: 0:00:00 1019.2 KiB/s\n",
            "\n"
          ],
          "name": "stdout"
        }
      ]
    },
    {
      "metadata": {
        "id": "4NeIlhou1o_B",
        "colab_type": "code",
        "colab": {
          "autoexec": {
            "startup": false,
            "wait_interval": 0
          }
        }
      },
      "cell_type": "code",
      "source": [
        "!cd data && mkdir train valid test"
      ],
      "execution_count": 0,
      "outputs": []
    },
    {
      "metadata": {
        "id": "UEcnspoIrrQu",
        "colab_type": "code",
        "colab": {
          "autoexec": {
            "startup": false,
            "wait_interval": 0
          }
        }
      },
      "cell_type": "code",
      "source": [
        "!cd data/train && mkdir 0 1 2 3 4 5 6 7 8 9\n",
        "!cd data/valid && mkdir 0 1 2 3 4 5 6 7 8 9"
      ],
      "execution_count": 0,
      "outputs": []
    },
    {
      "metadata": {
        "id": "oyJEoPJ3l90J",
        "colab_type": "text"
      },
      "cell_type": "markdown",
      "source": [
        "### Imports"
      ]
    },
    {
      "metadata": {
        "id": "NqDZqkxsl_MT",
        "colab_type": "code",
        "colab": {
          "autoexec": {
            "startup": false,
            "wait_interval": 0
          }
        }
      },
      "cell_type": "code",
      "source": [
        "# Automatic reloading and inline plotting\n",
        "%reload_ext autoreload\n",
        "%autoreload 2\n",
        "%matplotlib inline"
      ],
      "execution_count": 0,
      "outputs": []
    },
    {
      "metadata": {
        "id": "flMIfCM4mCKQ",
        "colab_type": "code",
        "colab": {
          "autoexec": {
            "startup": false,
            "wait_interval": 0
          }
        }
      },
      "cell_type": "code",
      "source": [
        "from fastai.imports import *\n",
        "from fastai.transforms import *\n",
        "from fastai.conv_learner import *\n",
        "from fastai.model import *\n",
        "from fastai.dataset import *\n",
        "from fastai.sgdr import *\n",
        "from fastai.plots import *"
      ],
      "execution_count": 0,
      "outputs": []
    },
    {
      "metadata": {
        "id": "gCa8L4T0mGlG",
        "colab_type": "code",
        "colab": {
          "autoexec": {
            "startup": false,
            "wait_interval": 0
          }
        }
      },
      "cell_type": "code",
      "source": [
        "# path of the data folder\n",
        "PATH = \"data/\"\n",
        "# image size\n",
        "sz=28"
      ],
      "execution_count": 0,
      "outputs": []
    },
    {
      "metadata": {
        "id": "__u14Rxdmr1g",
        "colab_type": "text"
      },
      "cell_type": "markdown",
      "source": [
        "## Data Exploration"
      ]
    },
    {
      "metadata": {
        "id": "NbQDsGsbmrPM",
        "colab_type": "code",
        "colab": {
          "autoexec": {
            "startup": false,
            "wait_interval": 0
          },
          "base_uri": "https://localhost:8080/",
          "height": 34
        },
        "outputId": "b8c21529-81e0-4892-98d5-005840191d80",
        "executionInfo": {
          "status": "ok",
          "timestamp": 1524917440390,
          "user_tz": -60,
          "elapsed": 466,
          "user": {
            "displayName": "Samanyou Garg",
            "photoUrl": "//lh5.googleusercontent.com/-yYTNXw2_dU4/AAAAAAAAAAI/AAAAAAAAVzA/HBeUyWJabjw/s50-c-k-no/photo.jpg",
            "userId": "100740094775367556925"
          }
        }
      },
      "cell_type": "code",
      "source": [
        "# contents of our data folder\n",
        "os.listdir(PATH)"
      ],
      "execution_count": 12,
      "outputs": [
        {
          "output_type": "execute_result",
          "data": {
            "text/plain": [
              "['train.csv', 'test.csv', 'test', 'sample_submission.csv', 'train', 'valid']"
            ]
          },
          "metadata": {
            "tags": []
          },
          "execution_count": 12
        }
      ]
    },
    {
      "metadata": {
        "id": "jAdaj-sBmyHQ",
        "colab_type": "code",
        "colab": {
          "autoexec": {
            "startup": false,
            "wait_interval": 0
          },
          "base_uri": "https://localhost:8080/",
          "height": 34
        },
        "outputId": "bf6c94b7-1266-4c17-9b4d-4e8bc35e66ab",
        "executionInfo": {
          "status": "ok",
          "timestamp": 1524917441069,
          "user_tz": -60,
          "elapsed": 443,
          "user": {
            "displayName": "Samanyou Garg",
            "photoUrl": "//lh5.googleusercontent.com/-yYTNXw2_dU4/AAAAAAAAAAI/AAAAAAAAVzA/HBeUyWJabjw/s50-c-k-no/photo.jpg",
            "userId": "100740094775367556925"
          }
        }
      },
      "cell_type": "code",
      "source": [
        "# contents of our validation set\n",
        "os.listdir(f'{PATH}valid')"
      ],
      "execution_count": 13,
      "outputs": [
        {
          "output_type": "execute_result",
          "data": {
            "text/plain": [
              "['1', '0', '9', '4', '5', '3', '6', '8', '2', '7']"
            ]
          },
          "metadata": {
            "tags": []
          },
          "execution_count": 13
        }
      ]
    },
    {
      "metadata": {
        "id": "Y2gA0huDr6hD",
        "colab_type": "code",
        "colab": {
          "autoexec": {
            "startup": false,
            "wait_interval": 0
          }
        }
      },
      "cell_type": "code",
      "source": [
        "# Read the data from CSV\n",
        "data_df = pd.read_csv(f'{PATH}train.csv', header = 0)"
      ],
      "execution_count": 0,
      "outputs": []
    },
    {
      "metadata": {
        "id": "4vONMCcyr81O",
        "colab_type": "code",
        "colab": {
          "autoexec": {
            "startup": false,
            "wait_interval": 0
          },
          "base_uri": "https://localhost:8080/",
          "height": 253
        },
        "outputId": "ddcefca1-1e92-4ae1-972a-e9e3c26ef172",
        "executionInfo": {
          "status": "ok",
          "timestamp": 1524917446869,
          "user_tz": -60,
          "elapsed": 550,
          "user": {
            "displayName": "Samanyou Garg",
            "photoUrl": "//lh5.googleusercontent.com/-yYTNXw2_dU4/AAAAAAAAAAI/AAAAAAAAVzA/HBeUyWJabjw/s50-c-k-no/photo.jpg",
            "userId": "100740094775367556925"
          }
        }
      },
      "cell_type": "code",
      "source": [
        "data_df.head()"
      ],
      "execution_count": 15,
      "outputs": [
        {
          "output_type": "execute_result",
          "data": {
            "text/html": [
              "<div>\n",
              "<style scoped>\n",
              "    .dataframe tbody tr th:only-of-type {\n",
              "        vertical-align: middle;\n",
              "    }\n",
              "\n",
              "    .dataframe tbody tr th {\n",
              "        vertical-align: top;\n",
              "    }\n",
              "\n",
              "    .dataframe thead th {\n",
              "        text-align: right;\n",
              "    }\n",
              "</style>\n",
              "<table border=\"1\" class=\"dataframe\">\n",
              "  <thead>\n",
              "    <tr style=\"text-align: right;\">\n",
              "      <th></th>\n",
              "      <th>label</th>\n",
              "      <th>pixel0</th>\n",
              "      <th>pixel1</th>\n",
              "      <th>pixel2</th>\n",
              "      <th>pixel3</th>\n",
              "      <th>pixel4</th>\n",
              "      <th>pixel5</th>\n",
              "      <th>pixel6</th>\n",
              "      <th>pixel7</th>\n",
              "      <th>pixel8</th>\n",
              "      <th>...</th>\n",
              "      <th>pixel774</th>\n",
              "      <th>pixel775</th>\n",
              "      <th>pixel776</th>\n",
              "      <th>pixel777</th>\n",
              "      <th>pixel778</th>\n",
              "      <th>pixel779</th>\n",
              "      <th>pixel780</th>\n",
              "      <th>pixel781</th>\n",
              "      <th>pixel782</th>\n",
              "      <th>pixel783</th>\n",
              "    </tr>\n",
              "  </thead>\n",
              "  <tbody>\n",
              "    <tr>\n",
              "      <th>0</th>\n",
              "      <td>1</td>\n",
              "      <td>0</td>\n",
              "      <td>0</td>\n",
              "      <td>0</td>\n",
              "      <td>0</td>\n",
              "      <td>0</td>\n",
              "      <td>0</td>\n",
              "      <td>0</td>\n",
              "      <td>0</td>\n",
              "      <td>0</td>\n",
              "      <td>...</td>\n",
              "      <td>0</td>\n",
              "      <td>0</td>\n",
              "      <td>0</td>\n",
              "      <td>0</td>\n",
              "      <td>0</td>\n",
              "      <td>0</td>\n",
              "      <td>0</td>\n",
              "      <td>0</td>\n",
              "      <td>0</td>\n",
              "      <td>0</td>\n",
              "    </tr>\n",
              "    <tr>\n",
              "      <th>1</th>\n",
              "      <td>0</td>\n",
              "      <td>0</td>\n",
              "      <td>0</td>\n",
              "      <td>0</td>\n",
              "      <td>0</td>\n",
              "      <td>0</td>\n",
              "      <td>0</td>\n",
              "      <td>0</td>\n",
              "      <td>0</td>\n",
              "      <td>0</td>\n",
              "      <td>...</td>\n",
              "      <td>0</td>\n",
              "      <td>0</td>\n",
              "      <td>0</td>\n",
              "      <td>0</td>\n",
              "      <td>0</td>\n",
              "      <td>0</td>\n",
              "      <td>0</td>\n",
              "      <td>0</td>\n",
              "      <td>0</td>\n",
              "      <td>0</td>\n",
              "    </tr>\n",
              "    <tr>\n",
              "      <th>2</th>\n",
              "      <td>1</td>\n",
              "      <td>0</td>\n",
              "      <td>0</td>\n",
              "      <td>0</td>\n",
              "      <td>0</td>\n",
              "      <td>0</td>\n",
              "      <td>0</td>\n",
              "      <td>0</td>\n",
              "      <td>0</td>\n",
              "      <td>0</td>\n",
              "      <td>...</td>\n",
              "      <td>0</td>\n",
              "      <td>0</td>\n",
              "      <td>0</td>\n",
              "      <td>0</td>\n",
              "      <td>0</td>\n",
              "      <td>0</td>\n",
              "      <td>0</td>\n",
              "      <td>0</td>\n",
              "      <td>0</td>\n",
              "      <td>0</td>\n",
              "    </tr>\n",
              "    <tr>\n",
              "      <th>3</th>\n",
              "      <td>4</td>\n",
              "      <td>0</td>\n",
              "      <td>0</td>\n",
              "      <td>0</td>\n",
              "      <td>0</td>\n",
              "      <td>0</td>\n",
              "      <td>0</td>\n",
              "      <td>0</td>\n",
              "      <td>0</td>\n",
              "      <td>0</td>\n",
              "      <td>...</td>\n",
              "      <td>0</td>\n",
              "      <td>0</td>\n",
              "      <td>0</td>\n",
              "      <td>0</td>\n",
              "      <td>0</td>\n",
              "      <td>0</td>\n",
              "      <td>0</td>\n",
              "      <td>0</td>\n",
              "      <td>0</td>\n",
              "      <td>0</td>\n",
              "    </tr>\n",
              "    <tr>\n",
              "      <th>4</th>\n",
              "      <td>0</td>\n",
              "      <td>0</td>\n",
              "      <td>0</td>\n",
              "      <td>0</td>\n",
              "      <td>0</td>\n",
              "      <td>0</td>\n",
              "      <td>0</td>\n",
              "      <td>0</td>\n",
              "      <td>0</td>\n",
              "      <td>0</td>\n",
              "      <td>...</td>\n",
              "      <td>0</td>\n",
              "      <td>0</td>\n",
              "      <td>0</td>\n",
              "      <td>0</td>\n",
              "      <td>0</td>\n",
              "      <td>0</td>\n",
              "      <td>0</td>\n",
              "      <td>0</td>\n",
              "      <td>0</td>\n",
              "      <td>0</td>\n",
              "    </tr>\n",
              "  </tbody>\n",
              "</table>\n",
              "<p>5 rows × 785 columns</p>\n",
              "</div>"
            ],
            "text/plain": [
              "   label  pixel0  pixel1  pixel2  pixel3  pixel4  pixel5  pixel6  pixel7  \\\n",
              "0      1       0       0       0       0       0       0       0       0   \n",
              "1      0       0       0       0       0       0       0       0       0   \n",
              "2      1       0       0       0       0       0       0       0       0   \n",
              "3      4       0       0       0       0       0       0       0       0   \n",
              "4      0       0       0       0       0       0       0       0       0   \n",
              "\n",
              "   pixel8    ...     pixel774  pixel775  pixel776  pixel777  pixel778  \\\n",
              "0       0    ...            0         0         0         0         0   \n",
              "1       0    ...            0         0         0         0         0   \n",
              "2       0    ...            0         0         0         0         0   \n",
              "3       0    ...            0         0         0         0         0   \n",
              "4       0    ...            0         0         0         0         0   \n",
              "\n",
              "   pixel779  pixel780  pixel781  pixel782  pixel783  \n",
              "0         0         0         0         0         0  \n",
              "1         0         0         0         0         0  \n",
              "2         0         0         0         0         0  \n",
              "3         0         0         0         0         0  \n",
              "4         0         0         0         0         0  \n",
              "\n",
              "[5 rows x 785 columns]"
            ]
          },
          "metadata": {
            "tags": []
          },
          "execution_count": 15
        }
      ]
    },
    {
      "metadata": {
        "id": "QBWOCvaPsBR3",
        "colab_type": "code",
        "colab": {
          "autoexec": {
            "startup": false,
            "wait_interval": 0
          }
        }
      },
      "cell_type": "code",
      "source": [
        "# Create a new dataframe with the label column from data_df\n",
        "label_df = data_df['label']"
      ],
      "execution_count": 0,
      "outputs": []
    },
    {
      "metadata": {
        "id": "68oGNEjTsD4-",
        "colab_type": "code",
        "colab": {
          "autoexec": {
            "startup": false,
            "wait_interval": 0
          }
        }
      },
      "cell_type": "code",
      "source": [
        "del data_df['label']"
      ],
      "execution_count": 0,
      "outputs": []
    },
    {
      "metadata": {
        "id": "ipfiJeC2sGog",
        "colab_type": "code",
        "colab": {
          "autoexec": {
            "startup": false,
            "wait_interval": 0
          }
        }
      },
      "cell_type": "code",
      "source": [
        "# Get the pixel value from data_df into a numpy array with 42000 rows(no of images in train.csv) and 784 columns(28 X 28 images)\n",
        "data_values = data_df.values"
      ],
      "execution_count": 0,
      "outputs": []
    },
    {
      "metadata": {
        "id": "dyS77Z0PssBl",
        "colab_type": "code",
        "colab": {
          "autoexec": {
            "startup": false,
            "wait_interval": 0
          },
          "base_uri": "https://localhost:8080/",
          "height": 34
        },
        "outputId": "43b61522-02de-4c20-a785-79012e1d19bf",
        "executionInfo": {
          "status": "ok",
          "timestamp": 1524917449340,
          "user_tz": -60,
          "elapsed": 436,
          "user": {
            "displayName": "Samanyou Garg",
            "photoUrl": "//lh5.googleusercontent.com/-yYTNXw2_dU4/AAAAAAAAAAI/AAAAAAAAVzA/HBeUyWJabjw/s50-c-k-no/photo.jpg",
            "userId": "100740094775367556925"
          }
        }
      },
      "cell_type": "code",
      "source": [
        "data_values.shape"
      ],
      "execution_count": 19,
      "outputs": [
        {
          "output_type": "execute_result",
          "data": {
            "text/plain": [
              "(42000, 784)"
            ]
          },
          "metadata": {
            "tags": []
          },
          "execution_count": 19
        }
      ]
    },
    {
      "metadata": {
        "id": "jVknC9kOsH6J",
        "colab_type": "code",
        "colab": {
          "autoexec": {
            "startup": false,
            "wait_interval": 0
          }
        }
      },
      "cell_type": "code",
      "source": [
        "for i in range(0, len(data_values)):\n",
        "\n",
        "    #read the correct label\n",
        "    correct_label = label_df[i]\n",
        "\n",
        "    #split the data into training and validation sets\n",
        "    if np.random.rand() < 0.8:\n",
        "        folder = 'train/'\n",
        "    else:\n",
        "        folder = 'valid/'\n",
        "    \n",
        "    img = data_values[i][:]\n",
        "\n",
        "    #reshape into 28x28 pic\n",
        "    img = img.reshape(28,28)\n",
        "\n",
        "    #we need three channels into the picture\n",
        "    img = np.stack((img,)*3,axis = -1)\n",
        "\n",
        "    #change the data type to int8\n",
        "    img = np.uint8(img)\n",
        "\n",
        "    #create PIL Image\n",
        "    new_img = Image.fromarray(img)\n",
        "\n",
        "    #save the .jpg into correct folder\n",
        "    new_img.save(f'{PATH}' + folder + str(correct_label) + '/' + str(i) + '.jpg', 'JPEG')"
      ],
      "execution_count": 0,
      "outputs": []
    },
    {
      "metadata": {
        "id": "cwAFnPqR0KHH",
        "colab_type": "code",
        "colab": {
          "autoexec": {
            "startup": false,
            "wait_interval": 0
          }
        }
      },
      "cell_type": "code",
      "source": [
        "# Read the test data from CSV\n",
        "test_df = pd.read_csv(f'{PATH}test.csv', header = 0)"
      ],
      "execution_count": 0,
      "outputs": []
    },
    {
      "metadata": {
        "id": "FqA9x2C60T8l",
        "colab_type": "code",
        "colab": {
          "autoexec": {
            "startup": false,
            "wait_interval": 0
          },
          "base_uri": "https://localhost:8080/",
          "height": 253
        },
        "outputId": "a045d45c-62dd-4413-d123-ee597e59e8ee",
        "executionInfo": {
          "status": "ok",
          "timestamp": 1524917468138,
          "user_tz": -60,
          "elapsed": 501,
          "user": {
            "displayName": "Samanyou Garg",
            "photoUrl": "//lh5.googleusercontent.com/-yYTNXw2_dU4/AAAAAAAAAAI/AAAAAAAAVzA/HBeUyWJabjw/s50-c-k-no/photo.jpg",
            "userId": "100740094775367556925"
          }
        }
      },
      "cell_type": "code",
      "source": [
        "test_df.head()"
      ],
      "execution_count": 22,
      "outputs": [
        {
          "output_type": "execute_result",
          "data": {
            "text/html": [
              "<div>\n",
              "<style scoped>\n",
              "    .dataframe tbody tr th:only-of-type {\n",
              "        vertical-align: middle;\n",
              "    }\n",
              "\n",
              "    .dataframe tbody tr th {\n",
              "        vertical-align: top;\n",
              "    }\n",
              "\n",
              "    .dataframe thead th {\n",
              "        text-align: right;\n",
              "    }\n",
              "</style>\n",
              "<table border=\"1\" class=\"dataframe\">\n",
              "  <thead>\n",
              "    <tr style=\"text-align: right;\">\n",
              "      <th></th>\n",
              "      <th>pixel0</th>\n",
              "      <th>pixel1</th>\n",
              "      <th>pixel2</th>\n",
              "      <th>pixel3</th>\n",
              "      <th>pixel4</th>\n",
              "      <th>pixel5</th>\n",
              "      <th>pixel6</th>\n",
              "      <th>pixel7</th>\n",
              "      <th>pixel8</th>\n",
              "      <th>pixel9</th>\n",
              "      <th>...</th>\n",
              "      <th>pixel774</th>\n",
              "      <th>pixel775</th>\n",
              "      <th>pixel776</th>\n",
              "      <th>pixel777</th>\n",
              "      <th>pixel778</th>\n",
              "      <th>pixel779</th>\n",
              "      <th>pixel780</th>\n",
              "      <th>pixel781</th>\n",
              "      <th>pixel782</th>\n",
              "      <th>pixel783</th>\n",
              "    </tr>\n",
              "  </thead>\n",
              "  <tbody>\n",
              "    <tr>\n",
              "      <th>0</th>\n",
              "      <td>0</td>\n",
              "      <td>0</td>\n",
              "      <td>0</td>\n",
              "      <td>0</td>\n",
              "      <td>0</td>\n",
              "      <td>0</td>\n",
              "      <td>0</td>\n",
              "      <td>0</td>\n",
              "      <td>0</td>\n",
              "      <td>0</td>\n",
              "      <td>...</td>\n",
              "      <td>0</td>\n",
              "      <td>0</td>\n",
              "      <td>0</td>\n",
              "      <td>0</td>\n",
              "      <td>0</td>\n",
              "      <td>0</td>\n",
              "      <td>0</td>\n",
              "      <td>0</td>\n",
              "      <td>0</td>\n",
              "      <td>0</td>\n",
              "    </tr>\n",
              "    <tr>\n",
              "      <th>1</th>\n",
              "      <td>0</td>\n",
              "      <td>0</td>\n",
              "      <td>0</td>\n",
              "      <td>0</td>\n",
              "      <td>0</td>\n",
              "      <td>0</td>\n",
              "      <td>0</td>\n",
              "      <td>0</td>\n",
              "      <td>0</td>\n",
              "      <td>0</td>\n",
              "      <td>...</td>\n",
              "      <td>0</td>\n",
              "      <td>0</td>\n",
              "      <td>0</td>\n",
              "      <td>0</td>\n",
              "      <td>0</td>\n",
              "      <td>0</td>\n",
              "      <td>0</td>\n",
              "      <td>0</td>\n",
              "      <td>0</td>\n",
              "      <td>0</td>\n",
              "    </tr>\n",
              "    <tr>\n",
              "      <th>2</th>\n",
              "      <td>0</td>\n",
              "      <td>0</td>\n",
              "      <td>0</td>\n",
              "      <td>0</td>\n",
              "      <td>0</td>\n",
              "      <td>0</td>\n",
              "      <td>0</td>\n",
              "      <td>0</td>\n",
              "      <td>0</td>\n",
              "      <td>0</td>\n",
              "      <td>...</td>\n",
              "      <td>0</td>\n",
              "      <td>0</td>\n",
              "      <td>0</td>\n",
              "      <td>0</td>\n",
              "      <td>0</td>\n",
              "      <td>0</td>\n",
              "      <td>0</td>\n",
              "      <td>0</td>\n",
              "      <td>0</td>\n",
              "      <td>0</td>\n",
              "    </tr>\n",
              "    <tr>\n",
              "      <th>3</th>\n",
              "      <td>0</td>\n",
              "      <td>0</td>\n",
              "      <td>0</td>\n",
              "      <td>0</td>\n",
              "      <td>0</td>\n",
              "      <td>0</td>\n",
              "      <td>0</td>\n",
              "      <td>0</td>\n",
              "      <td>0</td>\n",
              "      <td>0</td>\n",
              "      <td>...</td>\n",
              "      <td>0</td>\n",
              "      <td>0</td>\n",
              "      <td>0</td>\n",
              "      <td>0</td>\n",
              "      <td>0</td>\n",
              "      <td>0</td>\n",
              "      <td>0</td>\n",
              "      <td>0</td>\n",
              "      <td>0</td>\n",
              "      <td>0</td>\n",
              "    </tr>\n",
              "    <tr>\n",
              "      <th>4</th>\n",
              "      <td>0</td>\n",
              "      <td>0</td>\n",
              "      <td>0</td>\n",
              "      <td>0</td>\n",
              "      <td>0</td>\n",
              "      <td>0</td>\n",
              "      <td>0</td>\n",
              "      <td>0</td>\n",
              "      <td>0</td>\n",
              "      <td>0</td>\n",
              "      <td>...</td>\n",
              "      <td>0</td>\n",
              "      <td>0</td>\n",
              "      <td>0</td>\n",
              "      <td>0</td>\n",
              "      <td>0</td>\n",
              "      <td>0</td>\n",
              "      <td>0</td>\n",
              "      <td>0</td>\n",
              "      <td>0</td>\n",
              "      <td>0</td>\n",
              "    </tr>\n",
              "  </tbody>\n",
              "</table>\n",
              "<p>5 rows × 784 columns</p>\n",
              "</div>"
            ],
            "text/plain": [
              "   pixel0  pixel1  pixel2  pixel3  pixel4  pixel5  pixel6  pixel7  pixel8  \\\n",
              "0       0       0       0       0       0       0       0       0       0   \n",
              "1       0       0       0       0       0       0       0       0       0   \n",
              "2       0       0       0       0       0       0       0       0       0   \n",
              "3       0       0       0       0       0       0       0       0       0   \n",
              "4       0       0       0       0       0       0       0       0       0   \n",
              "\n",
              "   pixel9    ...     pixel774  pixel775  pixel776  pixel777  pixel778  \\\n",
              "0       0    ...            0         0         0         0         0   \n",
              "1       0    ...            0         0         0         0         0   \n",
              "2       0    ...            0         0         0         0         0   \n",
              "3       0    ...            0         0         0         0         0   \n",
              "4       0    ...            0         0         0         0         0   \n",
              "\n",
              "   pixel779  pixel780  pixel781  pixel782  pixel783  \n",
              "0         0         0         0         0         0  \n",
              "1         0         0         0         0         0  \n",
              "2         0         0         0         0         0  \n",
              "3         0         0         0         0         0  \n",
              "4         0         0         0         0         0  \n",
              "\n",
              "[5 rows x 784 columns]"
            ]
          },
          "metadata": {
            "tags": []
          },
          "execution_count": 22
        }
      ]
    },
    {
      "metadata": {
        "id": "CmuosOWE0xXs",
        "colab_type": "code",
        "colab": {
          "autoexec": {
            "startup": false,
            "wait_interval": 0
          }
        }
      },
      "cell_type": "code",
      "source": [
        "test_values = test_df.values"
      ],
      "execution_count": 0,
      "outputs": []
    },
    {
      "metadata": {
        "id": "kPH-l7bA0-QO",
        "colab_type": "code",
        "colab": {
          "autoexec": {
            "startup": false,
            "wait_interval": 0
          }
        }
      },
      "cell_type": "code",
      "source": [
        "for i in range(0, len(test_values)):\n",
        "\n",
        "    folder = 'test/'\n",
        "    \n",
        "    img = test_values[i][:]\n",
        "\n",
        "    #reshape into 28x28 pic\n",
        "    img = img.reshape(28,28)\n",
        "\n",
        "    #we need three channels into the picture\n",
        "    img = np.stack((img,)*3,axis = -1)\n",
        "\n",
        "    #change the data type to int8\n",
        "    img = np.uint8(img)\n",
        "\n",
        "    #create PIL Image\n",
        "    new_img = Image.fromarray(img)\n",
        "\n",
        "    #save the .jpg into correct folder\n",
        "    new_img.save(f'{PATH}' + folder + str(i) + '.jpg', 'JPEG')"
      ],
      "execution_count": 0,
      "outputs": []
    },
    {
      "metadata": {
        "id": "CgyxhLjem0cf",
        "colab_type": "code",
        "colab": {
          "autoexec": {
            "startup": false,
            "wait_interval": 0
          },
          "base_uri": "https://localhost:8080/",
          "height": 34
        },
        "outputId": "ccdb449c-c14d-4772-cd51-69d9a6b694e3",
        "executionInfo": {
          "status": "ok",
          "timestamp": 1524917478242,
          "user_tz": -60,
          "elapsed": 710,
          "user": {
            "displayName": "Samanyou Garg",
            "photoUrl": "//lh5.googleusercontent.com/-yYTNXw2_dU4/AAAAAAAAAAI/AAAAAAAAVzA/HBeUyWJabjw/s50-c-k-no/photo.jpg",
            "userId": "100740094775367556925"
          }
        }
      },
      "cell_type": "code",
      "source": [
        "# Grab the first 5 images for '0'\n",
        "files = os.listdir(f'{PATH}valid/0')[:5]\n",
        "files"
      ],
      "execution_count": 25,
      "outputs": [
        {
          "output_type": "execute_result",
          "data": {
            "text/plain": [
              "['13829.jpg', '24118.jpg', '20178.jpg', '7140.jpg', '11964.jpg']"
            ]
          },
          "metadata": {
            "tags": []
          },
          "execution_count": 25
        }
      ]
    },
    {
      "metadata": {
        "id": "eZAbdPm3nGAd",
        "colab_type": "code",
        "colab": {
          "autoexec": {
            "startup": false,
            "wait_interval": 0
          },
          "base_uri": "https://localhost:8080/",
          "height": 265
        },
        "outputId": "db398109-ac7a-4a71-967d-e176439973a1",
        "executionInfo": {
          "status": "ok",
          "timestamp": 1524917478855,
          "user_tz": -60,
          "elapsed": 440,
          "user": {
            "displayName": "Samanyou Garg",
            "photoUrl": "//lh5.googleusercontent.com/-yYTNXw2_dU4/AAAAAAAAAAI/AAAAAAAAVzA/HBeUyWJabjw/s50-c-k-no/photo.jpg",
            "userId": "100740094775367556925"
          }
        }
      },
      "cell_type": "code",
      "source": [
        "# Plot the first image from files list\n",
        "img = plt.imread(f'{PATH}valid/0/{files[0]}')\n",
        "plt.imshow(img);"
      ],
      "execution_count": 26,
      "outputs": [
        {
          "output_type": "display_data",
          "data": {
            "image/png": "[encoded data removed]",
            "text/plain": [
              "<matplotlib.figure.Figure at 0x7f2667ed37b8>"
            ]
          },
          "metadata": {
            "tags": []
          }
        }
      ]
    },
    {
      "metadata": {
        "id": "5eSihyvdnYQ9",
        "colab_type": "text"
      },
      "cell_type": "markdown",
      "source": [
        "**Image is a 3d array (Rank 3 tensor).**\n",
        "\n",
        "The first two indices represent the Y and X positions of a pixel, and the third represents the RGB colour value of the pixel."
      ]
    },
    {
      "metadata": {
        "id": "40QhiwMSnMlY",
        "colab_type": "code",
        "colab": {
          "autoexec": {
            "startup": false,
            "wait_interval": 0
          },
          "base_uri": "https://localhost:8080/",
          "height": 34
        },
        "outputId": "ee3cab28-a0c1-4d70-94f9-8392b289f68f",
        "executionInfo": {
          "status": "ok",
          "timestamp": 1524917479528,
          "user_tz": -60,
          "elapsed": 478,
          "user": {
            "displayName": "Samanyou Garg",
            "photoUrl": "//lh5.googleusercontent.com/-yYTNXw2_dU4/AAAAAAAAAAI/AAAAAAAAVzA/HBeUyWJabjw/s50-c-k-no/photo.jpg",
            "userId": "100740094775367556925"
          }
        }
      },
      "cell_type": "code",
      "source": [
        "img.shape"
      ],
      "execution_count": 27,
      "outputs": [
        {
          "output_type": "execute_result",
          "data": {
            "text/plain": [
              "(28, 28, 3)"
            ]
          },
          "metadata": {
            "tags": []
          },
          "execution_count": 27
        }
      ]
    },
    {
      "metadata": {
        "id": "_z1kyN-gpye_",
        "colab_type": "text"
      },
      "cell_type": "markdown",
      "source": [
        "We can crop the image by slicing the image array."
      ]
    },
    {
      "metadata": {
        "id": "WkUe1KsSnRBf",
        "colab_type": "code",
        "colab": {
          "autoexec": {
            "startup": false,
            "wait_interval": 0
          },
          "base_uri": "https://localhost:8080/",
          "height": 340
        },
        "outputId": "9fda44d3-0040-4b26-c1de-14ec79314b72",
        "executionInfo": {
          "status": "ok",
          "timestamp": 1524917480148,
          "user_tz": -60,
          "elapsed": 458,
          "user": {
            "displayName": "Samanyou Garg",
            "photoUrl": "//lh5.googleusercontent.com/-yYTNXw2_dU4/AAAAAAAAAAI/AAAAAAAAVzA/HBeUyWJabjw/s50-c-k-no/photo.jpg",
            "userId": "100740094775367556925"
          }
        }
      },
      "cell_type": "code",
      "source": [
        "# Matrix representation of the sliced image array\n",
        "img = img[:4,:4]; img"
      ],
      "execution_count": 28,
      "outputs": [
        {
          "output_type": "execute_result",
          "data": {
            "text/plain": [
              "array([[[0, 0, 0],\n",
              "        [0, 0, 0],\n",
              "        [0, 0, 0],\n",
              "        [0, 0, 0]],\n",
              "\n",
              "       [[0, 0, 0],\n",
              "        [0, 0, 0],\n",
              "        [0, 0, 0],\n",
              "        [0, 0, 0]],\n",
              "\n",
              "       [[0, 0, 0],\n",
              "        [0, 0, 0],\n",
              "        [0, 0, 0],\n",
              "        [0, 0, 0]],\n",
              "\n",
              "       [[0, 0, 0],\n",
              "        [0, 0, 0],\n",
              "        [0, 0, 0],\n",
              "        [0, 0, 0]]], dtype=uint8)"
            ]
          },
          "metadata": {
            "tags": []
          },
          "execution_count": 28
        }
      ]
    },
    {
      "metadata": {
        "id": "I2KvTFyspLD0",
        "colab_type": "code",
        "colab": {
          "autoexec": {
            "startup": false,
            "wait_interval": 0
          },
          "base_uri": "https://localhost:8080/",
          "height": 286
        },
        "outputId": "1f9ad45f-30aa-45fb-c22b-6c1321534b2d",
        "executionInfo": {
          "status": "ok",
          "timestamp": 1524917481234,
          "user_tz": -60,
          "elapsed": 893,
          "user": {
            "displayName": "Samanyou Garg",
            "photoUrl": "//lh5.googleusercontent.com/-yYTNXw2_dU4/AAAAAAAAAAI/AAAAAAAAVzA/HBeUyWJabjw/s50-c-k-no/photo.jpg",
            "userId": "100740094775367556925"
          }
        }
      },
      "cell_type": "code",
      "source": [
        "plt.imshow(img)"
      ],
      "execution_count": 29,
      "outputs": [
        {
          "output_type": "execute_result",
          "data": {
            "text/plain": [
              "<matplotlib.image.AxesImage at 0x7f2667dc8630>"
            ]
          },
          "metadata": {
            "tags": []
          },
          "execution_count": 29
        },
        {
          "output_type": "display_data",
          "data": {
            "image/png": "[encoded data removed]",
            "text/plain": [
              "<matplotlib.figure.Figure at 0x7f2667ed32e8>"
            ]
          },
          "metadata": {
            "tags": []
          }
        }
      ]
    },
    {
      "metadata": {
        "id": "akBe4DcsqPYj",
        "colab_type": "text"
      },
      "cell_type": "markdown",
      "source": [
        "## Model"
      ]
    },
    {
      "metadata": {
        "id": "cfMJSmznquQR",
        "colab_type": "text"
      },
      "cell_type": "markdown",
      "source": [
        "We're going to use a <b>pre-trained</b> model - <b>resnet34</b> trained on ImageNet (1.2 million images and 1000 classes). \n",
        "resnet34 is a version of the model that won the 2015 ImageNet competition."
      ]
    },
    {
      "metadata": {
        "id": "0CsGOjtsrUlv",
        "colab_type": "text"
      },
      "cell_type": "markdown",
      "source": [
        "**1. data contains the validation and training data**\n",
        "\n",
        "**2. learn contains the model**\n",
        "\n",
        "**3. The first two values in the output are the values of the loss function (in this case the cross-entropy loss) for the training set and the validation set. The last value in the output is the accuracy on the validation set.**"
      ]
    },
    {
      "metadata": {
        "id": "zjYc4s7lqP0f",
        "colab_type": "code",
        "colab": {
          "autoexec": {
            "startup": false,
            "wait_interval": 0
          },
          "base_uri": "https://localhost:8080/",
          "height": 187
        },
        "outputId": "36862360-0fef-43ad-e0c0-2ad67ee476fe",
        "executionInfo": {
          "status": "ok",
          "timestamp": 1524917587072,
          "user_tz": -60,
          "elapsed": 105635,
          "user": {
            "displayName": "Samanyou Garg",
            "photoUrl": "//lh5.googleusercontent.com/-yYTNXw2_dU4/AAAAAAAAAAI/AAAAAAAAVzA/HBeUyWJabjw/s50-c-k-no/photo.jpg",
            "userId": "100740094775367556925"
          }
        }
      },
      "cell_type": "code",
      "source": [
        "arch=resnet34\n",
        "data = ImageClassifierData.from_paths(PATH, tfms=tfms_from_model(arch, sz), test_name='test')\n",
        "learn = ConvLearner.pretrained(arch, data, precompute=True)\n",
        "# This will do 3 epochs which means it is going to look at the entire set of images three times.\n",
        "learn.fit(0.01, 3)"
      ],
      "execution_count": 30,
      "outputs": [
        {
          "output_type": "stream",
          "text": [
            "Downloading: \"https://download.pytorch.org/models/resnet34-333f7ec4.pth\" to /content/.torch/models/resnet34-333f7ec4.pth\n",
            "100%|██████████| 87306240/87306240 [00:01<00:00, 76066418.60it/s]\n"
          ],
          "name": "stderr"
        },
        {
          "output_type": "stream",
          "text": [
            "100%|██████████| 525/525 [00:25<00:00, 20.36it/s]\n",
            "100%|██████████| 132/132 [00:06<00:00, 20.60it/s]\n",
            "100%|██████████| 438/438 [00:21<00:00, 20.69it/s]\n"
          ],
          "name": "stdout"
        },
        {
          "output_type": "display_data",
          "data": {
            "application/vnd.jupyter.widget-view+json": {
              "model_id": "e555ce5041fd46d28be1188f7239e7eb",
              "version_minor": 0,
              "version_major": 2
            },
            "text/plain": [
              "HBox(children=(IntProgress(value=0, description='Epoch', max=3), HTML(value='')))"
            ]
          },
          "metadata": {
            "tags": []
          }
        },
        {
          "output_type": "stream",
          "text": [
            "[0.      0.37827 0.24341 0.92304]\n",
            "[1.      0.3236  0.21735 0.93374]\n",
            "  2%|▏         | 10/525 [00:00<00:34, 14.85it/s, loss=0.327]"
          ],
          "name": "stdout"
        },
        {
          "output_type": "stream",
          "text": [
            "[2.      0.29621 0.19788 0.94039]\n",
            "\n"
          ],
          "name": "stdout"
        }
      ]
    },
    {
      "metadata": {
        "id": "dCawUq7qreha",
        "colab_type": "text"
      },
      "cell_type": "markdown",
      "source": [
        "## Analysing the results"
      ]
    },
    {
      "metadata": {
        "id": "zVNs2rFlsIXZ",
        "colab_type": "text"
      },
      "cell_type": "markdown",
      "source": [
        "Labels for the validation set."
      ]
    },
    {
      "metadata": {
        "id": "7F7T7665rLY_",
        "colab_type": "code",
        "colab": {
          "autoexec": {
            "startup": false,
            "wait_interval": 0
          },
          "base_uri": "https://localhost:8080/",
          "height": 34
        },
        "outputId": "380de68c-ee9f-42dd-8a6e-ab0c8b7e4455",
        "executionInfo": {
          "status": "ok",
          "timestamp": 1524917587578,
          "user_tz": -60,
          "elapsed": 450,
          "user": {
            "displayName": "Samanyou Garg",
            "photoUrl": "//lh5.googleusercontent.com/-yYTNXw2_dU4/AAAAAAAAAAI/AAAAAAAAVzA/HBeUyWJabjw/s50-c-k-no/photo.jpg",
            "userId": "100740094775367556925"
          }
        }
      },
      "cell_type": "code",
      "source": [
        "data.val_y"
      ],
      "execution_count": 31,
      "outputs": [
        {
          "output_type": "execute_result",
          "data": {
            "text/plain": [
              "array([0, 0, 0, ..., 9, 9, 9])"
            ]
          },
          "metadata": {
            "tags": []
          },
          "execution_count": 31
        }
      ]
    },
    {
      "metadata": {
        "id": "WVbhYf4nsNxA",
        "colab_type": "text"
      },
      "cell_type": "markdown",
      "source": [
        "So, **cats** have label **0** and **dogs** have label **1**."
      ]
    },
    {
      "metadata": {
        "id": "a5yFU2tasHX-",
        "colab_type": "code",
        "colab": {
          "autoexec": {
            "startup": false,
            "wait_interval": 0
          },
          "base_uri": "https://localhost:8080/",
          "height": 34
        },
        "outputId": "630a67e5-3997-4bf6-cdea-9f70f1eec571",
        "executionInfo": {
          "status": "ok",
          "timestamp": 1524917588230,
          "user_tz": -60,
          "elapsed": 439,
          "user": {
            "displayName": "Samanyou Garg",
            "photoUrl": "//lh5.googleusercontent.com/-yYTNXw2_dU4/AAAAAAAAAAI/AAAAAAAAVzA/HBeUyWJabjw/s50-c-k-no/photo.jpg",
            "userId": "100740094775367556925"
          }
        }
      },
      "cell_type": "code",
      "source": [
        "data.classes"
      ],
      "execution_count": 32,
      "outputs": [
        {
          "output_type": "execute_result",
          "data": {
            "text/plain": [
              "['0', '1', '2', '3', '4', '5', '6', '7', '8', '9']"
            ]
          },
          "metadata": {
            "tags": []
          },
          "execution_count": 32
        }
      ]
    },
    {
      "metadata": {
        "id": "N8Afxr3Qshrx",
        "colab_type": "text"
      },
      "cell_type": "markdown",
      "source": [
        "Predictions for the validation set in log scale."
      ]
    },
    {
      "metadata": {
        "id": "oRhqv7BZsM7p",
        "colab_type": "code",
        "colab": {
          "autoexec": {
            "startup": false,
            "wait_interval": 0
          },
          "base_uri": "https://localhost:8080/",
          "height": 34
        },
        "outputId": "3d107040-fcae-4d9b-9883-90fd7008dcb6",
        "executionInfo": {
          "status": "ok",
          "timestamp": 1524917590891,
          "user_tz": -60,
          "elapsed": 2472,
          "user": {
            "displayName": "Samanyou Garg",
            "photoUrl": "//lh5.googleusercontent.com/-yYTNXw2_dU4/AAAAAAAAAAI/AAAAAAAAVzA/HBeUyWJabjw/s50-c-k-no/photo.jpg",
            "userId": "100740094775367556925"
          }
        }
      },
      "cell_type": "code",
      "source": [
        "log_preds = learn.predict()\n",
        "log_preds.shape"
      ],
      "execution_count": 33,
      "outputs": [
        {
          "output_type": "execute_result",
          "data": {
            "text/plain": [
              "(8424, 10)"
            ]
          },
          "metadata": {
            "tags": []
          },
          "execution_count": 33
        }
      ]
    },
    {
      "metadata": {
        "id": "qCtcWWN_sglf",
        "colab_type": "code",
        "colab": {
          "autoexec": {
            "startup": false,
            "wait_interval": 0
          },
          "base_uri": "https://localhost:8080/",
          "height": 357
        },
        "outputId": "68a47963-da4d-440d-e24f-68ee6f7ef7c7",
        "executionInfo": {
          "status": "ok",
          "timestamp": 1524917591399,
          "user_tz": -60,
          "elapsed": 461,
          "user": {
            "displayName": "Samanyou Garg",
            "photoUrl": "//lh5.googleusercontent.com/-yYTNXw2_dU4/AAAAAAAAAAI/AAAAAAAAVzA/HBeUyWJabjw/s50-c-k-no/photo.jpg",
            "userId": "100740094775367556925"
          }
        }
      },
      "cell_type": "code",
      "source": [
        "log_preds[:10]"
      ],
      "execution_count": 34,
      "outputs": [
        {
          "output_type": "execute_result",
          "data": {
            "text/plain": [
              "array([[ -0.00074, -11.74199,  -9.88672, -11.40453, -11.39766, -11.63973,  -7.58521,  -9.08901, -14.67485,\n",
              "        -10.65759],\n",
              "       [ -0.71225,  -7.08158,  -3.78145,  -4.25441,  -7.6168 ,  -5.39547,  -3.55699,  -7.2315 ,  -0.87319,\n",
              "         -3.9255 ],\n",
              "       [ -0.00004, -13.41707, -12.26753, -13.35298, -13.55263, -14.13158, -12.31509, -12.51908, -15.62729,\n",
              "        -10.70406],\n",
              "       [ -0.00037, -12.44038, -10.41855, -12.27578, -13.00914, -14.24418,  -8.08081, -13.543  , -11.47806,\n",
              "        -11.74209],\n",
              "       [ -0.00002, -12.98046, -14.63845, -14.84439, -13.62669, -14.95681, -12.99193, -11.68672, -17.24859,\n",
              "        -12.05017],\n",
              "       [ -0.00004, -12.7107 , -11.97548, -13.30078, -12.15084, -15.72725, -12.52234, -11.75533, -16.35875,\n",
              "        -11.51342],\n",
              "       [ -0.00059, -11.72324, -11.4599 , -10.64053, -11.20491, -13.12434, -10.76114,  -9.88126, -10.0708 ,\n",
              "         -7.77746],\n",
              "       [ -0.00053, -12.41544, -10.71639, -10.80305,  -9.86709, -10.5717 ,  -7.97096, -11.61702, -10.94601,\n",
              "        -10.19097],\n",
              "       [ -0.00059, -10.94478,  -9.31121, -12.83331, -12.31227, -10.71639,  -8.02544, -11.68985, -12.20706,\n",
              "         -9.12161],\n",
              "       [ -0.00025, -12.4143 , -12.80067, -13.72953, -13.70483, -12.49045, -11.44223, -12.53797, -15.10692,\n",
              "         -8.40972]], dtype=float32)"
            ]
          },
          "metadata": {
            "tags": []
          },
          "execution_count": 34
        }
      ]
    },
    {
      "metadata": {
        "id": "DU_9IgCZsvQp",
        "colab_type": "text"
      },
      "cell_type": "markdown",
      "source": [
        "Use **np.argmax** to get the actual probabilities between 0 and 1 and **np.exp** to get the actual predictions."
      ]
    },
    {
      "metadata": {
        "id": "8PdNmdDTsrqt",
        "colab_type": "code",
        "colab": {
          "autoexec": {
            "startup": false,
            "wait_interval": 0
          }
        }
      },
      "cell_type": "code",
      "source": [
        "preds = np.argmax(log_preds, axis=1)\n",
        "# Gives the probablities for dogs\n",
        "# : in log_preds means give all rows and 1 means give the second column\n",
        "probs = np.exp(log_preds[:,1])"
      ],
      "execution_count": 0,
      "outputs": []
    },
    {
      "metadata": {
        "id": "jsRArM0_tFxb",
        "colab_type": "code",
        "colab": {
          "autoexec": {
            "startup": false,
            "wait_interval": 0
          }
        }
      },
      "cell_type": "code",
      "source": [
        "def rand_by_mask(mask): return np.random.choice(np.where(mask)[0], 4, replace=False)\n",
        "def rand_by_correct(is_correct): return rand_by_mask((preds == data.val_y)==is_correct)"
      ],
      "execution_count": 0,
      "outputs": []
    },
    {
      "metadata": {
        "id": "VU4R1ntNtsmn",
        "colab_type": "code",
        "colab": {
          "autoexec": {
            "startup": false,
            "wait_interval": 0
          }
        }
      },
      "cell_type": "code",
      "source": [
        "def plot_val_with_title(idxs, title):\n",
        "    imgs = np.stack([data.val_ds[x][0] for x in idxs])\n",
        "    title_probs = [probs[x] for x in idxs]\n",
        "    print(title)\n",
        "    return plots(data.val_ds.denorm(imgs), rows=1, titles=title_probs)"
      ],
      "execution_count": 0,
      "outputs": []
    },
    {
      "metadata": {
        "id": "bVMtQ4nitt5Y",
        "colab_type": "code",
        "colab": {
          "autoexec": {
            "startup": false,
            "wait_interval": 0
          }
        }
      },
      "cell_type": "code",
      "source": [
        "def plots(ims, figsize=(12,6), rows=1, titles=None):\n",
        "    f = plt.figure(figsize=figsize)\n",
        "    for i in range(len(ims)):\n",
        "        sp = f.add_subplot(rows, len(ims)//rows, i+1)\n",
        "        sp.axis('Off')\n",
        "        if titles is not None: sp.set_title(titles[i], fontsize=16)\n",
        "        plt.imshow(ims[i])"
      ],
      "execution_count": 0,
      "outputs": []
    },
    {
      "metadata": {
        "id": "h5YBK2BPtvjR",
        "colab_type": "code",
        "colab": {
          "autoexec": {
            "startup": false,
            "wait_interval": 0
          }
        }
      },
      "cell_type": "code",
      "source": [
        "def load_img_id(ds, idx): return np.array(PIL.Image.open(PATH+ds.fnames[idx]))\n",
        "\n",
        "def plot_val_with_title(idxs, title):\n",
        "    imgs = [load_img_id(data.val_ds,x) for x in idxs]\n",
        "    title_probs = [probs[x] for x in idxs]\n",
        "    print(title)\n",
        "    return plots(imgs, rows=1, titles=title_probs, figsize=(16,8))"
      ],
      "execution_count": 0,
      "outputs": []
    },
    {
      "metadata": {
        "id": "E_bTsDOixwJy",
        "colab_type": "text"
      },
      "cell_type": "markdown",
      "source": [
        "A few correct labels at random."
      ]
    },
    {
      "metadata": {
        "id": "1wo5FXaHtxR_",
        "colab_type": "code",
        "colab": {
          "autoexec": {
            "startup": false,
            "wait_interval": 0
          },
          "base_uri": "https://localhost:8080/",
          "height": 277
        },
        "outputId": "b40090ea-d1cf-48b8-9d48-bdb2e10c063f",
        "executionInfo": {
          "status": "ok",
          "timestamp": 1524917595462,
          "user_tz": -60,
          "elapsed": 888,
          "user": {
            "displayName": "Samanyou Garg",
            "photoUrl": "//lh5.googleusercontent.com/-yYTNXw2_dU4/AAAAAAAAAAI/AAAAAAAAVzA/HBeUyWJabjw/s50-c-k-no/photo.jpg",
            "userId": "100740094775367556925"
          }
        }
      },
      "cell_type": "code",
      "source": [
        "plot_val_with_title(rand_by_correct(True), \"Correctly classified\")"
      ],
      "execution_count": 40,
      "outputs": [
        {
          "output_type": "stream",
          "text": [
            "Correctly classified\n"
          ],
          "name": "stdout"
        },
        {
          "output_type": "display_data",
          "data": {
            "image/png": "[encoded data removed]",
            "text/plain": [
              "<matplotlib.figure.Figure at 0x7f2644d78908>"
            ]
          },
          "metadata": {
            "tags": []
          }
        }
      ]
    },
    {
      "metadata": {
        "id": "UTcoiZ0px_w3",
        "colab_type": "text"
      },
      "cell_type": "markdown",
      "source": [
        "A few incorrect labels at random."
      ]
    },
    {
      "metadata": {
        "id": "bkBS_Z4Htzf5",
        "colab_type": "code",
        "colab": {
          "autoexec": {
            "startup": false,
            "wait_interval": 0
          },
          "base_uri": "https://localhost:8080/",
          "height": 277
        },
        "outputId": "658ac588-7d39-401d-b46f-07a229b00418",
        "executionInfo": {
          "status": "ok",
          "timestamp": 1524917596363,
          "user_tz": -60,
          "elapsed": 798,
          "user": {
            "displayName": "Samanyou Garg",
            "photoUrl": "//lh5.googleusercontent.com/-yYTNXw2_dU4/AAAAAAAAAAI/AAAAAAAAVzA/HBeUyWJabjw/s50-c-k-no/photo.jpg",
            "userId": "100740094775367556925"
          }
        }
      },
      "cell_type": "code",
      "source": [
        "plot_val_with_title(rand_by_correct(False), \"Incorrectly classified\")"
      ],
      "execution_count": 41,
      "outputs": [
        {
          "output_type": "stream",
          "text": [
            "Incorrectly classified\n"
          ],
          "name": "stdout"
        },
        {
          "output_type": "display_data",
          "data": {
            "image/png": "[encoded data removed]",
            "text/plain": [
              "<matplotlib.figure.Figure at 0x7f2644e9b390>"
            ]
          },
          "metadata": {
            "tags": []
          }
        }
      ]
    },
    {
      "metadata": {
        "id": "j__pCFK9t2He",
        "colab_type": "code",
        "colab": {
          "autoexec": {
            "startup": false,
            "wait_interval": 0
          }
        }
      },
      "cell_type": "code",
      "source": [
        "def most_by_mask(mask, mult):\n",
        "    idxs = np.where(mask)[0]\n",
        "    return idxs[np.argsort(mult * probs[idxs])[:4]]\n",
        "\n",
        "def most_by_correct(y, is_correct): \n",
        "    mult = -1 if (y==1)==is_correct else 1\n",
        "    return most_by_mask(((preds == data.val_y)==is_correct) & (data.val_y == y), mult)"
      ],
      "execution_count": 0,
      "outputs": []
    },
    {
      "metadata": {
        "id": "oJCzZwcmt3gC",
        "colab_type": "code",
        "colab": {
          "autoexec": {
            "startup": false,
            "wait_interval": 0
          },
          "base_uri": "https://localhost:8080/",
          "height": 277
        },
        "outputId": "5db8d92b-ad9e-47fd-ad3b-0edcc06cde81",
        "executionInfo": {
          "status": "ok",
          "timestamp": 1524917597829,
          "user_tz": -60,
          "elapsed": 868,
          "user": {
            "displayName": "Samanyou Garg",
            "photoUrl": "//lh5.googleusercontent.com/-yYTNXw2_dU4/AAAAAAAAAAI/AAAAAAAAVzA/HBeUyWJabjw/s50-c-k-no/photo.jpg",
            "userId": "100740094775367556925"
          }
        }
      },
      "cell_type": "code",
      "source": [
        "plot_val_with_title(most_by_correct(0, True), \"Most correct 0s\")"
      ],
      "execution_count": 43,
      "outputs": [
        {
          "output_type": "stream",
          "text": [
            "Most correct 0s\n"
          ],
          "name": "stdout"
        },
        {
          "output_type": "display_data",
          "data": {
            "image/png": "[encoded data removed]",
            "text/plain": [
              "<matplotlib.figure.Figure at 0x7f2644cf4080>"
            ]
          },
          "metadata": {
            "tags": []
          }
        }
      ]
    },
    {
      "metadata": {
        "id": "o70MzR8Ft5E0",
        "colab_type": "code",
        "colab": {
          "autoexec": {
            "startup": false,
            "wait_interval": 0
          },
          "base_uri": "https://localhost:8080/",
          "height": 277
        },
        "outputId": "3d767862-f1c6-4d95-9fc7-e362c5aac3e6",
        "executionInfo": {
          "status": "ok",
          "timestamp": 1524917598585,
          "user_tz": -60,
          "elapsed": 711,
          "user": {
            "displayName": "Samanyou Garg",
            "photoUrl": "//lh5.googleusercontent.com/-yYTNXw2_dU4/AAAAAAAAAAI/AAAAAAAAVzA/HBeUyWJabjw/s50-c-k-no/photo.jpg",
            "userId": "100740094775367556925"
          }
        }
      },
      "cell_type": "code",
      "source": [
        "plot_val_with_title(most_by_correct(1, True), \"Most correct 1s\")"
      ],
      "execution_count": 44,
      "outputs": [
        {
          "output_type": "stream",
          "text": [
            "Most correct 1s\n"
          ],
          "name": "stdout"
        },
        {
          "output_type": "display_data",
          "data": {
            "image/png": "[encoded data removed]",
            "text/plain": [
              "<matplotlib.figure.Figure at 0x7f2610f343c8>"
            ]
          },
          "metadata": {
            "tags": []
          }
        }
      ]
    },
    {
      "metadata": {
        "id": "oW1U-sRgt6Z_",
        "colab_type": "code",
        "colab": {
          "autoexec": {
            "startup": false,
            "wait_interval": 0
          },
          "base_uri": "https://localhost:8080/",
          "height": 277
        },
        "outputId": "157a16c4-c9c2-452d-ead7-3f77be5a3205",
        "executionInfo": {
          "status": "ok",
          "timestamp": 1524917599401,
          "user_tz": -60,
          "elapsed": 688,
          "user": {
            "displayName": "Samanyou Garg",
            "photoUrl": "//lh5.googleusercontent.com/-yYTNXw2_dU4/AAAAAAAAAAI/AAAAAAAAVzA/HBeUyWJabjw/s50-c-k-no/photo.jpg",
            "userId": "100740094775367556925"
          }
        }
      },
      "cell_type": "code",
      "source": [
        "plot_val_with_title(most_by_correct(0, False), \"Most incorrect 0s\")"
      ],
      "execution_count": 45,
      "outputs": [
        {
          "output_type": "stream",
          "text": [
            "Most incorrect 0s\n"
          ],
          "name": "stdout"
        },
        {
          "output_type": "display_data",
          "data": {
            "image/png": "[encoded data removed]",
            "text/plain": [
              "<matplotlib.figure.Figure at 0x7f2610dfe390>"
            ]
          },
          "metadata": {
            "tags": []
          }
        }
      ]
    },
    {
      "metadata": {
        "id": "NklxYseIt8Xx",
        "colab_type": "code",
        "colab": {
          "autoexec": {
            "startup": false,
            "wait_interval": 0
          },
          "base_uri": "https://localhost:8080/",
          "height": 277
        },
        "outputId": "848213d8-13b9-44ee-dd91-fae3325f78dc",
        "executionInfo": {
          "status": "ok",
          "timestamp": 1524917600532,
          "user_tz": -60,
          "elapsed": 950,
          "user": {
            "displayName": "Samanyou Garg",
            "photoUrl": "//lh5.googleusercontent.com/-yYTNXw2_dU4/AAAAAAAAAAI/AAAAAAAAVzA/HBeUyWJabjw/s50-c-k-no/photo.jpg",
            "userId": "100740094775367556925"
          }
        }
      },
      "cell_type": "code",
      "source": [
        "plot_val_with_title(most_by_correct(1, False), \"Most incorrect 1s\")"
      ],
      "execution_count": 46,
      "outputs": [
        {
          "output_type": "stream",
          "text": [
            "Most incorrect 1s\n"
          ],
          "name": "stdout"
        },
        {
          "output_type": "display_data",
          "data": {
            "image/png": "[encoded data removed]",
            "text/plain": [
              "<matplotlib.figure.Figure at 0x7f2610cab048>"
            ]
          },
          "metadata": {
            "tags": []
          }
        }
      ]
    },
    {
      "metadata": {
        "id": "qcrb_yE5yRqR",
        "colab_type": "text"
      },
      "cell_type": "markdown",
      "source": [
        "## Find a suitable learning rate using the Learning Rate Finder."
      ]
    },
    {
      "metadata": {
        "id": "xn54VLsut_i_",
        "colab_type": "code",
        "colab": {
          "autoexec": {
            "startup": false,
            "wait_interval": 0
          }
        }
      },
      "cell_type": "code",
      "source": [
        "learn = ConvLearner.pretrained(arch, data, precompute=True)"
      ],
      "execution_count": 0,
      "outputs": []
    },
    {
      "metadata": {
        "id": "iU22BHPyyYbG",
        "colab_type": "code",
        "colab": {
          "autoexec": {
            "startup": false,
            "wait_interval": 0
          },
          "base_uri": "https://localhost:8080/",
          "height": 51
        },
        "outputId": "18bbe52e-66bd-4f53-c16a-e2657e5dc10e",
        "executionInfo": {
          "status": "ok",
          "timestamp": 1524917616208,
          "user_tz": -60,
          "elapsed": 13173,
          "user": {
            "displayName": "Samanyou Garg",
            "photoUrl": "//lh5.googleusercontent.com/-yYTNXw2_dU4/AAAAAAAAAAI/AAAAAAAAVzA/HBeUyWJabjw/s50-c-k-no/photo.jpg",
            "userId": "100740094775367556925"
          }
        }
      },
      "cell_type": "code",
      "source": [
        "lrf=learn.lr_find()"
      ],
      "execution_count": 48,
      "outputs": [
        {
          "output_type": "display_data",
          "data": {
            "application/vnd.jupyter.widget-view+json": {
              "model_id": "376678487c6a4534ab7cf0d86f84493d",
              "version_minor": 0,
              "version_major": 2
            },
            "text/plain": [
              "HBox(children=(IntProgress(value=0, description='Epoch', max=1), HTML(value='')))"
            ]
          },
          "metadata": {
            "tags": []
          }
        },
        {
          "output_type": "stream",
          "text": [
            " 83%|████████▎ | 436/525 [00:12<00:02, 34.30it/s, loss=3.06]"
          ],
          "name": "stdout"
        }
      ]
    },
    {
      "metadata": {
        "id": "QnyYSGjHypK3",
        "colab_type": "text"
      },
      "cell_type": "markdown",
      "source": [
        "Our `learn` object contains an attribute `sched` that contains our learning rate scheduler, and has some convenient plotting functionality including this one:"
      ]
    },
    {
      "metadata": {
        "id": "pkdVVIj9yaH4",
        "colab_type": "code",
        "colab": {
          "autoexec": {
            "startup": false,
            "wait_interval": 0
          },
          "base_uri": "https://localhost:8080/",
          "height": 279
        },
        "outputId": "ebcf4923-6dbb-41f4-8c83-c934f63ff056",
        "executionInfo": {
          "status": "ok",
          "timestamp": 1524917617017,
          "user_tz": -60,
          "elapsed": 645,
          "user": {
            "displayName": "Samanyou Garg",
            "photoUrl": "//lh5.googleusercontent.com/-yYTNXw2_dU4/AAAAAAAAAAI/AAAAAAAAVzA/HBeUyWJabjw/s50-c-k-no/photo.jpg",
            "userId": "100740094775367556925"
          }
        }
      },
      "cell_type": "code",
      "source": [
        "learn.sched.plot_lr()"
      ],
      "execution_count": 49,
      "outputs": [
        {
          "output_type": "display_data",
          "data": {
            "image/png": "[encoded data removed]",
            "text/plain": [
              "<matplotlib.figure.Figure at 0x7f26137b0c18>"
            ]
          },
          "metadata": {
            "tags": []
          }
        }
      ]
    },
    {
      "metadata": {
        "id": "Wg0IXgQuy0ml",
        "colab_type": "text"
      },
      "cell_type": "markdown",
      "source": [
        "We can see the plot of loss versus learning rate to see where our loss stops decreasing:"
      ]
    },
    {
      "metadata": {
        "id": "EfpphwfbytIq",
        "colab_type": "code",
        "colab": {
          "autoexec": {
            "startup": false,
            "wait_interval": 0
          },
          "base_uri": "https://localhost:8080/",
          "height": 283
        },
        "outputId": "2fddaef0-ebf8-4e81-b9e0-ed28b6a55e1e",
        "executionInfo": {
          "status": "ok",
          "timestamp": 1524917618148,
          "user_tz": -60,
          "elapsed": 1079,
          "user": {
            "displayName": "Samanyou Garg",
            "photoUrl": "//lh5.googleusercontent.com/-yYTNXw2_dU4/AAAAAAAAAAI/AAAAAAAAVzA/HBeUyWJabjw/s50-c-k-no/photo.jpg",
            "userId": "100740094775367556925"
          }
        }
      },
      "cell_type": "code",
      "source": [
        "learn.sched.plot()"
      ],
      "execution_count": 50,
      "outputs": [
        {
          "output_type": "display_data",
          "data": {
            "image/png": "[encoded data removed]",
            "text/plain": [
              "<matplotlib.figure.Figure at 0x7f26137ec470>"
            ]
          },
          "metadata": {
            "tags": []
          }
        }
      ]
    },
    {
      "metadata": {
        "id": "txaNMGt6y72D",
        "colab_type": "text"
      },
      "cell_type": "markdown",
      "source": [
        "The loss is still clearly improving at lr=1e-2 (0.01), so that's what we use."
      ]
    },
    {
      "metadata": {
        "id": "sDJlc2I8zBVh",
        "colab_type": "text"
      },
      "cell_type": "markdown",
      "source": [
        "## Improving Model"
      ]
    },
    {
      "metadata": {
        "id": "gMuPuG1Yz4_H",
        "colab_type": "code",
        "colab": {
          "autoexec": {
            "startup": false,
            "wait_interval": 0
          }
        }
      },
      "cell_type": "code",
      "source": [
        "learn.precompute=False"
      ],
      "execution_count": 0,
      "outputs": []
    },
    {
      "metadata": {
        "id": "A1RJqEYgz_jt",
        "colab_type": "code",
        "colab": {
          "autoexec": {
            "startup": false,
            "wait_interval": 0
          },
          "base_uri": "https://localhost:8080/",
          "height": 697
        },
        "outputId": "8714ca34-5b01-43b3-d2e2-314b15ca1b6d",
        "executionInfo": {
          "status": "ok",
          "timestamp": 1524917709535,
          "user_tz": -60,
          "elapsed": 90592,
          "user": {
            "displayName": "Samanyou Garg",
            "photoUrl": "//lh5.googleusercontent.com/-yYTNXw2_dU4/AAAAAAAAAAI/AAAAAAAAVzA/HBeUyWJabjw/s50-c-k-no/photo.jpg",
            "userId": "100740094775367556925"
          }
        }
      },
      "cell_type": "code",
      "source": [
        "learn.fit(1e-2, 3, cycle_len=1)"
      ],
      "execution_count": 52,
      "outputs": [
        {
          "output_type": "display_data",
          "data": {
            "application/vnd.jupyter.widget-view+json": {
              "model_id": "f2a071dcdc2147e1ad63219b90771c3a",
              "version_minor": 0,
              "version_major": 2
            },
            "text/plain": [
              "HBox(children=(IntProgress(value=0, description='Epoch', max=3), HTML(value='')))"
            ]
          },
          "metadata": {
            "tags": []
          }
        },
        {
          "output_type": "stream",
          "text": [
            "\n",
            "  0%|          | 0/525 [00:00<?, ?it/s]\u001b[A\n",
            "  0%|          | 0/525 [00:00<?, ?it/s, loss=2.99]\u001b[A\n",
            "  0%|          | 1/525 [00:00<03:05,  2.83it/s, loss=2.99]\u001b[A\n",
            "  0%|          | 1/525 [00:00<04:59,  1.75it/s, loss=2.92]\u001b[A\n",
            "  0%|          | 2/525 [00:00<02:37,  3.33it/s, loss=2.92]\u001b[A\n",
            "  0%|          | 2/525 [00:00<03:37,  2.40it/s, loss=2.89]\u001b[A\n",
            "  1%|          | 3/525 [00:00<02:30,  3.46it/s, loss=2.89]\u001b[A\n",
            "  1%|          | 3/525 [00:01<03:05,  2.82it/s, loss=2.89]\u001b[A\n",
            "  1%|          | 4/525 [00:01<02:21,  3.67it/s, loss=2.89]\u001b[A\n",
            "  1%|          | 4/525 [00:01<02:49,  3.07it/s, loss=2.88]\u001b[A\n",
            "  1%|          | 5/525 [00:01<02:18,  3.76it/s, loss=2.88]\u001b[A\n",
            "  1%|          | 5/525 [00:01<02:37,  3.30it/s, loss=2.9] \u001b[A\n",
            "  1%|          | 6/525 [00:01<02:12,  3.91it/s, loss=2.9]\u001b[A\n",
            "  1%|          | 6/525 [00:01<02:30,  3.45it/s, loss=2.89]\u001b[A\n",
            "  1%|▏         | 7/525 [00:01<02:10,  3.97it/s, loss=2.89]\u001b[A\n",
            "  1%|▏         | 7/525 [00:01<02:25,  3.55it/s, loss=2.87]\u001b[A\n",
            "  2%|▏         | 8/525 [00:02<02:09,  4.00it/s, loss=2.87]\u001b[A\n",
            "  2%|▏         | 8/525 [00:02<02:25,  3.55it/s, loss=2.88]\u001b[A\n",
            "  2%|▏         | 9/525 [00:02<02:10,  3.95it/s, loss=2.88]\u001b[A\n",
            "  2%|▏         | 9/525 [00:02<02:20,  3.66it/s, loss=2.87]\u001b[A\n",
            "  2%|▏         | 10/525 [00:02<02:08,  4.01it/s, loss=2.87]\u001b[A\n",
            "  2%|▏         | 10/525 [00:02<02:19,  3.68it/s, loss=2.88]\u001b[A\n",
            "  2%|▏         | 11/525 [00:02<02:08,  4.01it/s, loss=2.88]\u001b[A\n",
            "  2%|▏         | 11/525 [00:02<02:18,  3.71it/s, loss=2.88]\u001b[A\n",
            "  2%|▏         | 12/525 [00:02<02:07,  4.01it/s, loss=2.88]\u001b[A\n",
            "  2%|▏         | 12/525 [00:03<02:17,  3.74it/s, loss=2.89]\u001b[A\n",
            "  2%|▏         | 13/525 [00:03<02:07,  4.03it/s, loss=2.89]\u001b[A\n",
            "  2%|▏         | 13/525 [00:03<02:16,  3.76it/s, loss=2.87]\u001b[A\n",
            "  3%|▎         | 14/525 [00:03<02:06,  4.04it/s, loss=2.87]\u001b[A\n",
            "  3%|▎         | 14/525 [00:03<02:14,  3.81it/s, loss=2.87]\u001b[A\n",
            "  3%|▎         | 15/525 [00:03<02:05,  4.07it/s, loss=2.87]\u001b[A\n",
            "  3%|▎         | 15/525 [00:03<02:11,  3.87it/s, loss=2.86]\u001b[A\n",
            "  3%|▎         | 16/525 [00:03<02:03,  4.11it/s, loss=2.86]\u001b[A"
          ],
          "name": "stdout"
        },
        {
          "output_type": "stream",
          "text": [
            "\n",
            "\n",
            "[0.      0.41285 0.28614 0.91091]\n"
          ],
          "name": "stdout"
        },
        {
          "output_type": "stream",
          "text": [
            "[1.      0.33245 0.22536 0.92737]\n",
            "[2.      0.31561 0.2018  0.93471]\n",
            "\n"
          ],
          "name": "stdout"
        }
      ]
    },
    {
      "metadata": {
        "id": "xCSLahcH0B9c",
        "colab_type": "code",
        "colab": {
          "autoexec": {
            "startup": false,
            "wait_interval": 0
          },
          "base_uri": "https://localhost:8080/",
          "height": 279
        },
        "outputId": "2e771426-35e6-45d9-a9bd-b3660be6288c",
        "executionInfo": {
          "status": "ok",
          "timestamp": 1524917710320,
          "user_tz": -60,
          "elapsed": 646,
          "user": {
            "displayName": "Samanyou Garg",
            "photoUrl": "//lh5.googleusercontent.com/-yYTNXw2_dU4/AAAAAAAAAAI/AAAAAAAAVzA/HBeUyWJabjw/s50-c-k-no/photo.jpg",
            "userId": "100740094775367556925"
          }
        }
      },
      "cell_type": "code",
      "source": [
        "learn.sched.plot_lr()"
      ],
      "execution_count": 53,
      "outputs": [
        {
          "output_type": "display_data",
          "data": {
            "image/png": "[encoded data removed]",
            "text/plain": [
              "<matplotlib.figure.Figure at 0x7f26658b4358>"
            ]
          },
          "metadata": {
            "tags": []
          }
        }
      ]
    },
    {
      "metadata": {
        "id": "7IJVGsNr0E-V",
        "colab_type": "code",
        "colab": {
          "autoexec": {
            "startup": false,
            "wait_interval": 0
          }
        }
      },
      "cell_type": "code",
      "source": [
        "learn.save('28_lastlayer')"
      ],
      "execution_count": 0,
      "outputs": []
    },
    {
      "metadata": {
        "id": "nfNfjBYu0Guj",
        "colab_type": "code",
        "colab": {
          "autoexec": {
            "startup": false,
            "wait_interval": 0
          }
        }
      },
      "cell_type": "code",
      "source": [
        "learn.load('28_lastlayer')"
      ],
      "execution_count": 0,
      "outputs": []
    },
    {
      "metadata": {
        "id": "ZCvMmB8i0Rcb",
        "colab_type": "text"
      },
      "cell_type": "markdown",
      "source": [
        "### Fine-tuning and differential learning rate annealing"
      ]
    },
    {
      "metadata": {
        "id": "BwuaC1rf0IKx",
        "colab_type": "code",
        "colab": {
          "autoexec": {
            "startup": false,
            "wait_interval": 0
          }
        }
      },
      "cell_type": "code",
      "source": [
        "learn.unfreeze()"
      ],
      "execution_count": 0,
      "outputs": []
    },
    {
      "metadata": {
        "id": "tMQRIJdj0Xw9",
        "colab_type": "code",
        "colab": {
          "autoexec": {
            "startup": false,
            "wait_interval": 0
          }
        }
      },
      "cell_type": "code",
      "source": [
        "lr=np.array([1e-4,1e-3,1e-2])"
      ],
      "execution_count": 0,
      "outputs": []
    },
    {
      "metadata": {
        "id": "6oYAOWmG0ZKa",
        "colab_type": "code",
        "colab": {
          "autoexec": {
            "startup": false,
            "wait_interval": 0
          },
          "base_uri": "https://localhost:8080/",
          "height": 170
        },
        "outputId": "ad2f3ca6-c5f3-41c3-adaa-127347e75c6e",
        "executionInfo": {
          "status": "ok",
          "timestamp": 1524918184506,
          "user_tz": -60,
          "elapsed": 471571,
          "user": {
            "displayName": "Samanyou Garg",
            "photoUrl": "//lh5.googleusercontent.com/-yYTNXw2_dU4/AAAAAAAAAAI/AAAAAAAAVzA/HBeUyWJabjw/s50-c-k-no/photo.jpg",
            "userId": "100740094775367556925"
          }
        }
      },
      "cell_type": "code",
      "source": [
        "learn.fit(lr, 3, cycle_len=1, cycle_mult=2)"
      ],
      "execution_count": 58,
      "outputs": [
        {
          "output_type": "display_data",
          "data": {
            "application/vnd.jupyter.widget-view+json": {
              "model_id": "54465443dc3a4b8383d15fe4b9df168a",
              "version_minor": 0,
              "version_major": 2
            },
            "text/plain": [
              "HBox(children=(IntProgress(value=0, description='Epoch', max=7), HTML(value='')))"
            ]
          },
          "metadata": {
            "tags": []
          }
        },
        {
          "output_type": "stream",
          "text": [
            "[0.      0.15763 0.09374 0.97457]\n"
          ],
          "name": "stdout"
        },
        {
          "output_type": "stream",
          "text": [
            "[1.      0.09335 0.06539 0.9812 ]\n",
            "[2.      0.05652 0.06    0.98317]\n",
            "  4%|▍         | 22/525 [00:09<03:36,  2.32it/s, loss=0.0542]"
          ],
          "name": "stdout"
        },
        {
          "output_type": "stream",
          "text": [
            "[3.      0.05124 0.06175 0.98298]\n"
          ],
          "name": "stdout"
        },
        {
          "output_type": "stream",
          "text": [
            "[4.      0.03714 0.04988 0.987  ]\n",
            "[5.      0.0208  0.04727 0.98783]\n",
            "  4%|▍         | 22/525 [00:09<03:43,  2.25it/s, loss=0.0209]"
          ],
          "name": "stdout"
        },
        {
          "output_type": "stream",
          "text": [
            "[6.      0.02461 0.04725 0.98814]\n",
            "\n"
          ],
          "name": "stdout"
        }
      ]
    },
    {
      "metadata": {
        "id": "MB5Te18j0adX",
        "colab_type": "code",
        "colab": {
          "autoexec": {
            "startup": false,
            "wait_interval": 0
          },
          "base_uri": "https://localhost:8080/",
          "height": 279
        },
        "outputId": "bdd63bbc-ded6-4600-8483-245b6415c2c1",
        "executionInfo": {
          "status": "ok",
          "timestamp": 1524918185395,
          "user_tz": -60,
          "elapsed": 794,
          "user": {
            "displayName": "Samanyou Garg",
            "photoUrl": "//lh5.googleusercontent.com/-yYTNXw2_dU4/AAAAAAAAAAI/AAAAAAAAVzA/HBeUyWJabjw/s50-c-k-no/photo.jpg",
            "userId": "100740094775367556925"
          }
        }
      },
      "cell_type": "code",
      "source": [
        "learn.sched.plot_lr()"
      ],
      "execution_count": 59,
      "outputs": [
        {
          "output_type": "display_data",
          "data": {
            "image/png": "[encoded data removed]",
            "text/plain": [
              "<matplotlib.figure.Figure at 0x7f2644e0ef60>"
            ]
          },
          "metadata": {
            "tags": []
          }
        }
      ]
    },
    {
      "metadata": {
        "id": "ykbThrB60cIf",
        "colab_type": "code",
        "colab": {
          "autoexec": {
            "startup": false,
            "wait_interval": 0
          }
        }
      },
      "cell_type": "code",
      "source": [
        "learn.save('28_all')"
      ],
      "execution_count": 0,
      "outputs": []
    },
    {
      "metadata": {
        "id": "KhpQrB1-0dc7",
        "colab_type": "code",
        "colab": {
          "autoexec": {
            "startup": false,
            "wait_interval": 0
          }
        }
      },
      "cell_type": "code",
      "source": [
        "learn.load('28_all')"
      ],
      "execution_count": 0,
      "outputs": []
    },
    {
      "metadata": {
        "id": "zA72Fo3g0esb",
        "colab_type": "code",
        "colab": {
          "autoexec": {
            "startup": false,
            "wait_interval": 0
          },
          "base_uri": "https://localhost:8080/",
          "height": 34
        },
        "outputId": "405472b8-6abb-4d57-b3c0-5aafafbe9ae3",
        "executionInfo": {
          "status": "ok",
          "timestamp": 1524918211892,
          "user_tz": -60,
          "elapsed": 24655,
          "user": {
            "displayName": "Samanyou Garg",
            "photoUrl": "//lh5.googleusercontent.com/-yYTNXw2_dU4/AAAAAAAAAAI/AAAAAAAAVzA/HBeUyWJabjw/s50-c-k-no/photo.jpg",
            "userId": "100740094775367556925"
          }
        }
      },
      "cell_type": "code",
      "source": [
        "log_preds, y = learn.TTA()\n",
        "probs = np.exp(log_preds)\n",
        "accuracy(log_preds, y), metrics.log_loss(y, probs)"
      ],
      "execution_count": 62,
      "outputs": [
        {
          "output_type": "stream",
          "text": [
            ""
          ],
          "name": "stdout"
        },
        {
          "output_type": "execute_result",
          "data": {
            "text/plain": [
              "(0.9882478632478633, 0.04696348772157545)"
            ]
          },
          "metadata": {
            "tags": []
          },
          "execution_count": 62
        }
      ]
    },
    {
      "metadata": {
        "id": "XUhqhcgj0jst",
        "colab_type": "text"
      },
      "cell_type": "markdown",
      "source": [
        "## Analysing the Results"
      ]
    },
    {
      "metadata": {
        "id": "PXmGMISJ0n1O",
        "colab_type": "text"
      },
      "cell_type": "markdown",
      "source": [
        "### Confusion Matrix"
      ]
    },
    {
      "metadata": {
        "id": "vcZEiVpL0hb2",
        "colab_type": "code",
        "colab": {
          "autoexec": {
            "startup": false,
            "wait_interval": 0
          }
        }
      },
      "cell_type": "code",
      "source": [
        "preds = np.argmax(probs, axis=1)\n",
        "probs = probs[:,1]"
      ],
      "execution_count": 0,
      "outputs": []
    },
    {
      "metadata": {
        "id": "zoFei65C0mXc",
        "colab_type": "code",
        "colab": {
          "autoexec": {
            "startup": false,
            "wait_interval": 0
          }
        }
      },
      "cell_type": "code",
      "source": [
        "from sklearn.metrics import confusion_matrix\n",
        "cm = confusion_matrix(y, preds)"
      ],
      "execution_count": 0,
      "outputs": []
    },
    {
      "metadata": {
        "id": "VPYah80p0qx7",
        "colab_type": "code",
        "colab": {
          "autoexec": {
            "startup": false,
            "wait_interval": 0
          },
          "base_uri": "https://localhost:8080/",
          "height": 481
        },
        "outputId": "774ca993-10d2-4703-9a3d-44599af244e3",
        "executionInfo": {
          "status": "ok",
          "timestamp": 1524918214091,
          "user_tz": -60,
          "elapsed": 1086,
          "user": {
            "displayName": "Samanyou Garg",
            "photoUrl": "//lh5.googleusercontent.com/-yYTNXw2_dU4/AAAAAAAAAAI/AAAAAAAAVzA/HBeUyWJabjw/s50-c-k-no/photo.jpg",
            "userId": "100740094775367556925"
          }
        }
      },
      "cell_type": "code",
      "source": [
        "plot_confusion_matrix(cm, data.classes)"
      ],
      "execution_count": 65,
      "outputs": [
        {
          "output_type": "stream",
          "text": [
            "[[869   0   0   0   0   0   2   0   1   1]\n",
            " [  0 937   1   1   0   0   0   2   0   1]\n",
            " [  0   3 766   1   2   0   1   2   2   1]\n",
            " [  0   0   1 853   0   4   0   0   3   5]\n",
            " [  0   1   0   0 816   0   1   0   0   5]\n",
            " [  0   0   0   3   0 750   2   0   4   2]\n",
            " [  0   2   0   0   0   1 804   0   1   0]\n",
            " [  0   1   2   0   5   1   0 888   0   1]\n",
            " [  0   0   1   1   2   5   1   1 801   5]\n",
            " [  0   0   0   1   4   0   0   8   4 841]]\n"
          ],
          "name": "stdout"
        },
        {
          "output_type": "display_data",
          "data": {
            "image/png": "[encoded data removed]",
            "text/plain": [
              "<matplotlib.figure.Figure at 0x7f2644d04cf8>"
            ]
          },
          "metadata": {
            "tags": []
          }
        }
      ]
    },
    {
      "metadata": {
        "id": "PTYinR6B3eZR",
        "colab_type": "code",
        "colab": {
          "autoexec": {
            "startup": false,
            "wait_interval": 0
          },
          "base_uri": "https://localhost:8080/",
          "height": 204
        },
        "outputId": "143be259-e8e9-4213-f840-41253f6ecb96",
        "executionInfo": {
          "status": "ok",
          "timestamp": 1524918214569,
          "user_tz": -60,
          "elapsed": 425,
          "user": {
            "displayName": "Samanyou Garg",
            "photoUrl": "//lh5.googleusercontent.com/-yYTNXw2_dU4/AAAAAAAAAAI/AAAAAAAAVzA/HBeUyWJabjw/s50-c-k-no/photo.jpg",
            "userId": "100740094775367556925"
          }
        }
      },
      "cell_type": "code",
      "source": [
        "submission_csv = f'{PATH}sample_submission.csv'\n",
        "submission_df = pd.read_csv(submission_csv)\n",
        "submission_df.head()"
      ],
      "execution_count": 66,
      "outputs": [
        {
          "output_type": "execute_result",
          "data": {
            "text/html": [
              "<div>\n",
              "<style scoped>\n",
              "    .dataframe tbody tr th:only-of-type {\n",
              "        vertical-align: middle;\n",
              "    }\n",
              "\n",
              "    .dataframe tbody tr th {\n",
              "        vertical-align: top;\n",
              "    }\n",
              "\n",
              "    .dataframe thead th {\n",
              "        text-align: right;\n",
              "    }\n",
              "</style>\n",
              "<table border=\"1\" class=\"dataframe\">\n",
              "  <thead>\n",
              "    <tr style=\"text-align: right;\">\n",
              "      <th></th>\n",
              "      <th>ImageId</th>\n",
              "      <th>Label</th>\n",
              "    </tr>\n",
              "  </thead>\n",
              "  <tbody>\n",
              "    <tr>\n",
              "      <th>0</th>\n",
              "      <td>1</td>\n",
              "      <td>0</td>\n",
              "    </tr>\n",
              "    <tr>\n",
              "      <th>1</th>\n",
              "      <td>2</td>\n",
              "      <td>0</td>\n",
              "    </tr>\n",
              "    <tr>\n",
              "      <th>2</th>\n",
              "      <td>3</td>\n",
              "      <td>0</td>\n",
              "    </tr>\n",
              "    <tr>\n",
              "      <th>3</th>\n",
              "      <td>4</td>\n",
              "      <td>0</td>\n",
              "    </tr>\n",
              "    <tr>\n",
              "      <th>4</th>\n",
              "      <td>5</td>\n",
              "      <td>0</td>\n",
              "    </tr>\n",
              "  </tbody>\n",
              "</table>\n",
              "</div>"
            ],
            "text/plain": [
              "   ImageId  Label\n",
              "0        1      0\n",
              "1        2      0\n",
              "2        3      0\n",
              "3        4      0\n",
              "4        5      0"
            ]
          },
          "metadata": {
            "tags": []
          },
          "execution_count": 66
        }
      ]
    },
    {
      "metadata": {
        "id": "9FvCBxoZ3jiC",
        "colab_type": "code",
        "colab": {
          "autoexec": {
            "startup": false,
            "wait_interval": 0
          },
          "base_uri": "https://localhost:8080/",
          "height": 34
        },
        "outputId": "5ef360d2-6de0-47ea-f470-431aa41dc1a8",
        "executionInfo": {
          "status": "ok",
          "timestamp": 1524918215205,
          "user_tz": -60,
          "elapsed": 498,
          "user": {
            "displayName": "Samanyou Garg",
            "photoUrl": "//lh5.googleusercontent.com/-yYTNXw2_dU4/AAAAAAAAAAI/AAAAAAAAVzA/HBeUyWJabjw/s50-c-k-no/photo.jpg",
            "userId": "100740094775367556925"
          }
        }
      },
      "cell_type": "code",
      "source": [
        "data.classes"
      ],
      "execution_count": 67,
      "outputs": [
        {
          "output_type": "execute_result",
          "data": {
            "text/plain": [
              "['0', '1', '2', '3', '4', '5', '6', '7', '8', '9']"
            ]
          },
          "metadata": {
            "tags": []
          },
          "execution_count": 67
        }
      ]
    },
    {
      "metadata": {
        "id": "nIzrEtWj3oT8",
        "colab_type": "code",
        "colab": {
          "autoexec": {
            "startup": false,
            "wait_interval": 0
          },
          "base_uri": "https://localhost:8080/",
          "height": 17034
        },
        "outputId": "4e1a74ed-235c-426f-abaf-5628c9a82885",
        "executionInfo": {
          "status": "ok",
          "timestamp": 1524918215793,
          "user_tz": -60,
          "elapsed": 456,
          "user": {
            "displayName": "Samanyou Garg",
            "photoUrl": "//lh5.googleusercontent.com/-yYTNXw2_dU4/AAAAAAAAAAI/AAAAAAAAVzA/HBeUyWJabjw/s50-c-k-no/photo.jpg",
            "userId": "100740094775367556925"
          }
        }
      },
      "cell_type": "code",
      "source": [
        "data.test_ds.fnames"
      ],
      "execution_count": 68,
      "outputs": [
        {
          "output_type": "execute_result",
          "data": {
            "text/plain": [
              "['test/18902.jpg',\n",
              " 'test/11314.jpg',\n",
              " 'test/27198.jpg',\n",
              " 'test/643.jpg',\n",
              " 'test/25624.jpg',\n",
              " 'test/4111.jpg',\n",
              " 'test/23327.jpg',\n",
              " 'test/11796.jpg',\n",
              " 'test/15388.jpg',\n",
              " 'test/10125.jpg',\n",
              " 'test/9321.jpg',\n",
              " 'test/9188.jpg',\n",
              " 'test/25803.jpg',\n",
              " 'test/23189.jpg',\n",
              " 'test/12562.jpg',\n",
              " 'test/2049.jpg',\n",
              " 'test/25383.jpg',\n",
              " 'test/22154.jpg',\n",
              " 'test/15170.jpg',\n",
              " 'test/1285.jpg',\n",
              " 'test/15574.jpg',\n",
              " 'test/1404.jpg',\n",
              " 'test/337.jpg',\n",
              " 'test/19936.jpg',\n",
              " 'test/11572.jpg',\n",
              " 'test/7542.jpg',\n",
              " 'test/2035.jpg',\n",
              " 'test/13829.jpg',\n",
              " 'test/6041.jpg',\n",
              " 'test/22814.jpg',\n",
              " 'test/1508.jpg',\n",
              " 'test/24825.jpg',\n",
              " 'test/1665.jpg',\n",
              " 'test/24972.jpg',\n",
              " 'test/1338.jpg',\n",
              " 'test/5301.jpg',\n",
              " 'test/10814.jpg',\n",
              " 'test/15248.jpg',\n",
              " 'test/12631.jpg',\n",
              " 'test/4516.jpg',\n",
              " 'test/12450.jpg',\n",
              " 'test/13793.jpg',\n",
              " 'test/18843.jpg',\n",
              " 'test/2600.jpg',\n",
              " 'test/25457.jpg',\n",
              " 'test/26208.jpg',\n",
              " 'test/1837.jpg',\n",
              " 'test/15995.jpg',\n",
              " 'test/16973.jpg',\n",
              " 'test/5682.jpg',\n",
              " 'test/24470.jpg',\n",
              " 'test/7105.jpg',\n",
              " 'test/16907.jpg',\n",
              " 'test/10442.jpg',\n",
              " 'test/4307.jpg',\n",
              " 'test/16740.jpg',\n",
              " 'test/25432.jpg',\n",
              " 'test/4244.jpg',\n",
              " 'test/4572.jpg',\n",
              " 'test/27732.jpg',\n",
              " 'test/19159.jpg',\n",
              " 'test/6577.jpg',\n",
              " 'test/23431.jpg',\n",
              " 'test/16039.jpg',\n",
              " 'test/7248.jpg',\n",
              " 'test/12084.jpg',\n",
              " 'test/19952.jpg',\n",
              " 'test/26148.jpg',\n",
              " 'test/6312.jpg',\n",
              " 'test/11705.jpg',\n",
              " 'test/10576.jpg',\n",
              " 'test/22752.jpg',\n",
              " 'test/5017.jpg',\n",
              " 'test/6642.jpg',\n",
              " 'test/20627.jpg',\n",
              " 'test/21850.jpg',\n",
              " 'test/5320.jpg',\n",
              " 'test/9416.jpg',\n",
              " 'test/15902.jpg',\n",
              " 'test/9569.jpg',\n",
              " 'test/1741.jpg',\n",
              " 'test/20160.jpg',\n",
              " 'test/3276.jpg',\n",
              " 'test/5095.jpg',\n",
              " 'test/6322.jpg',\n",
              " 'test/8829.jpg',\n",
              " 'test/4997.jpg',\n",
              " 'test/26127.jpg',\n",
              " 'test/24252.jpg',\n",
              " 'test/2605.jpg',\n",
              " 'test/25990.jpg',\n",
              " 'test/9460.jpg',\n",
              " 'test/19071.jpg',\n",
              " 'test/10500.jpg',\n",
              " 'test/7952.jpg',\n",
              " 'test/10413.jpg',\n",
              " 'test/1483.jpg',\n",
              " 'test/2544.jpg',\n",
              " 'test/8196.jpg',\n",
              " 'test/20024.jpg',\n",
              " 'test/12747.jpg',\n",
              " 'test/17455.jpg',\n",
              " 'test/20402.jpg',\n",
              " 'test/1075.jpg',\n",
              " 'test/24118.jpg',\n",
              " 'test/12096.jpg',\n",
              " 'test/20178.jpg',\n",
              " 'test/17099.jpg',\n",
              " 'test/5277.jpg',\n",
              " 'test/8314.jpg',\n",
              " 'test/22342.jpg',\n",
              " 'test/13625.jpg',\n",
              " 'test/27525.jpg',\n",
              " 'test/342.jpg',\n",
              " 'test/9007.jpg',\n",
              " 'test/21578.jpg',\n",
              " 'test/15115.jpg',\n",
              " 'test/19051.jpg',\n",
              " 'test/4648.jpg',\n",
              " 'test/23126.jpg',\n",
              " 'test/16323.jpg',\n",
              " 'test/7205.jpg',\n",
              " 'test/4061.jpg',\n",
              " 'test/105.jpg',\n",
              " 'test/17301.jpg',\n",
              " 'test/16846.jpg',\n",
              " 'test/7415.jpg',\n",
              " 'test/5890.jpg',\n",
              " 'test/14230.jpg',\n",
              " 'test/18316.jpg',\n",
              " 'test/22859.jpg',\n",
              " 'test/14971.jpg',\n",
              " 'test/20939.jpg',\n",
              " 'test/16414.jpg',\n",
              " 'test/8702.jpg',\n",
              " 'test/18282.jpg',\n",
              " 'test/3119.jpg',\n",
              " 'test/10122.jpg',\n",
              " 'test/21526.jpg',\n",
              " 'test/19158.jpg',\n",
              " 'test/24724.jpg',\n",
              " 'test/7717.jpg',\n",
              " 'test/14231.jpg',\n",
              " 'test/7749.jpg',\n",
              " 'test/12242.jpg',\n",
              " 'test/27107.jpg',\n",
              " 'test/10368.jpg',\n",
              " 'test/20114.jpg',\n",
              " 'test/9443.jpg',\n",
              " 'test/7140.jpg',\n",
              " 'test/27339.jpg',\n",
              " 'test/13728.jpg',\n",
              " 'test/17709.jpg',\n",
              " 'test/27968.jpg',\n",
              " 'test/8684.jpg',\n",
              " 'test/26917.jpg',\n",
              " 'test/25521.jpg',\n",
              " 'test/690.jpg',\n",
              " 'test/10956.jpg',\n",
              " 'test/25145.jpg',\n",
              " 'test/14171.jpg',\n",
              " 'test/26596.jpg',\n",
              " 'test/22055.jpg',\n",
              " 'test/19591.jpg',\n",
              " 'test/27532.jpg',\n",
              " 'test/3501.jpg',\n",
              " 'test/3877.jpg',\n",
              " 'test/1468.jpg',\n",
              " 'test/23766.jpg',\n",
              " 'test/23588.jpg',\n",
              " 'test/25134.jpg',\n",
              " 'test/19781.jpg',\n",
              " 'test/11523.jpg',\n",
              " 'test/27031.jpg',\n",
              " 'test/20091.jpg',\n",
              " 'test/18306.jpg',\n",
              " 'test/18221.jpg',\n",
              " 'test/15858.jpg',\n",
              " 'test/12457.jpg',\n",
              " 'test/24270.jpg',\n",
              " 'test/20414.jpg',\n",
              " 'test/5458.jpg',\n",
              " 'test/25640.jpg',\n",
              " 'test/7519.jpg',\n",
              " 'test/19684.jpg',\n",
              " 'test/7431.jpg',\n",
              " 'test/1083.jpg',\n",
              " 'test/2329.jpg',\n",
              " 'test/26022.jpg',\n",
              " 'test/22277.jpg',\n",
              " 'test/26297.jpg',\n",
              " 'test/17612.jpg',\n",
              " 'test/13381.jpg',\n",
              " 'test/271.jpg',\n",
              " 'test/12851.jpg',\n",
              " 'test/14347.jpg',\n",
              " 'test/1792.jpg',\n",
              " 'test/8164.jpg',\n",
              " 'test/1529.jpg',\n",
              " 'test/11964.jpg',\n",
              " 'test/11236.jpg',\n",
              " 'test/1915.jpg',\n",
              " 'test/12233.jpg',\n",
              " 'test/26007.jpg',\n",
              " 'test/26132.jpg',\n",
              " 'test/10566.jpg',\n",
              " 'test/23235.jpg',\n",
              " 'test/23559.jpg',\n",
              " 'test/21091.jpg',\n",
              " 'test/1534.jpg',\n",
              " 'test/14055.jpg',\n",
              " 'test/7154.jpg',\n",
              " 'test/4677.jpg',\n",
              " 'test/9331.jpg',\n",
              " 'test/26294.jpg',\n",
              " 'test/26845.jpg',\n",
              " 'test/24788.jpg',\n",
              " 'test/10992.jpg',\n",
              " 'test/18786.jpg',\n",
              " 'test/9566.jpg',\n",
              " 'test/21622.jpg',\n",
              " 'test/13070.jpg',\n",
              " 'test/2927.jpg',\n",
              " 'test/22673.jpg',\n",
              " 'test/19523.jpg',\n",
              " 'test/24214.jpg',\n",
              " 'test/7869.jpg',\n",
              " 'test/5150.jpg',\n",
              " 'test/3439.jpg',\n",
              " 'test/22997.jpg',\n",
              " 'test/15318.jpg',\n",
              " 'test/18501.jpg',\n",
              " 'test/7601.jpg',\n",
              " 'test/23758.jpg',\n",
              " 'test/11012.jpg',\n",
              " 'test/3591.jpg',\n",
              " 'test/3345.jpg',\n",
              " 'test/939.jpg',\n",
              " 'test/5100.jpg',\n",
              " 'test/1959.jpg',\n",
              " 'test/11199.jpg',\n",
              " 'test/18970.jpg',\n",
              " 'test/21322.jpg',\n",
              " 'test/18750.jpg',\n",
              " 'test/12004.jpg',\n",
              " 'test/10838.jpg',\n",
              " 'test/10327.jpg',\n",
              " 'test/13963.jpg',\n",
              " 'test/15959.jpg',\n",
              " 'test/12605.jpg',\n",
              " 'test/3282.jpg',\n",
              " 'test/6831.jpg',\n",
              " 'test/25850.jpg',\n",
              " 'test/15254.jpg',\n",
              " 'test/2596.jpg',\n",
              " 'test/3747.jpg',\n",
              " 'test/18024.jpg',\n",
              " 'test/24651.jpg',\n",
              " 'test/8153.jpg',\n",
              " 'test/13506.jpg',\n",
              " 'test/4666.jpg',\n",
              " 'test/19533.jpg',\n",
              " 'test/26037.jpg',\n",
              " 'test/11678.jpg',\n",
              " 'test/16815.jpg',\n",
              " 'test/10751.jpg',\n",
              " 'test/3300.jpg',\n",
              " 'test/20464.jpg',\n",
              " 'test/21353.jpg',\n",
              " 'test/23206.jpg',\n",
              " 'test/27976.jpg',\n",
              " 'test/7993.jpg',\n",
              " 'test/2475.jpg',\n",
              " 'test/23113.jpg',\n",
              " 'test/12853.jpg',\n",
              " 'test/6662.jpg',\n",
              " 'test/20613.jpg',\n",
              " 'test/19541.jpg',\n",
              " 'test/5755.jpg',\n",
              " 'test/13393.jpg',\n",
              " 'test/20784.jpg',\n",
              " 'test/17166.jpg',\n",
              " 'test/19448.jpg',\n",
              " 'test/27197.jpg',\n",
              " 'test/3293.jpg',\n",
              " 'test/19909.jpg',\n",
              " 'test/15386.jpg',\n",
              " 'test/6355.jpg',\n",
              " 'test/3487.jpg',\n",
              " 'test/13343.jpg',\n",
              " 'test/19713.jpg',\n",
              " 'test/16649.jpg',\n",
              " 'test/25471.jpg',\n",
              " 'test/19224.jpg',\n",
              " 'test/4598.jpg',\n",
              " 'test/13488.jpg',\n",
              " 'test/12165.jpg',\n",
              " 'test/12688.jpg',\n",
              " 'test/22953.jpg',\n",
              " 'test/25929.jpg',\n",
              " 'test/14813.jpg',\n",
              " 'test/2231.jpg',\n",
              " 'test/14441.jpg',\n",
              " 'test/9620.jpg',\n",
              " 'test/8131.jpg',\n",
              " 'test/25948.jpg',\n",
              " 'test/10470.jpg',\n",
              " 'test/24561.jpg',\n",
              " 'test/14409.jpg',\n",
              " 'test/23778.jpg',\n",
              " 'test/18830.jpg',\n",
              " 'test/1238.jpg',\n",
              " 'test/15941.jpg',\n",
              " 'test/15404.jpg',\n",
              " 'test/369.jpg',\n",
              " 'test/4028.jpg',\n",
              " 'test/12003.jpg',\n",
              " 'test/2637.jpg',\n",
              " 'test/13932.jpg',\n",
              " 'test/6083.jpg',\n",
              " 'test/6007.jpg',\n",
              " 'test/16351.jpg',\n",
              " 'test/11894.jpg',\n",
              " 'test/7163.jpg',\n",
              " 'test/10134.jpg',\n",
              " 'test/26897.jpg',\n",
              " 'test/3027.jpg',\n",
              " 'test/13492.jpg',\n",
              " 'test/21598.jpg',\n",
              " 'test/2639.jpg',\n",
              " 'test/16889.jpg',\n",
              " 'test/20330.jpg',\n",
              " 'test/24764.jpg',\n",
              " 'test/20631.jpg',\n",
              " 'test/18633.jpg',\n",
              " 'test/1816.jpg',\n",
              " 'test/9361.jpg',\n",
              " 'test/23656.jpg',\n",
              " 'test/18881.jpg',\n",
              " 'test/12126.jpg',\n",
              " 'test/21004.jpg',\n",
              " 'test/23386.jpg',\n",
              " 'test/7982.jpg',\n",
              " 'test/20729.jpg',\n",
              " 'test/3680.jpg',\n",
              " 'test/16161.jpg',\n",
              " 'test/6868.jpg',\n",
              " 'test/8148.jpg',\n",
              " 'test/21294.jpg',\n",
              " 'test/15116.jpg',\n",
              " 'test/14285.jpg',\n",
              " 'test/26211.jpg',\n",
              " 'test/13898.jpg',\n",
              " 'test/8226.jpg',\n",
              " 'test/22726.jpg',\n",
              " 'test/1.jpg',\n",
              " 'test/18365.jpg',\n",
              " 'test/6065.jpg',\n",
              " 'test/12295.jpg',\n",
              " 'test/19752.jpg',\n",
              " 'test/21559.jpg',\n",
              " 'test/22308.jpg',\n",
              " 'test/16419.jpg',\n",
              " 'test/15939.jpg',\n",
              " 'test/3103.jpg',\n",
              " 'test/25530.jpg',\n",
              " 'test/219.jpg',\n",
              " 'test/19948.jpg',\n",
              " 'test/2732.jpg',\n",
              " 'test/10505.jpg',\n",
              " 'test/18734.jpg',\n",
              " 'test/20833.jpg',\n",
              " 'test/1252.jpg',\n",
              " 'test/8443.jpg',\n",
              " 'test/3454.jpg',\n",
              " 'test/3294.jpg',\n",
              " 'test/1676.jpg',\n",
              " 'test/10439.jpg',\n",
              " 'test/9406.jpg',\n",
              " 'test/12796.jpg',\n",
              " 'test/3164.jpg',\n",
              " 'test/20901.jpg',\n",
              " 'test/5166.jpg',\n",
              " 'test/8372.jpg',\n",
              " 'test/6490.jpg',\n",
              " 'test/7134.jpg',\n",
              " 'test/11701.jpg',\n",
              " 'test/1639.jpg',\n",
              " 'test/3976.jpg',\n",
              " 'test/6467.jpg',\n",
              " 'test/6941.jpg',\n",
              " 'test/1387.jpg',\n",
              " 'test/14060.jpg',\n",
              " 'test/18717.jpg',\n",
              " 'test/16311.jpg',\n",
              " 'test/21207.jpg',\n",
              " 'test/16597.jpg',\n",
              " 'test/10273.jpg',\n",
              " 'test/4717.jpg',\n",
              " 'test/24689.jpg',\n",
              " 'test/24486.jpg',\n",
              " 'test/24206.jpg',\n",
              " 'test/18500.jpg',\n",
              " 'test/14398.jpg',\n",
              " 'test/9856.jpg',\n",
              " 'test/17861.jpg',\n",
              " 'test/6203.jpg',\n",
              " 'test/24453.jpg',\n",
              " 'test/18281.jpg',\n",
              " 'test/8030.jpg',\n",
              " 'test/748.jpg',\n",
              " 'test/6140.jpg',\n",
              " 'test/8066.jpg',\n",
              " 'test/12532.jpg',\n",
              " 'test/2101.jpg',\n",
              " 'test/9805.jpg',\n",
              " 'test/26850.jpg',\n",
              " 'test/26260.jpg',\n",
              " 'test/14803.jpg',\n",
              " 'test/1085.jpg',\n",
              " 'test/27395.jpg',\n",
              " 'test/521.jpg',\n",
              " 'test/15325.jpg',\n",
              " 'test/3689.jpg',\n",
              " 'test/3569.jpg',\n",
              " 'test/19712.jpg',\n",
              " 'test/23630.jpg',\n",
              " 'test/26543.jpg',\n",
              " 'test/26600.jpg',\n",
              " 'test/699.jpg',\n",
              " 'test/12890.jpg',\n",
              " 'test/11116.jpg',\n",
              " 'test/5354.jpg',\n",
              " 'test/927.jpg',\n",
              " 'test/12567.jpg',\n",
              " 'test/21424.jpg',\n",
              " 'test/16535.jpg',\n",
              " 'test/13753.jpg',\n",
              " 'test/26996.jpg',\n",
              " 'test/16643.jpg',\n",
              " 'test/24429.jpg',\n",
              " 'test/7040.jpg',\n",
              " 'test/8017.jpg',\n",
              " 'test/24888.jpg',\n",
              " 'test/25056.jpg',\n",
              " 'test/19425.jpg',\n",
              " 'test/15649.jpg',\n",
              " 'test/23885.jpg',\n",
              " 'test/24460.jpg',\n",
              " 'test/19971.jpg',\n",
              " 'test/3076.jpg',\n",
              " 'test/17072.jpg',\n",
              " 'test/1263.jpg',\n",
              " 'test/21043.jpg',\n",
              " 'test/9432.jpg',\n",
              " 'test/13866.jpg',\n",
              " 'test/17834.jpg',\n",
              " 'test/1334.jpg',\n",
              " 'test/19416.jpg',\n",
              " 'test/49.jpg',\n",
              " 'test/23208.jpg',\n",
              " 'test/14537.jpg',\n",
              " 'test/10875.jpg',\n",
              " 'test/3882.jpg',\n",
              " 'test/3596.jpg',\n",
              " 'test/23572.jpg',\n",
              " 'test/14534.jpg',\n",
              " 'test/18445.jpg',\n",
              " 'test/3935.jpg',\n",
              " 'test/21861.jpg',\n",
              " 'test/14956.jpg',\n",
              " 'test/4191.jpg',\n",
              " 'test/20286.jpg',\n",
              " 'test/19513.jpg',\n",
              " 'test/16573.jpg',\n",
              " 'test/14282.jpg',\n",
              " 'test/27503.jpg',\n",
              " 'test/19025.jpg',\n",
              " 'test/7310.jpg',\n",
              " 'test/9884.jpg',\n",
              " 'test/678.jpg',\n",
              " 'test/25944.jpg',\n",
              " 'test/6352.jpg',\n",
              " 'test/8375.jpg',\n",
              " 'test/3521.jpg',\n",
              " 'test/15660.jpg',\n",
              " 'test/14591.jpg',\n",
              " 'test/22911.jpg',\n",
              " 'test/10325.jpg',\n",
              " 'test/20946.jpg',\n",
              " 'test/22054.jpg',\n",
              " 'test/8297.jpg',\n",
              " 'test/16836.jpg',\n",
              " 'test/15369.jpg',\n",
              " 'test/17903.jpg',\n",
              " 'test/25556.jpg',\n",
              " 'test/22856.jpg',\n",
              " 'test/22845.jpg',\n",
              " 'test/14324.jpg',\n",
              " 'test/561.jpg',\n",
              " 'test/4994.jpg',\n",
              " 'test/6074.jpg',\n",
              " 'test/8088.jpg',\n",
              " 'test/8630.jpg',\n",
              " 'test/16866.jpg',\n",
              " 'test/4974.jpg',\n",
              " 'test/16376.jpg',\n",
              " 'test/11462.jpg',\n",
              " 'test/8939.jpg',\n",
              " 'test/1565.jpg',\n",
              " 'test/15812.jpg',\n",
              " 'test/15929.jpg',\n",
              " 'test/18746.jpg',\n",
              " 'test/9179.jpg',\n",
              " 'test/19856.jpg',\n",
              " 'test/26302.jpg',\n",
              " 'test/13125.jpg',\n",
              " 'test/26718.jpg',\n",
              " 'test/20827.jpg',\n",
              " 'test/10976.jpg',\n",
              " 'test/16865.jpg',\n",
              " 'test/1966.jpg',\n",
              " 'test/4179.jpg',\n",
              " 'test/5058.jpg',\n",
              " 'test/23272.jpg',\n",
              " 'test/20916.jpg',\n",
              " 'test/13923.jpg',\n",
              " 'test/4071.jpg',\n",
              " 'test/22768.jpg',\n",
              " 'test/16561.jpg',\n",
              " 'test/3906.jpg',\n",
              " 'test/18449.jpg',\n",
              " 'test/21296.jpg',\n",
              " 'test/21784.jpg',\n",
              " 'test/1945.jpg',\n",
              " 'test/10825.jpg',\n",
              " 'test/11855.jpg',\n",
              " 'test/1951.jpg',\n",
              " 'test/11656.jpg',\n",
              " 'test/12993.jpg',\n",
              " 'test/25061.jpg',\n",
              " 'test/6682.jpg',\n",
              " 'test/25559.jpg',\n",
              " 'test/23854.jpg',\n",
              " 'test/18416.jpg',\n",
              " 'test/400.jpg',\n",
              " 'test/135.jpg',\n",
              " 'test/856.jpg',\n",
              " 'test/14198.jpg',\n",
              " 'test/10211.jpg',\n",
              " 'test/21993.jpg',\n",
              " 'test/15094.jpg',\n",
              " 'test/1740.jpg',\n",
              " 'test/4749.jpg',\n",
              " 'test/12387.jpg',\n",
              " 'test/16457.jpg',\n",
              " 'test/10028.jpg',\n",
              " 'test/25180.jpg',\n",
              " 'test/2928.jpg',\n",
              " 'test/11013.jpg',\n",
              " 'test/776.jpg',\n",
              " 'test/1723.jpg',\n",
              " 'test/9090.jpg',\n",
              " 'test/19927.jpg',\n",
              " 'test/108.jpg',\n",
              " 'test/12334.jpg',\n",
              " 'test/23997.jpg',\n",
              " 'test/17955.jpg',\n",
              " 'test/11559.jpg',\n",
              " 'test/16627.jpg',\n",
              " 'test/5754.jpg',\n",
              " 'test/21606.jpg',\n",
              " 'test/18021.jpg',\n",
              " 'test/9673.jpg',\n",
              " 'test/16805.jpg',\n",
              " 'test/2346.jpg',\n",
              " 'test/23488.jpg',\n",
              " 'test/19527.jpg',\n",
              " 'test/8854.jpg',\n",
              " 'test/7622.jpg',\n",
              " 'test/16800.jpg',\n",
              " 'test/7022.jpg',\n",
              " 'test/5791.jpg',\n",
              " 'test/11753.jpg',\n",
              " 'test/15282.jpg',\n",
              " 'test/17289.jpg',\n",
              " 'test/23888.jpg',\n",
              " 'test/2552.jpg',\n",
              " 'test/17520.jpg',\n",
              " 'test/23308.jpg',\n",
              " 'test/23984.jpg',\n",
              " 'test/4178.jpg',\n",
              " 'test/13238.jpg',\n",
              " 'test/19344.jpg',\n",
              " 'test/11224.jpg',\n",
              " 'test/1556.jpg',\n",
              " 'test/15047.jpg',\n",
              " 'test/14496.jpg',\n",
              " 'test/13130.jpg',\n",
              " 'test/12385.jpg',\n",
              " 'test/27168.jpg',\n",
              " 'test/22386.jpg',\n",
              " 'test/12426.jpg',\n",
              " 'test/24080.jpg',\n",
              " 'test/18429.jpg',\n",
              " 'test/904.jpg',\n",
              " 'test/19391.jpg',\n",
              " 'test/12257.jpg',\n",
              " 'test/26577.jpg',\n",
              " 'test/4088.jpg',\n",
              " 'test/23762.jpg',\n",
              " 'test/168.jpg',\n",
              " 'test/20333.jpg',\n",
              " 'test/2023.jpg',\n",
              " 'test/18551.jpg',\n",
              " 'test/26367.jpg',\n",
              " 'test/26881.jpg',\n",
              " 'test/17863.jpg',\n",
              " 'test/21824.jpg',\n",
              " 'test/27470.jpg',\n",
              " 'test/19453.jpg',\n",
              " 'test/8763.jpg',\n",
              " 'test/3415.jpg',\n",
              " 'test/2674.jpg',\n",
              " 'test/2843.jpg',\n",
              " 'test/23674.jpg',\n",
              " 'test/16324.jpg',\n",
              " 'test/14934.jpg',\n",
              " 'test/18816.jpg',\n",
              " 'test/16814.jpg',\n",
              " 'test/11131.jpg',\n",
              " 'test/7877.jpg',\n",
              " 'test/8878.jpg',\n",
              " 'test/13491.jpg',\n",
              " 'test/6613.jpg',\n",
              " 'test/399.jpg',\n",
              " 'test/18023.jpg',\n",
              " 'test/17625.jpg',\n",
              " 'test/19853.jpg',\n",
              " 'test/11787.jpg',\n",
              " 'test/9072.jpg',\n",
              " 'test/1322.jpg',\n",
              " 'test/12985.jpg',\n",
              " 'test/9315.jpg',\n",
              " 'test/19152.jpg',\n",
              " 'test/7997.jpg',\n",
              " 'test/13186.jpg',\n",
              " 'test/10366.jpg',\n",
              " 'test/13193.jpg',\n",
              " 'test/24964.jpg',\n",
              " 'test/13311.jpg',\n",
              " 'test/8409.jpg',\n",
              " 'test/23421.jpg',\n",
              " 'test/20499.jpg',\n",
              " 'test/6107.jpg',\n",
              " 'test/4571.jpg',\n",
              " 'test/9486.jpg',\n",
              " 'test/20782.jpg',\n",
              " 'test/205.jpg',\n",
              " 'test/26686.jpg',\n",
              " 'test/12383.jpg',\n",
              " 'test/2335.jpg',\n",
              " 'test/16101.jpg',\n",
              " 'test/21013.jpg',\n",
              " 'test/23293.jpg',\n",
              " 'test/1159.jpg',\n",
              " 'test/7981.jpg',\n",
              " 'test/17146.jpg',\n",
              " 'test/4084.jpg',\n",
              " 'test/20373.jpg',\n",
              " 'test/19061.jpg',\n",
              " 'test/1008.jpg',\n",
              " 'test/18515.jpg',\n",
              " 'test/22350.jpg',\n",
              " 'test/1714.jpg',\n",
              " 'test/22776.jpg',\n",
              " 'test/12266.jpg',\n",
              " 'test/1535.jpg',\n",
              " 'test/20260.jpg',\n",
              " 'test/6964.jpg',\n",
              " 'test/7564.jpg',\n",
              " 'test/24458.jpg',\n",
              " 'test/22023.jpg',\n",
              " 'test/21908.jpg',\n",
              " 'test/15064.jpg',\n",
              " 'test/23197.jpg',\n",
              " 'test/14473.jpg',\n",
              " 'test/19304.jpg',\n",
              " 'test/15244.jpg',\n",
              " 'test/12971.jpg',\n",
              " 'test/17953.jpg',\n",
              " 'test/1012.jpg',\n",
              " 'test/12970.jpg',\n",
              " 'test/14656.jpg',\n",
              " 'test/10590.jpg',\n",
              " 'test/24869.jpg',\n",
              " 'test/11707.jpg',\n",
              " 'test/23207.jpg',\n",
              " 'test/19279.jpg',\n",
              " 'test/5700.jpg',\n",
              " 'test/21673.jpg',\n",
              " 'test/20710.jpg',\n",
              " 'test/3515.jpg',\n",
              " 'test/14554.jpg',\n",
              " 'test/7653.jpg',\n",
              " 'test/4053.jpg',\n",
              " 'test/2945.jpg',\n",
              " 'test/1747.jpg',\n",
              " 'test/24294.jpg',\n",
              " 'test/2894.jpg',\n",
              " 'test/17731.jpg',\n",
              " 'test/11826.jpg',\n",
              " 'test/19471.jpg',\n",
              " 'test/24336.jpg',\n",
              " 'test/22029.jpg',\n",
              " 'test/25487.jpg',\n",
              " 'test/14964.jpg',\n",
              " 'test/20012.jpg',\n",
              " 'test/6052.jpg',\n",
              " 'test/5205.jpg',\n",
              " 'test/22611.jpg',\n",
              " 'test/25199.jpg',\n",
              " 'test/6076.jpg',\n",
              " 'test/1231.jpg',\n",
              " 'test/17914.jpg',\n",
              " 'test/16683.jpg',\n",
              " 'test/834.jpg',\n",
              " 'test/139.jpg',\n",
              " 'test/22376.jpg',\n",
              " 'test/22145.jpg',\n",
              " 'test/13319.jpg',\n",
              " 'test/5699.jpg',\n",
              " 'test/4729.jpg',\n",
              " 'test/9473.jpg',\n",
              " 'test/5835.jpg',\n",
              " 'test/6335.jpg',\n",
              " 'test/24667.jpg',\n",
              " 'test/16512.jpg',\n",
              " 'test/14802.jpg',\n",
              " 'test/23049.jpg',\n",
              " 'test/3732.jpg',\n",
              " 'test/23927.jpg',\n",
              " 'test/18033.jpg',\n",
              " 'test/19418.jpg',\n",
              " 'test/4462.jpg',\n",
              " 'test/24877.jpg',\n",
              " 'test/907.jpg',\n",
              " 'test/21123.jpg',\n",
              " 'test/7987.jpg',\n",
              " 'test/19515.jpg',\n",
              " 'test/5093.jpg',\n",
              " 'test/22577.jpg',\n",
              " 'test/23428.jpg',\n",
              " 'test/24156.jpg',\n",
              " 'test/4030.jpg',\n",
              " 'test/20353.jpg',\n",
              " 'test/16212.jpg',\n",
              " 'test/19761.jpg',\n",
              " 'test/17743.jpg',\n",
              " 'test/2797.jpg',\n",
              " 'test/18102.jpg',\n",
              " 'test/19956.jpg',\n",
              " 'test/17837.jpg',\n",
              " 'test/22941.jpg',\n",
              " 'test/9875.jpg',\n",
              " 'test/5929.jpg',\n",
              " 'test/25404.jpg',\n",
              " 'test/19507.jpg',\n",
              " 'test/13463.jpg',\n",
              " 'test/2800.jpg',\n",
              " 'test/24236.jpg',\n",
              " 'test/374.jpg',\n",
              " 'test/27426.jpg',\n",
              " 'test/15427.jpg',\n",
              " 'test/13881.jpg',\n",
              " 'test/19312.jpg',\n",
              " 'test/20132.jpg',\n",
              " 'test/17741.jpg',\n",
              " 'test/16052.jpg',\n",
              " 'test/16775.jpg',\n",
              " 'test/23889.jpg',\n",
              " 'test/888.jpg',\n",
              " 'test/21640.jpg',\n",
              " 'test/25262.jpg',\n",
              " 'test/19307.jpg',\n",
              " 'test/21420.jpg',\n",
              " 'test/10736.jpg',\n",
              " 'test/15766.jpg',\n",
              " 'test/24128.jpg',\n",
              " 'test/13243.jpg',\n",
              " 'test/13439.jpg',\n",
              " 'test/11060.jpg',\n",
              " 'test/13970.jpg',\n",
              " 'test/7783.jpg',\n",
              " 'test/21039.jpg',\n",
              " 'test/4222.jpg',\n",
              " 'test/5923.jpg',\n",
              " 'test/8861.jpg',\n",
              " 'test/18301.jpg',\n",
              " 'test/8919.jpg',\n",
              " 'test/6582.jpg',\n",
              " 'test/13705.jpg',\n",
              " 'test/13601.jpg',\n",
              " 'test/3574.jpg',\n",
              " 'test/11308.jpg',\n",
              " 'test/2550.jpg',\n",
              " 'test/1982.jpg',\n",
              " 'test/16576.jpg',\n",
              " 'test/12512.jpg',\n",
              " 'test/6793.jpg',\n",
              " 'test/13037.jpg',\n",
              " 'test/13404.jpg',\n",
              " 'test/22171.jpg',\n",
              " 'test/23602.jpg',\n",
              " 'test/23615.jpg',\n",
              " 'test/26414.jpg',\n",
              " 'test/14349.jpg',\n",
              " 'test/17416.jpg',\n",
              " 'test/11247.jpg',\n",
              " 'test/26671.jpg',\n",
              " 'test/12089.jpg',\n",
              " 'test/21654.jpg',\n",
              " 'test/13500.jpg',\n",
              " 'test/7913.jpg',\n",
              " 'test/22310.jpg',\n",
              " 'test/19753.jpg',\n",
              " 'test/11125.jpg',\n",
              " 'test/16663.jpg',\n",
              " 'test/15581.jpg',\n",
              " 'test/21487.jpg',\n",
              " 'test/15955.jpg',\n",
              " 'test/2424.jpg',\n",
              " 'test/26512.jpg',\n",
              " 'test/1836.jpg',\n",
              " 'test/13629.jpg',\n",
              " 'test/13188.jpg',\n",
              " 'test/17511.jpg',\n",
              " 'test/245.jpg',\n",
              " 'test/11848.jpg',\n",
              " 'test/2144.jpg',\n",
              " 'test/25151.jpg',\n",
              " 'test/3190.jpg',\n",
              " 'test/15221.jpg',\n",
              " 'test/11849.jpg',\n",
              " 'test/19926.jpg',\n",
              " 'test/16896.jpg',\n",
              " 'test/20586.jpg',\n",
              " 'test/45.jpg',\n",
              " 'test/5766.jpg',\n",
              " 'test/14999.jpg',\n",
              " 'test/4124.jpg',\n",
              " 'test/21515.jpg',\n",
              " 'test/13138.jpg',\n",
              " 'test/17672.jpg',\n",
              " 'test/6779.jpg',\n",
              " 'test/25562.jpg',\n",
              " 'test/26678.jpg',\n",
              " 'test/7580.jpg',\n",
              " 'test/18361.jpg',\n",
              " 'test/6531.jpg',\n",
              " 'test/4224.jpg',\n",
              " 'test/26431.jpg',\n",
              " 'test/6883.jpg',\n",
              " 'test/4792.jpg',\n",
              " 'test/21853.jpg',\n",
              " 'test/19787.jpg',\n",
              " 'test/12201.jpg',\n",
              " 'test/1897.jpg',\n",
              " 'test/10372.jpg',\n",
              " 'test/10944.jpg',\n",
              " 'test/20891.jpg',\n",
              " 'test/12227.jpg',\n",
              " 'test/4926.jpg',\n",
              " 'test/19276.jpg',\n",
              " 'test/13192.jpg',\n",
              " 'test/1286.jpg',\n",
              " 'test/5013.jpg',\n",
              " 'test/19568.jpg',\n",
              " 'test/1073.jpg',\n",
              " 'test/103.jpg',\n",
              " 'test/12330.jpg',\n",
              " 'test/15056.jpg',\n",
              " 'test/7776.jpg',\n",
              " 'test/23281.jpg',\n",
              " 'test/24115.jpg',\n",
              " 'test/22864.jpg',\n",
              " 'test/3215.jpg',\n",
              " 'test/20404.jpg',\n",
              " 'test/4195.jpg',\n",
              " 'test/3800.jpg',\n",
              " 'test/826.jpg',\n",
              " 'test/2092.jpg',\n",
              " 'test/7559.jpg',\n",
              " 'test/323.jpg',\n",
              " 'test/7917.jpg',\n",
              " 'test/16427.jpg',\n",
              " 'test/10762.jpg',\n",
              " 'test/26560.jpg',\n",
              " 'test/466.jpg',\n",
              " 'test/3827.jpg',\n",
              " 'test/18048.jpg',\n",
              " 'test/17963.jpg',\n",
              " 'test/2561.jpg',\n",
              " 'test/21359.jpg',\n",
              " 'test/13678.jpg',\n",
              " 'test/14340.jpg',\n",
              " 'test/22025.jpg',\n",
              " 'test/11315.jpg',\n",
              " 'test/4018.jpg',\n",
              " 'test/26058.jpg',\n",
              " 'test/8212.jpg',\n",
              " 'test/14920.jpg',\n",
              " 'test/9904.jpg',\n",
              " 'test/15250.jpg',\n",
              " 'test/7426.jpg',\n",
              " 'test/138.jpg',\n",
              " 'test/14922.jpg',\n",
              " 'test/23772.jpg',\n",
              " 'test/23843.jpg',\n",
              " 'test/19168.jpg',\n",
              " 'test/20878.jpg',\n",
              " 'test/733.jpg',\n",
              " 'test/19164.jpg',\n",
              " 'test/9695.jpg',\n",
              " 'test/24663.jpg',\n",
              " 'test/27495.jpg',\n",
              " 'test/23934.jpg',\n",
              " 'test/21073.jpg',\n",
              " 'test/19113.jpg',\n",
              " 'test/1801.jpg',\n",
              " 'test/13241.jpg',\n",
              " 'test/10217.jpg',\n",
              " 'test/12304.jpg',\n",
              " 'test/17985.jpg',\n",
              " 'test/19473.jpg',\n",
              " 'test/11987.jpg',\n",
              " 'test/10199.jpg',\n",
              " 'test/25140.jpg',\n",
              " 'test/21618.jpg',\n",
              " 'test/10144.jpg',\n",
              " 'test/20822.jpg',\n",
              " 'test/1265.jpg',\n",
              " 'test/2647.jpg',\n",
              " 'test/3671.jpg',\n",
              " 'test/10465.jpg',\n",
              " 'test/19791.jpg',\n",
              " 'test/14694.jpg',\n",
              " 'test/5471.jpg',\n",
              " 'test/27604.jpg',\n",
              " 'test/7940.jpg',\n",
              " 'test/23198.jpg',\n",
              " 'test/11628.jpg',\n",
              " 'test/16620.jpg',\n",
              " 'test/18115.jpg',\n",
              " 'test/25892.jpg',\n",
              " 'test/22233.jpg',\n",
              " 'test/23761.jpg',\n",
              " 'test/17677.jpg',\n",
              " 'test/13383.jpg',\n",
              " 'test/27904.jpg',\n",
              " 'test/8182.jpg',\n",
              " 'test/4304.jpg',\n",
              " 'test/12710.jpg',\n",
              " 'test/6862.jpg',\n",
              " 'test/10720.jpg',\n",
              " 'test/16975.jpg',\n",
              " 'test/12832.jpg',\n",
              " 'test/25653.jpg',\n",
              " 'test/4619.jpg',\n",
              " 'test/12395.jpg',\n",
              " 'test/13548.jpg',\n",
              " 'test/14699.jpg',\n",
              " 'test/14482.jpg',\n",
              " 'test/9560.jpg',\n",
              " 'test/6518.jpg',\n",
              " 'test/16695.jpg',\n",
              " 'test/16743.jpg',\n",
              " 'test/3646.jpg',\n",
              " 'test/4087.jpg',\n",
              " 'test/11598.jpg',\n",
              " 'test/2648.jpg',\n",
              " 'test/19107.jpg',\n",
              " 'test/25446.jpg',\n",
              " 'test/2617.jpg',\n",
              " 'test/14982.jpg',\n",
              " 'test/9989.jpg',\n",
              " 'test/5915.jpg',\n",
              " 'test/571.jpg',\n",
              " 'test/23603.jpg',\n",
              " 'test/7740.jpg',\n",
              " 'test/22215.jpg',\n",
              " 'test/1447.jpg',\n",
              " 'test/22947.jpg',\n",
              " 'test/18730.jpg',\n",
              " 'test/21165.jpg',\n",
              " 'test/5626.jpg',\n",
              " 'test/22816.jpg',\n",
              " 'test/8705.jpg',\n",
              " 'test/9471.jpg',\n",
              " 'test/11521.jpg',\n",
              " ...]"
            ]
          },
          "metadata": {
            "tags": []
          },
          "execution_count": 68
        }
      ]
    },
    {
      "metadata": {
        "id": "WYQeJTp23qkx",
        "colab_type": "code",
        "colab": {
          "autoexec": {
            "startup": false,
            "wait_interval": 0
          },
          "base_uri": "https://localhost:8080/",
          "height": 17
        },
        "outputId": "7af26c15-0f58-4474-9d85-4b1e2f123a46",
        "executionInfo": {
          "status": "ok",
          "timestamp": 1524918296680,
          "user_tz": -60,
          "elapsed": 80620,
          "user": {
            "displayName": "Samanyou Garg",
            "photoUrl": "//lh5.googleusercontent.com/-yYTNXw2_dU4/AAAAAAAAAAI/AAAAAAAAVzA/HBeUyWJabjw/s50-c-k-no/photo.jpg",
            "userId": "100740094775367556925"
          }
        }
      },
      "cell_type": "code",
      "source": [
        "# Get predictions on the test set\n",
        "# (We can't get accuracy since by definition we don't know)\n",
        "log_preds, y = learn.TTA(is_test=True)\n",
        "probs = np.mean(np.exp(log_preds), 0)"
      ],
      "execution_count": 69,
      "outputs": [
        {
          "output_type": "stream",
          "text": [
            ""
          ],
          "name": "stdout"
        }
      ]
    },
    {
      "metadata": {
        "id": "Jkm-Tf926OI9",
        "colab_type": "code",
        "colab": {
          "autoexec": {
            "startup": false,
            "wait_interval": 0
          },
          "base_uri": "https://localhost:8080/",
          "height": 204
        },
        "outputId": "2f8472f8-aecb-42c7-86ae-0e087ddd1276",
        "executionInfo": {
          "status": "ok",
          "timestamp": 1524918297194,
          "user_tz": -60,
          "elapsed": 418,
          "user": {
            "displayName": "Samanyou Garg",
            "photoUrl": "//lh5.googleusercontent.com/-yYTNXw2_dU4/AAAAAAAAAAI/AAAAAAAAVzA/HBeUyWJabjw/s50-c-k-no/photo.jpg",
            "userId": "100740094775367556925"
          }
        }
      },
      "cell_type": "code",
      "source": [
        "submission_csv = f'{PATH}sample_submission.csv'\n",
        "submission_df = pd.read_csv(submission_csv)\n",
        "submission_df.head()"
      ],
      "execution_count": 70,
      "outputs": [
        {
          "output_type": "execute_result",
          "data": {
            "text/html": [
              "<div>\n",
              "<style scoped>\n",
              "    .dataframe tbody tr th:only-of-type {\n",
              "        vertical-align: middle;\n",
              "    }\n",
              "\n",
              "    .dataframe tbody tr th {\n",
              "        vertical-align: top;\n",
              "    }\n",
              "\n",
              "    .dataframe thead th {\n",
              "        text-align: right;\n",
              "    }\n",
              "</style>\n",
              "<table border=\"1\" class=\"dataframe\">\n",
              "  <thead>\n",
              "    <tr style=\"text-align: right;\">\n",
              "      <th></th>\n",
              "      <th>ImageId</th>\n",
              "      <th>Label</th>\n",
              "    </tr>\n",
              "  </thead>\n",
              "  <tbody>\n",
              "    <tr>\n",
              "      <th>0</th>\n",
              "      <td>1</td>\n",
              "      <td>0</td>\n",
              "    </tr>\n",
              "    <tr>\n",
              "      <th>1</th>\n",
              "      <td>2</td>\n",
              "      <td>0</td>\n",
              "    </tr>\n",
              "    <tr>\n",
              "      <th>2</th>\n",
              "      <td>3</td>\n",
              "      <td>0</td>\n",
              "    </tr>\n",
              "    <tr>\n",
              "      <th>3</th>\n",
              "      <td>4</td>\n",
              "      <td>0</td>\n",
              "    </tr>\n",
              "    <tr>\n",
              "      <th>4</th>\n",
              "      <td>5</td>\n",
              "      <td>0</td>\n",
              "    </tr>\n",
              "  </tbody>\n",
              "</table>\n",
              "</div>"
            ],
            "text/plain": [
              "   ImageId  Label\n",
              "0        1      0\n",
              "1        2      0\n",
              "2        3      0\n",
              "3        4      0\n",
              "4        5      0"
            ]
          },
          "metadata": {
            "tags": []
          },
          "execution_count": 70
        }
      ]
    },
    {
      "metadata": {
        "id": "JbkrzHXU7TI4",
        "colab_type": "code",
        "colab": {
          "autoexec": {
            "startup": false,
            "wait_interval": 0
          }
        }
      },
      "cell_type": "code",
      "source": [
        "submission_df.insert(0,'filename',[o[5:] for o in data.test_ds.fnames])"
      ],
      "execution_count": 0,
      "outputs": []
    },
    {
      "metadata": {
        "id": "QfTeDB3j7yY-",
        "colab_type": "code",
        "colab": {
          "autoexec": {
            "startup": false,
            "wait_interval": 0
          },
          "base_uri": "https://localhost:8080/",
          "height": 204
        },
        "outputId": "1ad6a57e-f032-4813-fda5-b14a6f12fe47",
        "executionInfo": {
          "status": "ok",
          "timestamp": 1524918298458,
          "user_tz": -60,
          "elapsed": 480,
          "user": {
            "displayName": "Samanyou Garg",
            "photoUrl": "//lh5.googleusercontent.com/-yYTNXw2_dU4/AAAAAAAAAAI/AAAAAAAAVzA/HBeUyWJabjw/s50-c-k-no/photo.jpg",
            "userId": "100740094775367556925"
          }
        }
      },
      "cell_type": "code",
      "source": [
        "submission_df.head()"
      ],
      "execution_count": 72,
      "outputs": [
        {
          "output_type": "execute_result",
          "data": {
            "text/html": [
              "<div>\n",
              "<style scoped>\n",
              "    .dataframe tbody tr th:only-of-type {\n",
              "        vertical-align: middle;\n",
              "    }\n",
              "\n",
              "    .dataframe tbody tr th {\n",
              "        vertical-align: top;\n",
              "    }\n",
              "\n",
              "    .dataframe thead th {\n",
              "        text-align: right;\n",
              "    }\n",
              "</style>\n",
              "<table border=\"1\" class=\"dataframe\">\n",
              "  <thead>\n",
              "    <tr style=\"text-align: right;\">\n",
              "      <th></th>\n",
              "      <th>filename</th>\n",
              "      <th>ImageId</th>\n",
              "      <th>Label</th>\n",
              "    </tr>\n",
              "  </thead>\n",
              "  <tbody>\n",
              "    <tr>\n",
              "      <th>0</th>\n",
              "      <td>18902.jpg</td>\n",
              "      <td>1</td>\n",
              "      <td>0</td>\n",
              "    </tr>\n",
              "    <tr>\n",
              "      <th>1</th>\n",
              "      <td>11314.jpg</td>\n",
              "      <td>2</td>\n",
              "      <td>0</td>\n",
              "    </tr>\n",
              "    <tr>\n",
              "      <th>2</th>\n",
              "      <td>27198.jpg</td>\n",
              "      <td>3</td>\n",
              "      <td>0</td>\n",
              "    </tr>\n",
              "    <tr>\n",
              "      <th>3</th>\n",
              "      <td>643.jpg</td>\n",
              "      <td>4</td>\n",
              "      <td>0</td>\n",
              "    </tr>\n",
              "    <tr>\n",
              "      <th>4</th>\n",
              "      <td>25624.jpg</td>\n",
              "      <td>5</td>\n",
              "      <td>0</td>\n",
              "    </tr>\n",
              "  </tbody>\n",
              "</table>\n",
              "</div>"
            ],
            "text/plain": [
              "    filename  ImageId  Label\n",
              "0  18902.jpg        1      0\n",
              "1  11314.jpg        2      0\n",
              "2  27198.jpg        3      0\n",
              "3    643.jpg        4      0\n",
              "4  25624.jpg        5      0"
            ]
          },
          "metadata": {
            "tags": []
          },
          "execution_count": 72
        }
      ]
    },
    {
      "metadata": {
        "id": "-Drys3ME7_4m",
        "colab_type": "code",
        "colab": {
          "autoexec": {
            "startup": false,
            "wait_interval": 0
          }
        }
      },
      "cell_type": "code",
      "source": [
        "del submission_df['filename']"
      ],
      "execution_count": 0,
      "outputs": []
    },
    {
      "metadata": {
        "id": "4BeYiQM78HtU",
        "colab_type": "code",
        "colab": {
          "autoexec": {
            "startup": false,
            "wait_interval": 0
          }
        }
      },
      "cell_type": "code",
      "source": [
        "Submission=f'{PATH}'\n",
        "submission_df.to_csv(f'{Submission}submission.csv', index=False)"
      ],
      "execution_count": 0,
      "outputs": []
    },
    {
      "metadata": {
        "id": "BAgp1JXH8NWw",
        "colab_type": "code",
        "colab": {
          "autoexec": {
            "startup": false,
            "wait_interval": 0
          }
        }
      },
      "cell_type": "code",
      "source": [
        "from google.colab import files\n",
        "files.download(f'{Submission}submission.csv')"
      ],
      "execution_count": 0,
      "outputs": []
    },
    {
      "metadata": {
        "id": "bMCy7EV0J4t-",
        "colab_type": "code",
        "colab": {
          "autoexec": {
            "startup": false,
            "wait_interval": 0
          }
        }
      },
      "cell_type": "code",
      "source": [
        ""
      ],
      "execution_count": 0,
      "outputs": []
    }
  ]
}