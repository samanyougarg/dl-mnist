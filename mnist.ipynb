{
  "cells": [
    {
      "metadata": {
        "_uuid": "85b40f3efbce971652a9596f2420b1909078eee4"
      },
      "cell_type": "markdown",
      "source": "# Using CNNs for MNIST Handwritten Digit Recognition"
    },
    {
      "metadata": {
        "_uuid": "9045e8ce6248eb1afd669270b9954398bd086585"
      },
      "cell_type": "markdown",
      "source": "## Imports"
    },
    {
      "metadata": {
        "_cell_guid": "b1076dfc-b9ad-4769-8c92-a6c4dae69d19",
        "_uuid": "8f2839f25d086af736a60e9eeb907d3b93b6e0e5",
        "collapsed": true,
        "trusted": true
      },
      "cell_type": "code",
      "source": "# data analysis\nimport pandas as pd\n# for linear algebra\nimport numpy as np\n# plotting library\nimport matplotlib.pyplot as plt\n%matplotlib inline\n# Split the training data into train and validation sets\nfrom sklearn.model_selection import train_test_split\n# Evaluate our model\nfrom sklearn.metrics import confusion_matrix",
      "execution_count": 33,
      "outputs": []
    },
    {
      "metadata": {
        "_cell_guid": "79c7e3d0-c299-4dcb-8224-4455121ee9b0",
        "_uuid": "d629ff2d2480ee46fbb7e2d37f6b5fab8052498a",
        "trusted": true,
        "collapsed": true
      },
      "cell_type": "code",
      "source": "from keras.utils.np_utils import to_categorical\nfrom keras.models import Sequential\nfrom keras.layers import Dense, Dropout, Flatten, Conv2D, MaxPool2D, BatchNormalization\nfrom keras.optimizers import Adam\nfrom keras.preprocessing.image import ImageDataGenerator\nfrom keras.callbacks import LearningRateScheduler",
      "execution_count": 94,
      "outputs": []
    },
    {
      "metadata": {
        "_cell_guid": "b39835e5-f400-465f-916f-d958e2fd8cba",
        "_uuid": "544785484191323eff4a3b60c41f658893f04894",
        "collapsed": true,
        "trusted": true
      },
      "cell_type": "code",
      "source": "PATH = \"../input/\"\ntrain_file = f'{PATH}train.csv'\ntest_file = f'{PATH}test.csv'\noutput_file = \"submission.csv\"",
      "execution_count": 35,
      "outputs": []
    },
    {
      "metadata": {
        "_uuid": "86fec50be44faf12221c6070481b9166d24955cc"
      },
      "cell_type": "markdown",
      "source": "## Load Data"
    },
    {
      "metadata": {
        "_cell_guid": "5a25b534-377e-4cde-a981-d70c60b560ea",
        "_uuid": "34dc3262d57ced8c9e93d6f5ecc15ee433fd2b13",
        "trusted": true,
        "collapsed": true
      },
      "cell_type": "code",
      "source": "# Load the csv file using numpy\ndata = np.loadtxt(train_file, skiprows=1, dtype='int', delimiter=',')\n# Split training data into train and valid sets\n# First argument takes all the rows and all the columns after the first\n# column(labels) and second argument takes the labels (i.e first column)\nx_train, x_val, y_train, y_val = train_test_split(\n    data[:,1:], data[:,0], test_size=0.1)",
      "execution_count": 36,
      "outputs": []
    },
    {
      "metadata": {
        "_uuid": "bff23be8cefe0e67b736ed8cb5e07df07bfcecc2"
      },
      "cell_type": "markdown",
      "source": "We need to reshape the data for Keras. Since, these images are not RGB, we only have one channel at the end."
    },
    {
      "metadata": {
        "trusted": true,
        "collapsed": true,
        "_uuid": "40c2e6dfcdeafdc3f917523f36b11d1bfa08faa8"
      },
      "cell_type": "code",
      "source": "x_train = x_train.reshape(-1, 28, 28, 1)\nx_val = x_val.reshape(-1, 28, 28, 1)",
      "execution_count": 37,
      "outputs": []
    },
    {
      "metadata": {
        "_uuid": "f4b0562fec7cdfbd50a4d18cc1fa0a0958c54806"
      },
      "cell_type": "markdown",
      "source": "Each of the images in the train and valid sets have pixel values between 0 and 255. We divide these by 255 to make all the values between 0 and 1."
    },
    {
      "metadata": {
        "collapsed": true,
        "trusted": true,
        "_uuid": "68725f94a8262c9689dda1e0a4bf159d59f12dbd"
      },
      "cell_type": "code",
      "source": "x_train = x_train.astype(\"float32\")/255.\nx_val = x_val.astype(\"float32\")/255.",
      "execution_count": 38,
      "outputs": []
    },
    {
      "metadata": {
        "_uuid": "c8706eaf01ec1c8c4e34c71917d893ac49786092"
      },
      "cell_type": "markdown",
      "source": "We use One-hot encoding to convert the label values(orginally, between 0-9) to a 10x1 array where each label will have one \"1\" and nine \"0\"s where \"1\" tells us the value of the label. "
    },
    {
      "metadata": {
        "trusted": true,
        "_uuid": "1941b20d4bc3abd0af32ea27329c6ff3b588e015"
      },
      "cell_type": "code",
      "source": "y_train = to_categorical(y_train)\ny_val = to_categorical(y_val)\n#example:\nprint(y_train[0])",
      "execution_count": 39,
      "outputs": [
        {
          "name": "stdout",
          "output_type": "stream",
          "text": "[0. 0. 0. 0. 0. 0. 1. 0. 0. 0.]\n"
        }
      ]
    },
    {
      "metadata": {
        "_uuid": "8a6d7f843a4740e744491ddd5db9b1932de2898d"
      },
      "cell_type": "markdown",
      "source": "## Model"
    },
    {
      "metadata": {
        "collapsed": true,
        "trusted": true,
        "_uuid": "0ac7a4ede8112a8e91f21db4ed3591ff344f6c23"
      },
      "cell_type": "code",
      "source": "model = Sequential()\n\n# Convolution layer with input image shape (28x28x1), relu activation, \n# kernel size of 3x3 and output image of size 16x16.\nmodel.add(Conv2D(filters = 16, kernel_size = (3, 3), activation='relu',\n                 input_shape = (28, 28, 1)))\n# Batch Normalization\nmodel.add(BatchNormalization())\nmodel.add(Conv2D(filters = 16, kernel_size = (3, 3), activation='relu'))\nmodel.add(BatchNormalization())\nmodel.add(MaxPool2D(strides=(2,2)))\n# Drop 1/4th of the activations\nmodel.add(Dropout(0.25))\n\nmodel.add(Conv2D(filters = 32, kernel_size = (3, 3), activation='relu'))\nmodel.add(BatchNormalization())\nmodel.add(Conv2D(filters = 32, kernel_size = (3, 3), activation='relu'))\nmodel.add(BatchNormalization())\nmodel.add(MaxPool2D(strides=(2,2)))\nmodel.add(Dropout(0.25))\n\nmodel.add(Flatten())\n# Dense(Fully Connected Layer) with output image of size 512x512\nmodel.add(Dense(512, activation='relu'))\nmodel.add(Dropout(0.25))\nmodel.add(Dense(1024, activation='relu'))\nmodel.add(Dropout(0.5))\n# We use softmax because we have more than 2 output classes\nmodel.add(Dense(10, activation='softmax'))",
      "execution_count": 101,
      "outputs": []
    },
    {
      "metadata": {
        "_uuid": "e1850bb197ee391b02a3cf44e28c43ff23e6a334"
      },
      "cell_type": "markdown",
      "source": "## Data Augmentation"
    },
    {
      "metadata": {
        "collapsed": true,
        "trusted": true,
        "_uuid": "41f711e0f257b34f2f1ed50aa0c9166b5312d74e"
      },
      "cell_type": "code",
      "source": "datagen = ImageDataGenerator(zoom_range = 0.1,\n                            height_shift_range = 0.1,\n                            width_shift_range = 0.1,\n                            rotation_range = 10)",
      "execution_count": 102,
      "outputs": []
    },
    {
      "metadata": {
        "trusted": true,
        "collapsed": true,
        "_uuid": "705e0b7fd0ca5c4810fce401a84acec316b52922"
      },
      "cell_type": "code",
      "source": "model.compile(loss='categorical_crossentropy', optimizer = Adam(lr=1e-4), metrics=[\"accuracy\"])",
      "execution_count": 103,
      "outputs": []
    },
    {
      "metadata": {
        "_uuid": "34cd2b15bca8122d1b0042fbfe73fa95d15ee7c6"
      },
      "cell_type": "markdown",
      "source": "We train once with a smaller learning rate to ensure convergence. We then speed things up, only to reduce the learning rate by 10% every epoch."
    },
    {
      "metadata": {
        "collapsed": true,
        "trusted": true,
        "_uuid": "4812e4600758d2b0f90052d9059fbc23130ea6b7"
      },
      "cell_type": "code",
      "source": "annealer = LearningRateScheduler(lambda x: 1e-3 * 0.9 ** x)",
      "execution_count": 104,
      "outputs": []
    },
    {
      "metadata": {
        "trusted": true,
        "_uuid": "ebd3bcecb03aa4c5ea0e96dbdcc3cac40802a2bb"
      },
      "cell_type": "code",
      "source": "hist = model.fit_generator(datagen.flow(x_train, y_train, batch_size=64),\n                           steps_per_epoch=500,\n                           epochs=20,\n                           verbose=2,\n                           validation_data=(x_val, y_val),\n                           callbacks=[annealer])",
      "execution_count": 105,
      "outputs": [
        {
          "name": "stdout",
          "output_type": "stream",
          "text": "Epoch 1/20\n - 17s - loss: 0.4799 - acc: 0.8468 - val_loss: 0.0831 - val_acc: 0.9743\nEpoch 2/20\n - 14s - loss: 0.1603 - acc: 0.9502 - val_loss: 0.0555 - val_acc: 0.9836\nEpoch 3/20\n - 14s - loss: 0.1203 - acc: 0.9638 - val_loss: 0.0551 - val_acc: 0.9845\nEpoch 4/20\n - 14s - loss: 0.0989 - acc: 0.9708 - val_loss: 0.0421 - val_acc: 0.9893\nEpoch 5/20\n - 14s - loss: 0.0878 - acc: 0.9734 - val_loss: 0.0425 - val_acc: 0.9888\nEpoch 6/20\n - 14s - loss: 0.0829 - acc: 0.9747 - val_loss: 0.0421 - val_acc: 0.9886\nEpoch 7/20\n - 14s - loss: 0.0742 - acc: 0.9783 - val_loss: 0.0319 - val_acc: 0.9912\nEpoch 8/20\n - 14s - loss: 0.0671 - acc: 0.9791 - val_loss: 0.0336 - val_acc: 0.9912\nEpoch 9/20\n - 14s - loss: 0.0640 - acc: 0.9813 - val_loss: 0.0314 - val_acc: 0.9926\nEpoch 10/20\n - 14s - loss: 0.0589 - acc: 0.9825 - val_loss: 0.0300 - val_acc: 0.9921\nEpoch 11/20\n - 14s - loss: 0.0556 - acc: 0.9836 - val_loss: 0.0292 - val_acc: 0.9929\nEpoch 12/20\n - 14s - loss: 0.0491 - acc: 0.9847 - val_loss: 0.0305 - val_acc: 0.9929\nEpoch 13/20\n - 14s - loss: 0.0495 - acc: 0.9843 - val_loss: 0.0254 - val_acc: 0.9940\nEpoch 14/20\n - 14s - loss: 0.0498 - acc: 0.9845 - val_loss: 0.0221 - val_acc: 0.9945\nEpoch 15/20\n - 14s - loss: 0.0449 - acc: 0.9858 - val_loss: 0.0248 - val_acc: 0.9931\nEpoch 16/20\n - 14s - loss: 0.0424 - acc: 0.9873 - val_loss: 0.0220 - val_acc: 0.9940\nEpoch 17/20\n - 14s - loss: 0.0404 - acc: 0.9870 - val_loss: 0.0248 - val_acc: 0.9933\nEpoch 18/20\n - 14s - loss: 0.0392 - acc: 0.9879 - val_loss: 0.0240 - val_acc: 0.9940\nEpoch 19/20\n - 14s - loss: 0.0401 - acc: 0.9878 - val_loss: 0.0214 - val_acc: 0.9943\nEpoch 20/20\n - 14s - loss: 0.0380 - acc: 0.9885 - val_loss: 0.0234 - val_acc: 0.9940\n"
        }
      ]
    },
    {
      "metadata": {
        "_uuid": "999df56ee4ae817039c2ad650fed0729dab99cca"
      },
      "cell_type": "markdown",
      "source": "## Evaluate"
    },
    {
      "metadata": {
        "trusted": true,
        "_uuid": "53ea93b85eab92ac4debf3c5f5f5a77d117d3045"
      },
      "cell_type": "code",
      "source": "final_loss, final_acc = model.evaluate(x_val, y_val, verbose=0)\nprint(\"Final loss: {0:.4f}, final accuracy: {1:.4f}\".format(final_loss, final_acc))",
      "execution_count": 106,
      "outputs": [
        {
          "name": "stdout",
          "output_type": "stream",
          "text": "Final loss: 0.0234, final accuracy: 0.9940\n"
        }
      ]
    },
    {
      "metadata": {
        "trusted": true,
        "_uuid": "b1574d11506371b2b102f02dc3023e0ef238e146"
      },
      "cell_type": "code",
      "source": "plt.plot(hist.history['loss'], color='b')\nplt.plot(hist.history['val_loss'], color='r')\nplt.show()\nplt.plot(hist.history['acc'], color='b')\nplt.plot(hist.history['val_acc'], color='r')\nplt.show()",
      "execution_count": 56,
      "outputs": [
        {
          "data": {
            "image/png": "[encoded data removed]",
            "text/plain": "<matplotlib.figure.Figure at 0x7f0a6d789e48>"
          },
          "metadata": {},
          "output_type": "display_data"
        },
        {
          "data": {
            "image/png": "[encoded data removed]",
            "text/plain": "<matplotlib.figure.Figure at 0x7f0aa5b48470>"
          },
          "metadata": {},
          "output_type": "display_data"
        }
      ]
    },
    {
      "metadata": {
        "trusted": true,
        "_uuid": "0d647937b0a18e652ed5af2883528aa441268194"
      },
      "cell_type": "code",
      "source": "y_hat = model.predict(x_val)\ny_pred = np.argmax(y_hat, axis=1)\ny_true = np.argmax(y_val, axis=1)\ncm = confusion_matrix(y_true, y_pred)\nprint(cm)",
      "execution_count": 57,
      "outputs": [
        {
          "name": "stdout",
          "output_type": "stream",
          "text": "[[388   0   0   0   1   0   0   1   0   3]\n [  0 484   1   0   0   0   0   2   0   0]\n [  0   0 436   1   0   0   0   3   0   1]\n [  0   0   1 441   0   0   0   2   0   0]\n [  1   0   1   0 369   0   0   1   0   1]\n [  0   0   0   2   0 395   1   0   2   1]\n [  2   0   0   0   0   1 420   0   1   0]\n [  0   1   0   0   3   0   0 427   0   2]\n [  0   0   0   0   0   0   0   0 362   1]\n [  1   0   0   0   1   0   0   3   0 436]]\n"
        }
      ]
    },
    {
      "metadata": {
        "collapsed": true,
        "trusted": true,
        "_uuid": "6d43590f1985ca9844e7020367c3af4ca2d2a2b0"
      },
      "cell_type": "code",
      "source": "mnist_testset = np.loadtxt(test_file, skiprows=1, dtype='int', delimiter=',')\nx_test = mnist_testset.astype(\"float32\")\nx_test = x_test.reshape(-1, 28, 28, 1)/255.",
      "execution_count": 58,
      "outputs": []
    },
    {
      "metadata": {
        "_uuid": "a5f2b7b46bfaaeb4e8a228fb3d128a018f3308eb"
      },
      "cell_type": "markdown",
      "source": "y_hat consists of class probabilities (corresponding to the one-hot encoding of the training labels)."
    },
    {
      "metadata": {
        "collapsed": true,
        "trusted": true,
        "_uuid": "9a1e17cf8076ec9884e391c9efcf0d5d17e453eb"
      },
      "cell_type": "code",
      "source": "y_hat = model.predict(x_test, batch_size=64)",
      "execution_count": 59,
      "outputs": []
    },
    {
      "metadata": {
        "_uuid": "980e268e9108c843724ecde2dd464e3e9b5edc24"
      },
      "cell_type": "markdown",
      "source": "Grab the maximum value from the array, corresponding to the number that has on-hot encoded value \"1\"."
    },
    {
      "metadata": {
        "collapsed": true,
        "trusted": true,
        "_uuid": "1141a077c95d57dd5e1fe8f7a99d0e9a53d3e00f"
      },
      "cell_type": "code",
      "source": "y_pred = np.argmax(y_hat,axis=1)",
      "execution_count": 60,
      "outputs": []
    },
    {
      "metadata": {
        "collapsed": true,
        "trusted": true,
        "_uuid": "c93bfa297144e2302259e07b62fd7f275a82ad99"
      },
      "cell_type": "code",
      "source": "with open(output_file, 'w') as f :\n    f.write('ImageId,Label\\n')\n    for i in range(len(y_pred)) :\n        f.write(\"\".join([str(i+1),',',str(y_pred[i]),'\\n']))",
      "execution_count": 61,
      "outputs": []
    },
    {
      "metadata": {
        "collapsed": true,
        "trusted": true,
        "_uuid": "225560df3ff8cf00eef45ad997a6ebb49754e69d"
      },
      "cell_type": "code",
      "source": "",
      "execution_count": null,
      "outputs": []
    }
  ],
  "metadata": {
    "kernelspec": {
      "display_name": "Python 3",
      "language": "python",
      "name": "python3"
    },
    "language_info": {
      "name": "python",
      "version": "3.6.4",
      "mimetype": "text/x-python",
      "codemirror_mode": {
        "name": "ipython",
        "version": 3
      },
      "pygments_lexer": "ipython3",
      "nbconvert_exporter": "python",
      "file_extension": ".py"
    }
  },
  "nbformat": 4,
  "nbformat_minor": 1
}